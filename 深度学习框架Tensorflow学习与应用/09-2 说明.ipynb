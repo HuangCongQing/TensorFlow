{
 "metadata": {
  "language_info": {
   "codemirror_mode": {
    "name": "ipython",
    "version": 3
   },
   "file_extension": ".py",
   "mimetype": "text/x-python",
   "name": "python",
   "nbconvert_exporter": "python",
   "pygments_lexer": "ipython3",
   "version": 3
  },
  "orig_nbformat": 2
 },
 "nbformat": 4,
 "nbformat_minor": 2,
 "cells": [
  {
   "cell_type": "markdown",
   "metadata": {},
   "source": [
    "# 文档\n",
    "## 训练自己的分类模型 三种方法 微调（Fine-tuning）\n",
    "1. 从无到有用inception\n",
    "2. 基于原有模型改造\n",
    "    1. 固定前面的参数，只训练一层\n",
    "3. 和上一种一样差不多，只不过前面学习率微调\n",
    "\n",
    "code：https://github.com/tensorflow/tensorflow/tree/master/tensorflow/examples/image_retraining\n",
    "数据集下载：http://www.robots.ox.ac.uk/~vgg/data/\n",
    "\n",
    "\n"
   ]
  },
  {
   "cell_type": "code",
   "execution_count": null,
   "metadata": {},
   "outputs": [],
   "source": []
  }
 ]
}