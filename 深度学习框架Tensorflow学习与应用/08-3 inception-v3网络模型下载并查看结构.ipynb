{
 "metadata": {
  "language_info": {
   "codemirror_mode": {
    "name": "ipython",
    "version": 3
   },
   "file_extension": ".py",
   "mimetype": "text/x-python",
   "name": "python",
   "nbconvert_exporter": "python",
   "pygments_lexer": "ipython3",
   "version": 3
  },
  "orig_nbformat": 2,
  "kernelspec": {
   "name": "python_defaultSpec_1596422073727",
   "display_name": "Python 3.5.4 64-bit"
  }
 },
 "nbformat": 4,
 "nbformat_minor": 2,
 "cells": [
  {
   "cell_type": "markdown",
   "metadata": {},
   "source": [
    "## 补充\n",
    "\n",
    "* 下载的inception_model文件夹过大，就不上传至github了\n",
    "* inception系列介绍：https://imlogm.github.io/%E6%B7%B1%E5%BA%A6%E5%AD%A6%E4%B9%A0/inception/\n",
    "```\n",
    "GoogLeNet（Inception-v1）：相比AlexNet和VGG，出现了多支路，引入了1×1卷积帮助减少网络计算量\n",
    "Inception-v2：引入Batch Normalization(BN)；5×5卷积使用两个3×3卷积代替\n",
    "Inception-v3：n×n卷积分割为1×n和n×1两个卷积\n",
    "Inception-v4：进一步优化，引入ResNet的shortcut思想\n",
    "```"
   ]
  },
  {
   "cell_type": "code",
   "execution_count": 3,
   "metadata": {},
   "outputs": [],
   "source": [
    "import tensorflow as tf\n",
    "import os\n",
    "import tarfile\n",
    "import requests"
   ]
  },
  {
   "cell_type": "code",
   "execution_count": 5,
   "metadata": {
    "tags": []
   },
   "outputs": [
    {
     "output_type": "stream",
     "name": "stdout",
     "text": "finish:  inception-2015-12-05.tgz\nWARNING: Logging before flag parsing goes to stderr.\nW0803 11:16:59.486332 10508 deprecation.py:323] From <ipython-input-5-377099d04e15>:33: FastGFile.__init__ (from tensorflow.python.platform.gfile) is deprecated and will be removed in a future version.\nInstructions for updating:\nUse tf.gfile.GFile.\n"
    }
   ],
   "source": [
    "# inception模型下载\n",
    "inception_pretrain_model_url = 'http://download.tensorflow.org/models/image/imagenet/inception-2015-12-05.tgz'\n",
    "# 模型存放地址\n",
    "inception_pretrain_model_dir = \"inception_model\"\n",
    "if not os.path.exists(inception_pretrain_model_dir): # 不存在文件夹则新建文件夹\n",
    "    os.makedirs(inception_pretrain_model_dir)\n",
    "\n",
    "# 获取文件名以及文件路径\n",
    "filename = inception_pretrain_model_url.split('/')[-1]\n",
    "filepath = os.path.join(inception_pretrain_model_dir,filename)\n",
    "\n",
    "# 下载模型\n",
    "if not os.path.exists(filepath):\n",
    "    print('download:',filename)\n",
    "    r = requests.get(inception_pretrain_model_url, stream=True)\n",
    "    with open(filepath, 'wb') as f:\n",
    "        for chunk in r.iter_content(chunk_size=1024):\n",
    "            if chunk:\n",
    "                f.write(chunk)\n",
    "print('finish: ',filename)\n",
    "\n",
    "#解压文件\n",
    "tarfile.open(filepath, 'r:gz').extractall(inception_pretrain_model_dir)\n",
    "\n",
    "log_dir = 'logs/inception_log'\n",
    "if not os.path.exists(log_dir):\n",
    "    os.makedirs(log_dir)\n",
    "    \n",
    "# classfy_image_graph_def.pb 为google训练好的模型\n",
    "inception_graph_def_fiel = os.path.join(inception_pretrain_model_dir,'classify_image_graph_def.pb') # 解压后的文件classify_image_graph_def.pb\n",
    "with tf.Session() as sess:\n",
    "    #创建一个图来存放google训练好的模型\n",
    "    with tf.gfile.FastGFile(inception_graph_def_fiel, 'rb') as f:\n",
    "        graph_def = tf.GraphDef()\n",
    "#         graph_def.ParseFromSring(f.read())\n",
    "        graph_def.ParseFromString(f.read())\n",
    "        tf.import_graph_def(graph_def, name='')\n",
    "    \n",
    "    # 保存图的结构\n",
    "    writer = tf.summary.FileWriter(log_dir, sess.graph)\n",
    "    writer.close()"
   ]
  },
  {
   "cell_type": "code",
   "execution_count": null,
   "metadata": {},
   "outputs": [],
   "source": []
  }
 ]
}