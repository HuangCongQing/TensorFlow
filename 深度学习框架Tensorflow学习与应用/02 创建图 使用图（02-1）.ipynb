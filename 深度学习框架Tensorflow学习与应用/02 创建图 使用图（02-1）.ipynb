{
 "metadata": {
  "language_info": {
   "codemirror_mode": {
    "name": "ipython",
    "version": 3
   },
   "file_extension": ".py",
   "mimetype": "text/x-python",
   "name": "python",
   "nbconvert_exporter": "python",
   "pygments_lexer": "ipython3",
   "version": 3
  },
  "orig_nbformat": 2,
  "kernelspec": {
   "name": "python_defaultSpec_1595555555678",
   "display_name": "Python 3.5.4 64-bit"
  }
 },
 "nbformat": 4,
 "nbformat_minor": 2,
 "cells": [
  {
   "cell_type": "markdown",
   "metadata": {},
   "source": [
    "### 补充知识点\n",
    "* Tab补全"
   ]
  },
  {
   "cell_type": "code",
   "execution_count": 2,
   "metadata": {},
   "outputs": [],
   "source": [
    "import tensorflow as tf"
   ]
  },
  {
   "cell_type": "code",
   "execution_count": 4,
   "metadata": {
    "tags": []
   },
   "outputs": [
    {
     "output_type": "stream",
     "name": "stdout",
     "text": "Tensor(\"MatMul_1:0\", shape=(1, 1), dtype=int32)\n"
    }
   ],
   "source": [
    "# 创建2个常量op\n",
    "m1 = tf.constant([[3,3]])\n",
    "m2 = tf.constant([[2],[3]])\n",
    "#创建一个矩阵乘法op，把m1和m2传入\n",
    "product=tf.matmul(m1,m2)    \n",
    "print (product)    #这里将输出一个Tensor(没有放在Session中，不会执行)\n"
   ]
  },
  {
   "cell_type": "code",
   "execution_count": 5,
   "metadata": {
    "tags": []
   },
   "outputs": [
    {
     "output_type": "stream",
     "name": "stdout",
     "text": "[[15]]\n"
    }
   ],
   "source": [
    "#定义一个会话1，启动默认图（y有一个默认图）\n",
    "sess=tf.Session()  #旧版本\n",
    "result=sess.run(product)    #调用run方法来执行矩阵乘法，触发三个OP\n",
    "print(result)\n",
    "sess.close()"
   ]
  },
  {
   "cell_type": "code",
   "execution_count": 6,
   "metadata": {
    "tags": []
   },
   "outputs": [
    {
     "output_type": "stream",
     "name": "stdout",
     "text": "[[15]]\n"
    }
   ],
   "source": [
    "#另一种定义会话的方式（常用）\n",
    "# 自动关闭会话-sess.close()\n",
    "with tf.Session() as sess: # 别忘了加引号\n",
    "    result = sess.run(product)\n",
    "    print(result)"
   ]
  },
  {
   "cell_type": "code",
   "execution_count": null,
   "metadata": {},
   "outputs": [],
   "source": []
  }
 ]
}