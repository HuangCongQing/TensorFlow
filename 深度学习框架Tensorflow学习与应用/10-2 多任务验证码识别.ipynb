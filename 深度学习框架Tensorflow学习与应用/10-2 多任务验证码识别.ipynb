{
 "metadata": {
  "language_info": {
   "codemirror_mode": {
    "name": "ipython",
    "version": 3
   },
   "file_extension": ".py",
   "mimetype": "text/x-python",
   "name": "python",
   "nbconvert_exporter": "python",
   "pygments_lexer": "ipython3",
   "version": 3
  },
  "orig_nbformat": 2,
  "kernelspec": {
   "name": "python_defaultSpec_1596769825599",
   "display_name": "Python 3.5.4 64-bit"
  }
 },
 "nbformat": 4,
 "nbformat_minor": 2,
 "cells": [
  {
   "cell_type": "markdown",
   "metadata": {},
   "source": [
    "## 补充\n",
    "\n",
    "\n"
   ]
  },
  {
   "cell_type": "code",
   "execution_count": null,
   "metadata": {},
   "outputs": [],
   "source": [
    "\n",
    "import tensorflow as tf\n",
    "from PIL import Image\n",
    "from nets import nets_factory\n",
    "import numpy as np"
   ]
  },
  {
   "cell_type": "code",
   "execution_count": null,
   "metadata": {},
   "outputs": [],
   "source": [
    "# 字符集\n",
    "CHAR_SET = [str(i) for i in range(10)]\n",
    "CHAR_SET_LEN = len(CHAR_SET)\n",
    "# 训练集大小\n",
    "TRAIN_NUM = 5800\n",
    "# 批次大小\n",
    "BATCH_SIZE = 128\n",
    "# 迭代次数\n",
    "EPOCHES = 30\n",
    "# 循环次数\n",
    "LOOP_TIMES = EPOCHES*TRAIN_NUM//BATCH_SIZE\n",
    "# tf文件\n",
    "TFRECORD_FILE = '10captcha/train.tfrecord'\n",
    "\n",
    "# 初始学习率\n",
    "LEARNING_RATE = 0.001"
   ]
  }
 ]
}