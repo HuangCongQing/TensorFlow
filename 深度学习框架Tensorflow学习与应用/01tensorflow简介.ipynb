{
 "metadata": {
  "language_info": {
   "codemirror_mode": {
    "name": "ipython",
    "version": 3
   },
   "file_extension": ".py",
   "mimetype": "text/x-python",
   "name": "python",
   "nbconvert_exporter": "python",
   "pygments_lexer": "ipython3",
   "version": 3
  },
  "orig_nbformat": 2
 },
 "nbformat": 4,
 "nbformat_minor": 2,
 "cells": [
  {
   "cell_type": "markdown",
   "metadata": {},
   "source": [
    "<br />接口查看手册：[TensorFlow官方文档（中文可搜索）](https://www.w3cschool.cn/tensorflow_python/)<br />\n",
    "<br />**要使用TensorFlow，我们必须理解TensorFlow：**<br />\n",
    "\n",
    "> - **使用图（Graph）表示计算任务**\n",
    "> - **在会话（Session）中执行图**\n",
    "> - **使用张量（Tensor）表示数据**\n",
    "> - **使用变量（Variable）维护状态**\n",
    "> - **使用feed和fetch为任意的操作赋值或从中获取数据**\n",
    "\n",
    "\n",
    "\n",
    "Tensorflow是一个编程系统，使用图（graphs）来表示计算任务，图（graphs）中的节点称之为op（operation），每个OP接受0到多个Tensor，执行计算，输出0到多个Tensor。\n",
    "\n",
    "- 图必须在会话（Session）里被启动。\n",
    "- Session将计算图的OP分配到CPU或GPU等计算单元，并提供相关的计算方法，并且会返回OP的结果。\n",
    "> **图---节点OP(加减乘除)--Tensor    图必须在会话（Session）里被启动。**\n",
    "\n",
    "这些数据“线”可以输运“size可动态调整”的**多维数据数组，即“张量”（tensor）**\n",
    "\n",
    "- tensorflow  张量流"
   ]
  },
  {
   "cell_type": "code",
   "execution_count": null,
   "metadata": {},
   "outputs": [],
   "source": []
  }
 ]
}