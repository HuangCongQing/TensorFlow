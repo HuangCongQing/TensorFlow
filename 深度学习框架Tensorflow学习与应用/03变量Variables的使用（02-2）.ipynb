{
 "metadata": {
  "language_info": {
   "codemirror_mode": {
    "name": "ipython",
    "version": 3
   },
   "file_extension": ".py",
   "mimetype": "text/x-python",
   "name": "python",
   "nbconvert_exporter": "python",
   "pygments_lexer": "ipython3",
   "version": 3
  },
  "orig_nbformat": 2,
  "kernelspec": {
   "name": "python_defaultSpec_1595556034934",
   "display_name": "Python 3.5.4 64-bit"
  }
 },
 "nbformat": 4,
 "nbformat_minor": 2,
 "cells": [
  {
   "cell_type": "markdown",
   "metadata": {},
   "source": [
    "# 变量使用(补充)\n",
    "* shift+tab查看函数描述(鼠标放上就行)\n",
    "* tf.add()、tf.subtract()、tf.multiply()、tf.div()函数介绍 https://blog.csdn.net/qq_36512295/article/details/100600390\n",
    "* tf.assign() 赋值操作"
   ]
  },
  {
   "cell_type": "code",
   "execution_count": 3,
   "metadata": {},
   "outputs": [],
   "source": [
    "import tensorflow as tf"
   ]
  },
  {
   "cell_type": "code",
   "execution_count": 18,
   "metadata": {
    "tags": []
   },
   "outputs": [
    {
     "output_type": "stream",
     "name": "stdout",
     "text": "[-2 -1]\n[-1  1]\n"
    }
   ],
   "source": [
    "x = tf.Variable([1,2]) # 变量必须初始化，否则报错\n",
    "a = tf.constant([3,3])\n",
    "#增加一个减法op\n",
    "sub=tf.subtract(x, a)   \n",
    "# 加法op\n",
    "add = tf.add(x,sub)# 注意：x和sub相加\n",
    "\n",
    "# 注意变量使用之前要再sess中做初始化，但是下边这种初始化方法不会指定变量的初始化顺序\n",
    "init= tf.global_variables_initializer()\n",
    "\n",
    "with tf.Session() as sess:# tf.Session()别忘了加小括号\n",
    "    sess.run(init)\n",
    "    print(sess.run(sub))\n",
    "    print(sess.run(add))"
   ]
  },
  {
   "cell_type": "code",
   "execution_count": 26,
   "metadata": {
    "tags": []
   },
   "outputs": [
    {
     "output_type": "stream",
     "name": "stdout",
     "text": "0\n1\n2\n3\n4\n5\n"
    }
   ],
   "source": [
    "# 穿件一个变量初始化为0\n",
    "state = tf.Variable(0, name=\"count\")\n",
    "# 创建一个op，作用是state+1\n",
    "new_value = tf.add(state, 1)\n",
    "# 赋值\n",
    "update = tf.assign(state, new_value)\n",
    "# 变量初始化\n",
    "init = tf.global_variables_initializer()\n",
    "\n",
    "with tf.Session() as sess:\n",
    "    sess.run(init)\n",
    "    print(sess.run(state))\n",
    "    for _ in range(5):\n",
    "        sess.run(update)\n",
    "        print(sess.run(state))"
   ]
  },
  {
   "cell_type": "code",
   "execution_count": null,
   "metadata": {},
   "outputs": [],
   "source": []
  }
 ]
}