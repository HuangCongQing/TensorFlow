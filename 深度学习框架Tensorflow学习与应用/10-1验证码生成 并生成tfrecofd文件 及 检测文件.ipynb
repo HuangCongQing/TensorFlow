{
 "metadata": {
  "language_info": {
   "codemirror_mode": {
    "name": "ipython",
    "version": 3
   },
   "file_extension": ".py",
   "mimetype": "text/x-python",
   "name": "python",
   "nbconvert_exporter": "python",
   "pygments_lexer": "ipython3",
   "version": 3
  },
  "orig_nbformat": 2,
  "kernelspec": {
   "name": "python_defaultSpec_1596764732116",
   "display_name": "Python 3.5.4 64-bit"
  }
 },
 "nbformat": 4,
 "nbformat_minor": 2,
 "cells": [
  {
   "cell_type": "code",
   "execution_count": 37,
   "metadata": {},
   "outputs": [],
   "source": [
    "from captcha.image import ImageCaptcha # 验证码生成库 （本代码用这个库）\n",
    "import numpy as np\n",
    "from PIL import Image # 处理图像的包\n",
    "import random\n",
    "import sys\n",
    "import os\n",
    "import tensorflow as tf\n",
    "import matplotlib.pyplot as plt"
   ]
  },
  {
   "cell_type": "code",
   "execution_count": 38,
   "metadata": {
    "tags": []
   },
   "outputs": [
    {
     "output_type": "stream",
     "name": "stdout",
     "text": "['0', '1', '2', '3', '4', '5', '6', '7', '8', '9']\n['a', 'b', 'c', 'd', 'e', 'f', 'g', 'h', 'i', 'j', 'k', 'l', 'm', 'n', 'o', 'p', 'q', 'r', 's', 't', 'u', 'v', 'w', 'x', 'y', 'z']\n['A', 'B', 'C', 'D', 'E', 'F', 'G', 'H', 'I', 'J', 'K', 'L', 'M', 'N', 'O', 'P', 'Q', 'R', 'S', 'T', 'U', 'V', 'W', 'X', 'Y', 'Z']\n"
    }
   ],
   "source": [
    "number = [str(i) for i in range(10)]\n",
    "little = [chr(i) for i in range(97,123)]\n",
    "large = [chr(i) for i in range(65,91)]\n",
    "print(number)\n",
    "print(little)\n",
    "print(large)\n",
    "CHAR_SET = number # 数组"
   ]
  },
  {
   "cell_type": "markdown",
   "metadata": {},
   "source": [
    "##  生成验证码\n",
    "\n",
    "如果报错：\n",
    "AttributeError: module 'random' has no attribute 'choices'\n",
    "\n",
    "问题：choices is added in version 3.6. Presumably the live server uses an older version while you locally use 3.6.\n",
    "\n",
    "---\n",
    "\n",
    "* 解决办法1：升级到python3.6\n",
    "\n",
    "* 解决方法2： from numpy.random import choice\n",
    "```\n",
    "from numpy.random import choice\n",
    "\n",
    "colors = choice(['red','green'],size=10)\n",
    "print(colors)\n",
    "\n",
    "```\n",
    "\n"
   ]
  },
  {
   "cell_type": "code",
   "execution_count": 43,
   "metadata": {
    "tags": []
   },
   "outputs": [
    {
     "output_type": "stream",
     "name": "stdout",
     "text": ">> Creating image 100/100\n"
    }
   ],
   "source": [
    "def random_captcha_text(char_set=number,captcha_size=4):\n",
    "    # return ''.join(random.choices(CHAR_SET,k=4)) # AttributeError: module 'random' has no attribute 'choices'\n",
    "    from numpy.random import choice\n",
    "    # print(random.choice(CHAR_SET,size=captcha_size))\n",
    "    return ''.join(choice(CHAR_SET,size=captcha_size))\n",
    "\n",
    "# 生成字符对应的验证码\n",
    "def gen_captcha_text_and_image(path):\n",
    "    image_ = ImageCaptcha() \n",
    "    # 获得随机生成的验证码\n",
    "    captcha_text = random_captcha_text()\n",
    "    # 生成验证码并保存为图片\n",
    "    captcha = image_.generate(captcha_text)\n",
    "    image_.write(captcha_text, path + captcha_text + '.jpg')\n",
    "\n",
    "path = '10captcha/images/'\n",
    "num = 100 # 验证码图片数量\n",
    "\n",
    "if not os.path.exists(path):\n",
    "    os.makedirs(path)\n",
    "for i in range(num):\n",
    "    gen_captcha_text_and_image(path)\n",
    "    sys.stdout.write('\\r>> Creating image %d/%d' % (i+1,num))\n",
    "    sys.stdout.flush()\n",
    "sys.stdout.write('\\n')\n",
    "sys.stdout.flush()"
   ]
  },
  {
   "cell_type": "markdown",
   "metadata": {},
   "source": [
    "## 生成tfrecord"
   ]
  },
  {
   "cell_type": "code",
   "execution_count": 48,
   "metadata": {
    "tags": []
   },
   "outputs": [
    {
     "output_type": "stream",
     "name": "stdout",
     "text": "\n>> Converting image 98/98\n"
    }
   ],
   "source": [
    "_NUM_TEST = 500\n",
    "\n",
    "_RANDOM_SEED = 2\n",
    "\n",
    "# 数据集路径\n",
    "DATA_DIR = '10captcha/images/'\n",
    "# tfrecoder文件存放路径\n",
    "TFRECORD_DIR = '10captcha/'\n",
    "\n",
    "# 判断tfrecoder文件是否存在\n",
    "def _tfdata_exists(dataset_dir):\n",
    "    for split_name in ['train','test']:\n",
    "        tf_name = os.path.join(dataset_dir,split_name + '.tfrecord')\n",
    "        if not tf.gfile.Exists(tf_name):\n",
    "            return False\n",
    "    return True\n",
    "\n",
    "# 获取所以验证码图片\n",
    "def _get_filenames(dataset_dir):\n",
    "    captcha_names = []\n",
    "    for filename in os.listdir(dataset_dir):\n",
    "        # 获取文件路径\n",
    "        path = os.path.join(dataset_dir, filename)\n",
    "        captcha_names.append(path)\n",
    "    return captcha_names\n",
    "\n",
    "def int64_feature(values):\n",
    "    if not isinstance(values, (tuple, list)):\n",
    "        values = [values]\n",
    "    return tf.train.Feature(int64_list=tf.train.Int64List(value=values))\n",
    "\n",
    "def bytes_feature(values):\n",
    "    return tf.train.Feature(bytes_list=tf.train.BytesList(value = [values]))\n",
    "\n",
    "def image_to_tfexample(image_data,label0,label1,label2,label3):\n",
    "    return tf.train.Example(features=tf.train.Features(feature={\n",
    "     'image': bytes_feature(image_data),\n",
    "        'label0':int64_feature(label0),\n",
    "        'label1':int64_feature(label1),\n",
    "        'label2':int64_feature(label2),\n",
    "        'label3':int64_feature(label3)\n",
    "    }))\n",
    "\n",
    "# 数据转换为record格式\n",
    "def _convert_dataset(split_name, filenames, tfrecord_dir):\n",
    "    assert split_name in ['train','test']\n",
    "    \n",
    "    with tf.Session() as sess:\n",
    "        out_tfnames = os.path.join(tfrecord_dir, split_name + '.tfrecord')\n",
    "        with tf.python_io.TFRecordWriter(out_tfnames) as tf_writer:\n",
    "            for i,filename in enumerate(filenames):\n",
    "                try:\n",
    "                    sys.stdout.write('\\r>> Converting image %d/%d' % (i+1,len(filenames)))\n",
    "                    sys.stdout.flush()\n",
    "                    \n",
    "                    image_data = Image.open(filename)\n",
    "                    image_data = image_data.resize((224,224))\n",
    "                    image_data = image_data.convert('L').tobytes()\n",
    "                    \n",
    "                    # 拿到4位验证码并encode()\n",
    "                    labels = filename.split('/')[-1][:4]\n",
    "                    \n",
    "                    example = image_to_tfexample(image_data, int(labels[0]), int(labels[1]), int(labels[2]), int(labels[3]))\n",
    "                    tf_writer.write(example.SerializeToString())\n",
    "                \n",
    "                except IOError as e:\n",
    "                    print('Wrong: ' + filename)\n",
    "                    print('Error: ',e)\n",
    "                    print('Skip it\\n')\n",
    "    sys.stdout.write('\\n')\n",
    "    sys.stdout.flush()\n",
    "# 判断tfrecoder文件是否存在\n",
    "if _tfdata_exists(TFRECORD_DIR):\n",
    "    print('tf文件已存在')\n",
    "else:\n",
    "    # 获得所有照片\n",
    "    photo_filenames = _get_filenames(DATA_DIR)\n",
    "    \n",
    "    random.seed(_RANDOM_SEED)\n",
    "    # 把数据集企鹅分为训练集和测试集 打乱文件\n",
    "    random.shuffle(photo_filenames)\n",
    "    training_filenames = photo_filenames[_NUM_TEST:]\n",
    "    testing_filenames = photo_filenames[:_NUM_TEST]\n",
    "    # 数据转换\n",
    "    _convert_dataset('train', training_filenames, TFRECORD_DIR)\n",
    "    _convert_dataset('test', testing_filenames, TFRECORD_DIR)"
   ]
  },
  {
   "cell_type": "code",
   "execution_count": null,
   "metadata": {},
   "outputs": [],
   "source": []
  },
  {
   "cell_type": "code",
   "execution_count": null,
   "metadata": {},
   "outputs": [],
   "source": []
  }
 ]
}