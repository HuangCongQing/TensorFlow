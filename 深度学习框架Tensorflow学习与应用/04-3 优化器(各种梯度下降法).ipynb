{
 "metadata": {
  "language_info": {
   "codemirror_mode": {
    "name": "ipython",
    "version": 3
   },
   "file_extension": ".py",
   "mimetype": "text/x-python",
   "name": "python",
   "nbconvert_exporter": "python",
   "pygments_lexer": "ipython3",
   "version": 3
  },
  "orig_nbformat": 2,
  "kernelspec": {
   "name": "python_defaultSpec_1595916579612",
   "display_name": "Python 3.5.4 64-bit"
  }
 },
 "nbformat": 4,
 "nbformat_minor": 2,
 "cells": [
  {
   "cell_type": "markdown",
   "metadata": {},
   "source": [
    "## 补充\n",
    "\n",
    "1. SGD （收敛速度慢，不能逃离鞍点）\n",
    "2. Momentum（训练速度非常快）\n",
    "3. NAG\n",
    "4. Adagrad（自动调节学习率，适合数据稀疏的照片）\n",
    "5. RMSprop\n",
    "RMS(Root Mean Square)是均方根的缩写。\n",
    "6. Adadelta\n",
    "7. Adam\n",
    "\n",
    "基于**04-1 交叉熵.ipynb**修改\n",
    "\n",
    "\n",
    "\n"
   ]
  },
  {
   "cell_type": "code",
   "execution_count": 2,
   "metadata": {},
   "outputs": [],
   "source": [
    "import tensorflow as tf\n",
    "from tensorflow.examples.tutorials.mnist import input_data"
   ]
  },
  {
   "cell_type": "code",
   "execution_count": 4,
   "metadata": {
    "tags": []
   },
   "outputs": [
    {
     "output_type": "stream",
     "name": "stdout",
     "text": "Extracting ../MNIST_data\\train-images-idx3-ubyte.gz\nExtracting ../MNIST_data\\train-labels-idx1-ubyte.gz\nExtracting ../MNIST_data\\t10k-images-idx3-ubyte.gz\nExtracting ../MNIST_data\\t10k-labels-idx1-ubyte.gz\nIter0Testing Accurancy0.9002\nIter1Testing Accurancy0.9104\nIter2Testing Accurancy0.917\nIter3Testing Accurancy0.9204\nIter4Testing Accurancy0.9214\nIter5Testing Accurancy0.9231\nIter6Testing Accurancy0.9271\nIter7Testing Accurancy0.9273\nIter8Testing Accurancy0.9284\nIter9Testing Accurancy0.9292\nIter10Testing Accurancy0.9285\nIter11Testing Accurancy0.93\nIter12Testing Accurancy0.9293\nIter13Testing Accurancy0.9301\nIter14Testing Accurancy0.9305\nIter15Testing Accurancy0.9312\nIter16Testing Accurancy0.9316\nIter17Testing Accurancy0.9314\nIter18Testing Accurancy0.9311\nIter19Testing Accurancy0.9315\nIter20Testing Accurancy0.9317\n"
    }
   ],
   "source": [
    "# 载入数据集\n",
    "mnist = input_data.read_data_sets(\"../MNIST_data\", one_hot=True) \n",
    "# x相对路径  数据集下载到某一目录下（相对路径不懂可自行百度）\n",
    "# one-hot=True 把标签设置为one-hot 格式\n",
    "\n",
    "# 每个批次的大小\n",
    "batch_size = 100\n",
    "# 计算一共有多少个批次\n",
    "n_batch = mnist.train.num_examples // batch_size  # 整除\n",
    "\n",
    "# 定义两个placeholder\n",
    "x = tf.placeholder(tf.float32, [None, 784]) # None 100？\n",
    "y = tf.placeholder(tf.float32, [None, 10])\n",
    "\n",
    "# 构建一个简单的神经网络\n",
    "W = tf.Variable(tf.zeros([784,10]))\n",
    "b = tf.Variable(tf.zeros([10]))\n",
    "prediction = tf.nn.softmax(tf.matmul(x,W)+b)\n",
    "\n",
    "\n",
    "# 二次代价函数\n",
    "# loss = tf.reduce_mean(tf.square(y-prediction)) \n",
    "# Iter20Testing Accurancy0.9134\n",
    "# loss = tf.reduce_mean(tf.nn.softmax_cross_entropy_with_logits(labels=y, logits=prediction))\n",
    "# Iter20Testing Accurancy0.9211\n",
    "loss = tf.reduce_mean(tf.nn.softmax_cross_entropy_with_logits_v2(labels=y, logits=prediction))\n",
    "# Iter20Testing Accurancy0.9223\n",
    "\n",
    "# 使用梯度下降法=================================================================\n",
    "# train_step = tf.train.GradientDescentOptimizer(0.2).minimize(loss)\n",
    "train_step=tf.train.AdamOptimizer(1e-3).minimize(loss)\n",
    "\n",
    "# 初始化变量\n",
    "init = tf.global_variables_initializer()\n",
    "\n",
    "# 结果存放在布尔型列表中\n",
    "correct_prediction = tf.equal(tf.argmax(y,1), tf.argmax(prediction,axis=1)) # 相同为Ture，argmax 函数起的是1所在维度最大值的index索引  1表示axis第二个维度\n",
    "# 0表示按列查找  1表示按行查找（0列1行）\n",
    "\n",
    "# 求准确率\n",
    "accuracy = tf.reduce_mean(tf.cast(correct_prediction, tf.float32)) # 布尔型列表转化为flaot32类型 True变为1.0，False变为0\n",
    "# 求平均值就得到准确率，比如10个值，9个True  1个False\n",
    "\n",
    "with tf.Session() as sess:\n",
    "    sess.run(init)\n",
    "    for epoth in range(21):\n",
    "         for batch in range(n_batch):\n",
    "             batch_xs, batch_ys = mnist.train.next_batch(batch_size) # 图片和标签\n",
    "             sess.run(train_step, feed_dict={x: batch_xs,y:batch_ys})\n",
    "         acc= sess.run(accuracy, feed_dict={x:mnist.test.images, y:mnist.test.labels})\n",
    "         print(\"Iter\"+ str(epoth) +\"Testing Accurancy\" + str(acc))\n"
   ]
  },
  {
   "cell_type": "code",
   "execution_count": null,
   "metadata": {},
   "outputs": [],
   "source": []
  }
 ]
}