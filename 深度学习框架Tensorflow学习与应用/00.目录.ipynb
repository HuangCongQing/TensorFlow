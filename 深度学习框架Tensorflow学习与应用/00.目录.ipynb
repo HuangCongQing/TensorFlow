{
 "metadata": {
  "language_info": {
   "codemirror_mode": {
    "name": "ipython",
    "version": 3
   },
   "file_extension": ".py",
   "mimetype": "text/x-python",
   "name": "python",
   "nbconvert_exporter": "python",
   "pygments_lexer": "ipython3",
   "version": 3
  },
  "orig_nbformat": 2
 },
 "nbformat": 4,
 "nbformat_minor": 2,
 "cells": [
  {
   "cell_type": "markdown",
   "metadata": {},
   "source": [
    "> - [ ] 第一课 Tensorflow简介，Anaconda安装，Tensorflow的CPU版本安装。\n",
    "> - [ ] **第二课 Tensorflow的基础使用，包括对图(graphs),会话(session),张量(tensor),变量(Variable)的一些解释和操作。**\n",
    "> - [ ] 第三课 Tensorflow线性回归以及分类的简单使用，softmax介绍。\n",
    "> - [ ] 第四课 交叉熵(cross-entropy)，过拟合，dropout以及Tensorflow中各种优化器的介绍。\n",
    "> - [ ] 第五课 使用Tensorboard进行结构可视化，以及网络运算过程可视化。\n",
    "> - [ ] 第六课 卷积神经网络CNN的讲解，以及用CNN解决MNIST分类问题。\n",
    "> - [ ] 第七课 递归神经网络LSTM的讲解，以及LSTM网络的使用。\n",
    "> - [ ] 第八课 保存和载入模型，使用Google的图像识别网络inception-v3进行图像识别。\n",
    "> - [ ] 第九课 Tensorflow的GPU版本安装。设计自己的网络模型，并训练自己的网络模型进行图像识别。\n",
    "> - [ ] 第十课 多任务学习以及验证码识别。\n",
    "> - [ ] 第十一课 word2vec讲解和使用，cnn解决文本分类问题。\n",
    "> - [ ] 第十二课 语音处理以及使用LSTM构建语音分类模型。\n"
   ]
  },
  {
   "cell_type": "code",
   "execution_count": null,
   "metadata": {},
   "outputs": [],
   "source": []
  }
 ]
}