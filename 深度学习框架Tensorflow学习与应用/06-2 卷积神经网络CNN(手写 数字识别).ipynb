{
 "metadata": {
  "language_info": {
   "codemirror_mode": {
    "name": "ipython",
    "version": 3
   },
   "file_extension": ".py",
   "mimetype": "text/x-python",
   "name": "python",
   "nbconvert_exporter": "python",
   "pygments_lexer": "ipython3",
   "version": 3
  },
  "orig_nbformat": 2,
  "kernelspec": {
   "name": "python_defaultSpec_1596246815107",
   "display_name": "Python 3.5.4 64-bit"
  }
 },
 "nbformat": 4,
 "nbformat_minor": 2,
 "cells": [
  {
   "cell_type": "markdown",
   "metadata": {},
   "source": [
    "## 补充\n",
    "* 权值太多，参数过多，需要样本数量大\n",
    "* 引入局部感受野\n",
    "\n",
    "###  卷积层就是对图像像素进行特征提取，多个不同卷积核产生不同特征图，增加深度，减少参数\n",
    "### 池化层就是降低分辨率，缩小尺寸，减少参数，加快计算\n",
    "\n",
    "### CONV(卷积层-RELU(激活函数)-POOL(池化层)... FC(全连接层) 如下图\n",
    "\n",
    "![](https://cdn.nlark.com/yuque/0/2019/png/232596/1572371566724-41591b3b-8b49-454d-a4df-d2e3ba33e6cc.png)"
   ]
  },
  {
   "cell_type": "code",
   "execution_count": 2,
   "metadata": {
    "tags": []
   },
   "outputs": [
    {
     "output_type": "stream",
     "name": "stdout",
     "text": "Extracting ../MNIST_data\\train-images-idx3-ubyte.gz\nExtracting ../MNIST_data\\train-labels-idx1-ubyte.gz\nExtracting ../MNIST_data\\t10k-images-idx3-ubyte.gz\nExtracting ../MNIST_data\\t10k-labels-idx1-ubyte.gz\n"
    }
   ],
   "source": [
    "import tensorflow as tf\n",
    "from tensorflow.examples.tutorials.mnist import input_data\n",
    "# 载入数据集\n",
    "mnist = input_data.read_data_sets(\"../MNIST_data\", one_hot=True) \n"
   ]
  },
  {
   "cell_type": "code",
   "execution_count": null,
   "metadata": {},
   "outputs": [],
   "source": [
    "batch_size = 100  # 一个批次的大小，可优化\n",
    "n_batch = mnist.train.num_examples // batch_size # 一共有多少个批次\n",
    "\n",
    "# 权值初始化\n",
    "def weight_variable(shape):\n",
    "    return tf.Variable(tf.truncated_normal(shape,stddev=0.1))\n",
    "\n",
    "# 偏置值初始化\n",
    "def bias_vairable(shape):\n",
    "    return tf.Variable(tf.constant(0.1, shape=shape))\n",
    "# 卷积层\n",
    "def conv2d(x,W):\n",
    "    # x表示输入,是一个张量 [batch, in_height, in_width, in_channels(通道数 1 | 3)]\n",
    "    # W表示过滤器filter，即卷积核kernel [filter_height, filter_width, in_channels, out_channels]\n",
    "    # strides表示步长 strides = [1, stride, stride, 1].strides[1]和[2],分别代表x方向步长和y方向\n",
    "    # padding表示是否补零   string \"SAME\" or \"VALID\"\n",
    "    return tf.nn.conv2d(x,W,strides=[1,1,1,1],padding='SAME') # 步长。\n",
    "\n",
    "# 池化层\n",
    "def max_pool_2x2(x):\n",
    "    #(kernel size) ksize = [1,x,y,1] x,y代表窗口的大小 可选参数length 1, 2 or 4\n",
    "    return tf.nn.max_pool(x,ksize=[1,2,2,1],strides=[1,2,2,1],padding='SAME') # 窗口2x2\n",
    "\n",
    "# 定义两个占位符（训练数据集和标签）\n",
    "x = tf.placeholder(tf.float32,[None,784])\n",
    "y = tf.placeholder(tf.float32,[None,10])\n",
    "keep_prob = tf.placeholder(tf.float32)\n",
    "\n",
    "# 将x转化为4d向量[batch,height,width,channel]   x是四维的，我们只需要对二三维卷积\n",
    "x_image = tf.reshape(x,[-1,28,28,1]) # -1表任意batch\n",
    "\n",
    "# 初始化第一个卷积层的权值和偏置\n",
    "W_conv1 = weight_variable([5,5,1,32]) # 5*5的采样窗口，32个卷积核从1个平面抽取特征  生成32个5x5卷积核\n",
    "b_conv1 = bias_vairable([32]) #每个卷积核一个偏置值\n",
    "\n",
    "# 28*28*1 的图片卷积之后变为28*28*32\n",
    "h_conv1 = tf.nn.relu(conv2d(x_image, W_conv1) + b_conv1)\n",
    "h_pool1 = max_pool_2x2(h_conv1) # 池化之后变为 14*14*32\n",
    "\n",
    "# 初始化第二个卷积层的权重和偏置 第二次卷积之后变为 14*14*64\n",
    "W_conv2 = weight_variable([5,5,32,64]) # 5*5的采样窗口，64个卷积核从32个平面抽取特征\n",
    "b_conv2 = bias_vairable([64]) # 每一个卷积核一个偏执值\n",
    "h_conv2 = tf.nn.relu(conv2d(h_pool1,W_conv2) + b_conv2)\n",
    "# 第二次池化之后变为 7*7*64\n",
    "h_pool2 = max_pool_2x2(h_conv2)\n",
    "\n",
    "# 28*28的图像第一次卷积后还是28*28,第一次池化后变成14*14，最后得到32张14*14的平面\n",
    "# 第二次卷积后为14*14，第二次池化后为7*7，最后得到64张7*7的平面\n",
    "# 经过上面的操作后得到64张7*7的平面\n",
    "\n",
    "# 第一个全连接层\n",
    "W_fc1 = weight_variable([7*7*64,1024]) # 上一层有7*7*64个神经元，全连接成有1024个神经元\n",
    "b_fc1 = bias_vairable([1024]) # 1024个节点\n",
    "# 7*7*64的图像变成1维向量 #把池化层后的输出扁平化为1维\n",
    "h_pool2_flat = tf.reshape(h_pool2,[-1,7*7*64])\n",
    "h_fc1 = tf.nn.relu(tf.matmul(h_pool2_flat, W_fc1) + b_fc1) # #求第一个全连接层的输出\n",
    "h_fc1_drop = tf.nn.dropout(h_fc1, keep_prob)\n",
    "\n",
    "# 第二个全连接层\n",
    "W_fc2 = weight_variable([1024,10])\n",
    "b_fc2 = bias_vairable([10])\n",
    "logits = tf.matmul(h_fc1_drop,W_fc2) + b_fc2\n",
    "prediction = tf.nn.sigmoid(logits)\n",
    "# 交叉熵代价函数\n",
    "loss = tf.reduce_mean(tf.nn.softmax_cross_entropy_with_logits(labels=y, logits=logits))\n",
    "# 使用AAdam进行优化\n",
    "train_step = tf.train.AdamOptimizer(0.001).minimize(loss)\n",
    "\n",
    "prediction_2 = tf.nn.softmax(prediction) # softmax\n",
    "# 比较概率最大的标签是否相同，结果存放在一个布尔型列表中\n",
    "correct_prediction = (tf.equal(tf.argmax(prediction_2,1), tf.argmax(y,1)))\n",
    "# 求准确率\n",
    "accuracy = tf.reduce_mean(tf.cast(correct_prediction,tf.float32))\n",
    "\n",
    "with tf.Session() as sess:\n",
    "    sess.run(tf.global_variables_initializer())\n",
    "    for epoch in range(21):\n",
    "        for batch in range(n_batch):\n",
    "            batch_xs, batch_ys = mnist.train.next_batch(batch_size)\n",
    "            sess.run(train_step, feed_dict={x:batch_xs,y:batch_ys,keep_prob:0.7})\n",
    "        acc = sess.run(accuracy, feed_dict={x:mnist.test.images, y:mnist.test.labels, keep_prob:1.0})\n",
    "        print(\"Iter: \" + str(epoch) + \", acc: \" + str(acc))"
   ]
  },
  {
   "cell_type": "code",
   "execution_count": null,
   "metadata": {},
   "outputs": [],
   "source": []
  }
 ]
}