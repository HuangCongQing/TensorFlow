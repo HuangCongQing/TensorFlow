{
 "cells": [
  {
   "cell_type": "code",
   "execution_count": 5,
   "metadata": {},
   "outputs": [],
   "source": [
    "## http://www.cnblogs.com/asdfjkl/p/6283883.html    重庆\n",
    "\n",
    "import tensorflow as tf #导入tensorflow库\n",
    "\n",
    "matrix1=tf.constant([[3.,3.]])#创建常量节点\n",
    "\n",
    "matrix2=tf.constant([[2.],\n",
    "                     [2.]])\n",
    "\n",
    "product=tf.matmul(matrix1,matrix2)#创建矩阵乘法节点\n",
    "\n",
    "## methods1111\n",
    "\n",
    "# sess=tf.Session()#启动默认图\n",
    "# #运行这里会有一堆运行信息出来\n",
    "# result = sess.run(product)#调用sess的run方法来执行矩阵乘法节点的操作，product代表了矩阵乘法这个节点的输出\n",
    "# print(result)\n",
    "# sess.close()#完成任务后关闭会话"
   ]
  },
  {
   "cell_type": "code",
   "execution_count": null,
   "metadata": {
    "collapsed": true
   },
   "outputs": [],
   "source": []
  },
  {
   "cell_type": "code",
   "execution_count": 6,
   "metadata": {},
   "outputs": [
    {
     "name": "stdout",
     "output_type": "stream",
     "text": [
      "[[ 12.]]\n"
     ]
    }
   ],
   "source": [
    "# method 2\n",
    "\n",
    "with tf.Session() as sess:\n",
    "    result2 = sess.run(product)\n",
    "    print(result2)"
   ]
  },
  {
   "cell_type": "code",
   "execution_count": null,
   "metadata": {
    "collapsed": true
   },
   "outputs": [],
   "source": []
  }
 ],
 "metadata": {
  "kernelspec": {
   "display_name": "Python 3",
   "language": "python",
   "name": "python3"
  },
  "language_info": {
   "codemirror_mode": {
    "name": "ipython",
    "version": 3
   },
   "file_extension": ".py",
   "mimetype": "text/x-python",
   "name": "python",
   "nbconvert_exporter": "python",
   "pygments_lexer": "ipython3",
   "version": "3.5.4"
  }
 },
 "nbformat": 4,
 "nbformat_minor": 2
}
