{
 "cells": [
  {
   "cell_type": "code",
   "execution_count": 1,
   "metadata": {},
   "outputs": [
    {
     "name": "stdout",
     "output_type": "stream",
     "text": [
      "权重： Tensor(\"Variable/read:0\", shape=(1,), dtype=float32)\n"
     ]
    }
   ],
   "source": [
    "import tensorflow as tf\n",
    "import numpy as np\n",
    "\n",
    "## create data      astype()\n",
    "x_data = np.random.rand(100).astype(np.float32)\n",
    "y_data = x_data*0.1 + 0.3\n",
    "\n",
    "### create tensorflow structure start\n",
    "Weights = tf.Variable(tf.random_uniform([1], -1.0, 1.0)) # 随机变量生成的数列,-1到1\n",
    "print(\"权重：\",Weights)\n",
    "biases =  tf.Variable(tf.zeros([1]))\n",
    "\n",
    "y = Weights*x_data + biases\n",
    "\n",
    "\n",
    "loss = tf.reduce_mean(tf.square(y-y_data))\n",
    "# 优化\n",
    "optimizer = tf.train.GradientDescentOptimizer(0.5)\n",
    "# 此方法Use `tf.global_variables_initializer` instead.\n",
    "# train = tf.initialize_all_variables()\n",
    "# train = tf.global_variables_initializer()\n",
    "train = optimizer.minimize(loss)\n",
    "\n",
    "\n",
    "# init = tf.initialize_all_variables()      Use `tf.global_variables_initializer` instead.\n",
    "init = tf.global_variables_initializer() "
   ]
  },
  {
   "cell_type": "code",
   "execution_count": null,
   "metadata": {
    "collapsed": true
   },
   "outputs": [],
   "source": [
    "## create tensorflow structure end\n",
    "\n",
    "# sess = tf.Session()\n",
    "# sess.run(init)  # Very important 激活\n",
    "\n",
    "# for step in range(201):\n",
    "#     sess.run(train)\n",
    "#     if step%20 ==0:\n",
    "#         print(step, sess.run(Weights), sess.run(biases))\n",
    "\n",
    "# sess = tf.Session()\n",
    "with tf.Session() as sess:\n",
    "    sess.run(init)  # Very important 激活\n",
    "    for step in range(201):\n",
    "        sess.run(train)\n",
    "        if step%20 ==0:\n",
    "            print(step, sess.run(Weights), sess.run(biases))\n"
   ]
  },
  {
   "cell_type": "code",
   "execution_count": null,
   "metadata": {
    "collapsed": true
   },
   "outputs": [],
   "source": []
  }
 ],
 "metadata": {
  "kernelspec": {
   "display_name": "Python 3",
   "language": "python",
   "name": "python3"
  },
  "language_info": {
   "codemirror_mode": {
    "name": "ipython",
    "version": 3
   },
   "file_extension": ".py",
   "mimetype": "text/x-python",
   "name": "python",
   "nbconvert_exporter": "python",
   "pygments_lexer": "ipython3",
   "version": "3.5.4"
  }
 },
 "nbformat": 4,
 "nbformat_minor": 2
}
