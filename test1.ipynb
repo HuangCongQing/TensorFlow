{
 "cells": [
  {
   "cell_type": "code",
   "execution_count": 1,
   "metadata": {},
   "outputs": [
    {
     "name": "stdout",
     "output_type": "stream",
     "text": [
      "权重： Tensor(\"Variable/read:0\", shape=(1,), dtype=float32)\n"
     ]
    }
   ],
   "source": [
    "import tensorflow as tf\n",
    "import numpy as np\n",
    "\n",
    "## create data      astype()\n",
    "x_data = np.random.rand(100).astype(np.float32)\n",
    "y_data = x_data*0.1 + 0.3\n",
    "\n",
    "### create tensorflow structure start\n",
    "Weights = tf.Variable(tf.random_uniform([1], -1.0, 1.0)) # 随机变量生成的数列,-1到1\n",
    "print(\"权重：\",Weights)\n",
    "biases =  tf.Variable(tf.zeros([1]))\n",
    "\n",
    "y = Weights*x_data + biases\n",
    "\n",
    "\n",
    "loss = tf.reduce_mean(tf.square(y-y_data))\n",
    "# 优化\n",
    "optimizer = tf.train.GradientDescentOptimizer(0.5)\n",
    "# 此方法Use `tf.global_variables_initializer` instead.\n",
    "# train = tf.initialize_all_variables()\n",
    "# train = tf.global_variables_initializer()\n",
    "train = optimizer.minimize(loss)\n",
    "\n",
    "\n",
    "# init = tf.initialize_all_variables()      Use `tf.global_variables_initializer` instead.\n",
    "init = tf.global_variables_initializer() "
   ]
  },
  {
   "cell_type": "code",
   "execution_count": 7,
   "metadata": {},
   "outputs": [
    {
     "name": "stdout",
     "output_type": "stream",
     "text": [
      "0 [-0.44609541] [ 0.82904255]\n",
      "20 [-0.02692441] [ 0.36846977]\n",
      "40 [ 0.07498714] [ 0.31349328]\n",
      "60 [ 0.09507075] [ 0.30265912]\n",
      "80 [ 0.09902861] [ 0.30052403]\n",
      "100 [ 0.09980858] [ 0.30010328]\n",
      "120 [ 0.09996228] [ 0.30002037]\n",
      "140 [ 0.09999257] [ 0.30000401]\n",
      "160 [ 0.09999854] [ 0.30000079]\n",
      "180 [ 0.09999971] [ 0.30000016]\n",
      "200 [ 0.09999991] [ 0.30000007]\n"
     ]
    }
   ],
   "source": [
    "## create tensorflow structure end\n",
    "\n",
    "# sess = tf.Session()\n",
    "# sess.run(init)  # Very important 激活\n",
    "\n",
    "# for step in range(201):\n",
    "#     sess.run(train)\n",
    "#     if step%20 ==0:\n",
    "#         print(step, sess.run(Weights), sess.run(biases))\n",
    "\n",
    "# sess = tf.Session()\n",
    "with tf.Session() as sess:\n",
    "    sess.run(init)  # Very important 激活\n",
    "    for step in range(201):\n",
    "        sess.run(train)\n",
    "        if step%20 ==0:\n",
    "            print(step, sess.run(Weights), sess.run(biases))\n"
   ]
  },
  {
   "cell_type": "code",
   "execution_count": null,
   "metadata": {
    "collapsed": true
   },
   "outputs": [],
   "source": []
  }
 ],
 "metadata": {
  "kernelspec": {
   "display_name": "Python 3",
   "language": "python",
   "name": "python3"
  },
  "language_info": {
   "codemirror_mode": {
    "name": "ipython",
    "version": 3
   },
   "file_extension": ".py",
   "mimetype": "text/x-python",
   "name": "python",
   "nbconvert_exporter": "python",
   "pygments_lexer": "ipython3",
   "version": "3.5.4"
  }
 },
 "nbformat": 4,
 "nbformat_minor": 2
}
