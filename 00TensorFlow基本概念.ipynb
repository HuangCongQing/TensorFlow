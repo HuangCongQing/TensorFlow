{
 "cells": [
  {
   "cell_type": "markdown",
   "metadata": {},
   "source": [
    "学习链接;http://www.xtecher.com/Xfeature/view?aid=8765\n",
    "\n",
    "要使用TensorFlow，我们必须理解TensorFlow：\n",
    "\n",
    "* 使用图（Graph）表示计算流程\n",
    "* 在会话（Session）中执行图\n",
    "* 使用张量（Tensor）表示数据\n",
    "* 使用变量（Variable）维护状态\n",
    "* 使用feed和fetch为任意的操作赋值或从中获取数据\n",
    "\n",
    "TF使用graph表示计算流程。图中的节点称为操作（Operation，以下简称OP）。每个OP接受0到多个Tensor，执行计算，输出0到多个Tensor。图是对计算流程的描述，需要在Session中运行。Session将计算图的OP分配到CPU或GPU等计算单元，并提供相关的计算方法，并且会返回OP的结果。\n",
    "\n",
    "这些数据“线”可以输运“size可动态调整”的多维数据数组，即“张量”（tensor）"
   ]
  },
  {
   "cell_type": "code",
   "execution_count": null,
   "metadata": {
    "collapsed": true
   },
   "outputs": [],
   "source": []
  }
 ],
 "metadata": {
  "kernelspec": {
   "display_name": "Python 3",
   "language": "python",
   "name": "python3"
  },
  "language_info": {
   "codemirror_mode": {
    "name": "ipython",
    "version": 3
   },
   "file_extension": ".py",
   "mimetype": "text/x-python",
   "name": "python",
   "nbconvert_exporter": "python",
   "pygments_lexer": "ipython3",
   "version": "3.5.4"
  }
 },
 "nbformat": 4,
 "nbformat_minor": 2
}
