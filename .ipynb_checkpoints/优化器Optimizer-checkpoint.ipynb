{
 "cells": [
  {
   "cell_type": "code",
   "execution_count": 7,
   "metadata": {},
   "outputs": [
    {
     "name": "stdout",
     "output_type": "stream",
     "text": [
      "WARNING:tensorflow:From c:\\users\\hasee\\appdata\\local\\programs\\python\\python35\\lib\\site-packages\\tensorflow\\python\\util\\tf_should_use.py:175: initialize_all_variables (from tensorflow.python.ops.variables) is deprecated and will be removed after 2017-03-02.\n",
      "Instructions for updating:\n",
      "Use `tf.global_variables_initializer` instead.\n",
      "Epoch: 1, w: -0.8870124816894531, b: 9.720056533813477\n",
      "Epoch: 2, w: 0.2607477009296417, b: 10.496353149414062\n",
      "Epoch: 3, w: 1.0517780780792236, b: 10.350639343261719\n",
      "Epoch: 4, w: 1.4809194803237915, b: 10.206430435180664\n",
      "Epoch: 5, w: 1.7026270627975464, b: 10.124005317687988\n",
      "Epoch: 6, w: 1.8158155679702759, b: 10.080916404724121\n",
      "Epoch: 7, w: 1.8734304904937744, b: 10.058853149414062\n",
      "Epoch: 8, w: 1.9027353525161743, b: 10.047613143920898\n",
      "Epoch: 9, w: 1.9176386594772339, b: 10.041892051696777\n",
      "Epoch: 10, w: 1.9252166748046875, b: 10.038986206054688\n"
     ]
    },
    {
     "data": {
      "image/png": "[encoded data removed]",
      "text/plain": [
       "<matplotlib.figure.Figure at 0xc379438>"
      ]
     },
     "metadata": {},
     "output_type": "display_data"
    }
   ],
   "source": [
    "# TensorFlow学习笔记（十三）TensorFLow 常用Optimizer 总结\n",
    "# http://blog.csdn.net/qq_36330643/article/details/76711581\n",
    "\n",
    "# 百度搜索https://www.baidu.com/s?wd=%20Tensorflow%2013%20%E4%BC%98%E5%8C%96%E5%99%A8%20optimizer&rsv_spt=1&rsv_iqid=0xc3d4c60c0000dd0a&issp=1&f=8&rsv_bp=1&rsv_idx=2&ie=utf-8&rqlang=cn&tn=baiduhome_pg&rsv_enter=1&oq=tensorflow%25E7%25BB%2593%25E6%259E%259C%25E5%258F%25AF%25E8%25A7%2586%25E5%258C%2596add_layer&rsv_t=5a707jC2O04GdKVc%2BMfSK5go5iV0meSjp0RLoCbTwsTPsZSc2WDRnknizJ8sLPnJ2FG4&rsv_pq=c2b5298500010885&inputT=1189&rsv_sug3=40&rsv_sug1=26&rsv_sug7=000&rsv_n=2&rsv_sug2=0&rsv_sug4=1741&rsv_sug=1\n",
    "\n",
    "\n",
    "import tensorflow as tf\n",
    "import numpy as np\n",
    "import matplotlib.pyplot as plt\n",
    "\n",
    "# Prepare train data\n",
    "train_X = np.linspace(-1, 1, 100)\n",
    "train_Y = 2 * train_X + np.random.randn(*train_X.shape) * 0.33 + 10\n",
    "\n",
    "# Define the model\n",
    "X = tf.placeholder(\"float\")\n",
    "Y = tf.placeholder(\"float\")\n",
    "w = tf.Variable(0.0, name=\"weight\")\n",
    "b = tf.Variable(0.0, name=\"bias\")\n",
    "loss = tf.square(Y - X*w - b)\n",
    "train_op = tf.train.GradientDescentOptimizer(0.01).minimize(loss)\n",
    "\n",
    "# Create session to run\n",
    "with tf.Session() as sess:\n",
    "    sess.run(tf.initialize_all_variables())\n",
    "\n",
    "    epoch = 1\n",
    "    for i in range(10):\n",
    "        for (x, y) in zip(train_X, train_Y):\n",
    "            _, w_value, b_value = sess.run([train_op, w, b],feed_dict={X: x,Y: y})\n",
    "        print(\"Epoch: {}, w: {}, b: {}\".format(epoch, w_value, b_value))\n",
    "        epoch += 1\n",
    "\n",
    "\n",
    "#draw\n",
    "plt.plot(train_X,train_Y,\"+\")\n",
    "plt.plot(train_X,train_X.dot(w_value)+b_value)\n",
    "plt.show()"
   ]
  },
  {
   "cell_type": "code",
   "execution_count": null,
   "metadata": {},
   "outputs": [],
   "source": []
  },
  {
   "cell_type": "code",
   "execution_count": null,
   "metadata": {
    "collapsed": true
   },
   "outputs": [],
   "source": []
  }
 ],
 "metadata": {
  "kernelspec": {
   "display_name": "Python 3",
   "language": "python",
   "name": "python3"
  },
  "language_info": {
   "codemirror_mode": {
    "name": "ipython",
    "version": 3
   },
   "file_extension": ".py",
   "mimetype": "text/x-python",
   "name": "python",
   "nbconvert_exporter": "python",
   "pygments_lexer": "ipython3",
   "version": "3.5.4"
  }
 },
 "nbformat": 4,
 "nbformat_minor": 2
}
