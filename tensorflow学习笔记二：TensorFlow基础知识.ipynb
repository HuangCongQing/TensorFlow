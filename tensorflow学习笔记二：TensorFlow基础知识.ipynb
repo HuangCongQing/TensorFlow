{
 "cells": [
  {
   "cell_type": "markdown",
   "metadata": {},
   "source": [
    "[tensorflow学习笔记二：入门基础](http://www.cnblogs.com/denny402/p/5852083.html)\n",
    "\n",
    "TensorFlow用张量这种数据结构来表示所有的数据。用一阶张量来表示向量，如：v = [1.2, 2.3, 3.5] ，如二阶张量表示矩阵，如：m = [[1, 2, 3], [4, 5, 6], [7, 8, 9]]，可以看成是方括号嵌套的层数。\n",
    "\n",
    "### 1、编辑器\n",
    "\n",
    "编写tensorflow代码，实际上就是编写py文件，最好找一个好用的编辑器，如果你用vim或gedit比较顺手，那也可以的啦。我们既然已经安装了anaconda，那么它里面自带一个还算不错的编辑器，名叫spyder，用起来和matlab差不多，还可以在右上角查看变量的值。因此我一直使用这个编辑器。它的启动方式也很简单，直接在终端输入spyder就行了。\n"
   ]
  },
  {
   "cell_type": "markdown",
   "metadata": {},
   "source": [
    "### 2，常量\n",
    "我们一般引入tensorflow都用语句"
   ]
  },
  {
   "cell_type": "code",
   "execution_count": 1,
   "metadata": {
    "collapsed": true
   },
   "outputs": [],
   "source": [
    "import tensorflow as tf"
   ]
  },
  {
   "cell_type": "markdown",
   "metadata": {},
   "source": [
    "因此，以后文章中我就直接用tf来表示tensorflow了。\n",
    "\n",
    "在tf中，常量的定义用语句："
   ]
  },
  {
   "cell_type": "code",
   "execution_count": 2,
   "metadata": {
    "collapsed": true
   },
   "outputs": [],
   "source": [
    "a = tf.constant(10)  # 这就定义了一个值为10的常量a"
   ]
  },
  {
   "cell_type": "markdown",
   "metadata": {},
   "source": [
    "### 3、变量\n",
    "\n",
    "变量用Variable来定义, 并且必须初始化，如："
   ]
  },
  {
   "cell_type": "code",
   "execution_count": 3,
   "metadata": {
    "collapsed": true
   },
   "outputs": [],
   "source": [
    "x=tf.Variable(tf.ones([3,3]))\n",
    "y=tf.Variable(tf.zeros([3,3]))\n",
    "\n",
    "# 分别定义了一个3x3的全1矩阵x，和一个3x3的全0矩阵y，0和1的值就是初始化。\n",
    "\n",
    "# 变量定义完后，还必须显式的执行一下初始化操作，即需要在后面加上一句：\n",
    "\n",
    "init=tf.global_variables_initializer()# 这句可不要忘了，否则会出错。\n",
    "# init = tf.initialize_all_variables() # 新版的用法"
   ]
  },
  {
   "cell_type": "code",
   "execution_count": 4,
   "metadata": {},
   "outputs": [
    {
     "name": "stdout",
     "output_type": "stream",
     "text": [
      "[[ 1  1  1]\n",
      " [ 1 -8  1]\n",
      " [ 1  1  1]]\n"
     ]
    }
   ],
   "source": [
    "# 例：自定义一个拉普拉斯的W变量：\n",
    "import tensorflow as tf\n",
    "import numpy as np\n",
    "x=np.array([[1,1,1],[1,-8,1],[1,1,1]])\n",
    "w=tf.Variable(initial_value=x)\n",
    "sess=tf.Session()\n",
    "sess.run(tf.global_variables_initializer())\n",
    "print(sess.run(w))"
   ]
  },
  {
   "cell_type": "markdown",
   "metadata": {},
   "source": [
    "### 4、占位符\n",
    "\n",
    "变量在定义时要初始化，但是如果有些变量刚开始我们并不知道它们的值，无法初始化，那怎么办呢？\n",
    "\n",
    "那就用占位符来占个位置，如："
   ]
  },
  {
   "cell_type": "code",
   "execution_count": 5,
   "metadata": {
    "collapsed": true
   },
   "outputs": [],
   "source": [
    "x = tf.placeholder(tf.float32, [None, 784])# 指定这个变量的类型和shape，以后再用feed的方式来输入值。"
   ]
  },
  {
   "cell_type": "markdown",
   "metadata": {},
   "source": [
    "5、图(graph)\n",
    "\n",
    "如果把下面的python语句改在tf语句，该怎么写呢："
   ]
  },
  {
   "cell_type": "code",
   "execution_count": 6,
   "metadata": {},
   "outputs": [
    {
     "name": "stdout",
     "output_type": "stream",
     "text": [
      "5\n"
     ]
    }
   ],
   "source": [
    "x=3\n",
    "y=2\n",
    "z=x+y\n",
    "print(z)"
   ]
  },
  {
   "cell_type": "markdown",
   "metadata": {},
   "source": [
    "定义两个变量，并将两个数相加，输出结果。如果在tf中直接像上面这样写，那就错了。x,y,z分别是三个tensor对象，对象间的运算称之为操作(op), **tf不会去一条条地执行各个操作，而是把所有的操作都放入到一个图(graph）中，图中的每一个结点就是一个操作。然后将整个graph 的计算过程交给一个 TensorFlow 的Session, 此 Session 可以运行整个计算过程**，比起操作(operations)一条一条的执行效率高的多。"
   ]
  },
  {
   "cell_type": "code",
   "execution_count": 7,
   "metadata": {},
   "outputs": [
    {
     "name": "stdout",
     "output_type": "stream",
     "text": [
      "8\n"
     ]
    }
   ],
   "source": [
    "import tensorflow as tf\n",
    "\n",
    "x = tf.Variable(3)\n",
    "y = tf.Variable(5)\n",
    "z=x+y\n",
    "init =tf.global_variables_initializer()\n",
    "with tf.Session() as sess: \n",
    "    sess.run(init) \n",
    "    print(sess.run(z))\n",
    "    \n"
   ]
  },
  {
   "cell_type": "markdown",
   "metadata": {},
   "source": [
    "**其中sess.run()即是执行，注意要先执行变量初始化操作，再执行运算操作。**\n",
    "\n",
    "**Session需要先创建，使用完后还需要释放。因此我们使用with...as..语句，让系统自动释放。**"
   ]
  },
  {
   "cell_type": "code",
   "execution_count": 8,
   "metadata": {},
   "outputs": [
    {
     "name": "stdout",
     "output_type": "stream",
     "text": [
      "b'hello,world!'\n"
     ]
    }
   ],
   "source": [
    "# 例子1：hello world\n",
    "import tensorflow as tf\n",
    "word=tf.constant('hello,world!')\n",
    "with tf.Session() as sess:\n",
    "    print(sess.run(word))"
   ]
  },
  {
   "cell_type": "code",
   "execution_count": 10,
   "metadata": {},
   "outputs": [
    {
     "ename": "AttributeError",
     "evalue": "module 'tensorflow' has no attribute 'mul'",
     "output_type": "error",
     "traceback": [
      "\u001b[1;31m---------------------------------------------------------------------------\u001b[0m",
      "\u001b[1;31mAttributeError\u001b[0m                            Traceback (most recent call last)",
      "\u001b[1;32m<ipython-input-10-f2283cc450b1>\u001b[0m in \u001b[0;36m<module>\u001b[1;34m()\u001b[0m\n\u001b[0;32m      6\u001b[0m \u001b[1;33m\u001b[0m\u001b[0m\n\u001b[0;32m      7\u001b[0m \u001b[0madd\u001b[0m \u001b[1;33m=\u001b[0m \u001b[0mtf\u001b[0m\u001b[1;33m.\u001b[0m\u001b[0madd\u001b[0m\u001b[1;33m(\u001b[0m\u001b[0ma\u001b[0m\u001b[1;33m,\u001b[0m \u001b[0mb\u001b[0m\u001b[1;33m)\u001b[0m\u001b[1;33m\u001b[0m\u001b[0m\n\u001b[1;32m----> 8\u001b[1;33m \u001b[0mmul\u001b[0m \u001b[1;33m=\u001b[0m \u001b[0mtf\u001b[0m\u001b[1;33m.\u001b[0m\u001b[0mmul\u001b[0m\u001b[1;33m(\u001b[0m\u001b[0ma\u001b[0m\u001b[1;33m,\u001b[0m \u001b[0mb\u001b[0m\u001b[1;33m)\u001b[0m\u001b[1;33m\u001b[0m\u001b[0m\n\u001b[0m\u001b[0;32m      9\u001b[0m \u001b[1;33m\u001b[0m\u001b[0m\n\u001b[0;32m     10\u001b[0m \u001b[1;32mwith\u001b[0m \u001b[0mtf\u001b[0m\u001b[1;33m.\u001b[0m\u001b[0mSession\u001b[0m\u001b[1;33m(\u001b[0m\u001b[1;33m)\u001b[0m \u001b[1;32mas\u001b[0m \u001b[0msess\u001b[0m\u001b[1;33m:\u001b[0m\u001b[1;33m\u001b[0m\u001b[0m\n",
      "\u001b[1;31mAttributeError\u001b[0m: module 'tensorflow' has no attribute 'mul'"
     ]
    }
   ],
   "source": [
    "# 例子2：加法和乘法\n",
    "import tensorflow as tf\n",
    "\n",
    "a = tf.placeholder(tf.int16)\n",
    "b = tf.placeholder(tf.int16)\n",
    "\n",
    "add = tf.add(a, b)\n",
    "mul = tf.mul(a, b)\n",
    "\n",
    "with tf.Session() as sess:\n",
    "    print('a+b=',sess.run(add, feed_dict={a: 2, b: 3}))  # 此处使用feed_dict以字典的方式对多个变量输入值。\n",
    "    print('a*b=',sess.run(mul, feed_dict={a: 2, b: 3}))\n",
    "    # \n"
   ]
  },
  {
   "cell_type": "code",
   "execution_count": 26,
   "metadata": {},
   "outputs": [
    {
     "name": "stdout",
     "output_type": "stream",
     "text": [
      "[[ 40.  40.  40.]\n",
      " [ 40.  40.  40.]\n",
      " [ 40.  40.  40.]]\n"
     ]
    }
   ],
   "source": [
    "# 例子3： 矩阵乘法\n",
    "\n",
    "import tensorflow as tf \n",
    "a=tf.Variable(tf.ones([3,2]))\n",
    "b=tf.Variable(tf.ones([2,3]))\n",
    "product=tf.matmul(5*a,4*b)\n",
    "init=tf.global_variables_initializer()\n",
    "\n",
    "with tf.Session() as sess:\n",
    "    sess.run(init)\n",
    "    print(sess.run(product))"
   ]
  },
  {
   "cell_type": "code",
   "execution_count": null,
   "metadata": {
    "collapsed": true
   },
   "outputs": [],
   "source": []
  }
 ],
 "metadata": {
  "kernelspec": {
   "display_name": "Python 3",
   "language": "python",
   "name": "python3"
  },
  "language_info": {
   "codemirror_mode": {
    "name": "ipython",
    "version": 3
   },
   "file_extension": ".py",
   "mimetype": "text/x-python",
   "name": "python",
   "nbconvert_exporter": "python",
   "pygments_lexer": "ipython3",
   "version": "3.5.4"
  }
 },
 "nbformat": 4,
 "nbformat_minor": 2
}
