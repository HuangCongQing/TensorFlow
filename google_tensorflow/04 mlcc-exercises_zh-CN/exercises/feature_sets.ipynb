{
  "nbformat": 4,
  "nbformat_minor": 0,
  "metadata": {
    "colab": {
      "name": "feature_sets.ipynb",
      "version": "0.3.2",
      "views": {},
      "default_view": {},
      "provenance": [],
      "collapsed_sections": [
        "IGINhMIJ5Wyt",
        "pZa8miwu6_tQ",
        "copyright-notice"
      ]
    }
  },
  "cells": [
    {
      "source": [
        "#### Copyright 2017 Google LLC."
      ],
      "metadata": {
        "id": "copyright-notice",
        "colab_type": "text"
      },
      "cell_type": "markdown"
    },
    {
      "execution_count": 0,
      "source": [
        "# Licensed under the Apache License, Version 2.0 (the \"License\");\n",
        "# you may not use this file except in compliance with the License.\n",
        "# You may obtain a copy of the License at\n",
        "#\n",
        "# https://www.apache.org/licenses/LICENSE-2.0\n",
        "#\n",
        "# Unless required by applicable law or agreed to in writing, software\n",
        "# distributed under the License is distributed on an \"AS IS\" BASIS,\n",
        "# WITHOUT WARRANTIES OR CONDITIONS OF ANY KIND, either express or implied.\n",
        "# See the License for the specific language governing permissions and\n",
        "# limitations under the License."
      ],
      "metadata": {
        "colab": {
          "autoexec": {
            "wait_interval": 0,
            "startup": false
          }
        },
        "cellView": "both",
        "id": "copyright-notice2",
        "colab_type": "code"
      },
      "outputs": [],
      "cell_type": "code"
    },
    {
      "cell_type": "markdown",
      "metadata": {
        "id": "zbIgBK-oXHO7",
        "colab_type": "text"
      },
      "source": [
        " # \u7279\u5f81\u96c6"
      ]
    },
    {
      "cell_type": "markdown",
      "metadata": {
        "id": "bL04rAQwH3pH",
        "colab_type": "text"
      },
      "source": [
        " **\u5b66\u4e60\u76ee\u6807**\uff1a\u521b\u5efa\u4e00\u4e2a\u5305\u542b\u6781\u5c11\u7279\u5f81\u4f46\u6548\u679c\u4e0e\u66f4\u590d\u6742\u7684\u7279\u5f81\u96c6\u4e00\u6837\u51fa\u8272\u7684\u96c6\u5408"
      ]
    },
    {
      "cell_type": "markdown",
      "metadata": {
        "id": "F8Hci6tAH3pH",
        "colab_type": "text"
      },
      "source": [
        " \u5230\u76ee\u524d\u4e3a\u6b62\uff0c\u6211\u4eec\u5df2\u7ecf\u5c06\u6240\u6709\u7279\u5f81\u6dfb\u52a0\u5230\u4e86\u6a21\u578b\u4e2d\u3002\u5177\u6709\u8f83\u5c11\u7279\u5f81\u7684\u6a21\u578b\u4f1a\u4f7f\u7528\u8f83\u5c11\u7684\u8d44\u6e90\uff0c\u5e76\u4e14\u66f4\u6613\u4e8e\u7ef4\u62a4\u3002\u6211\u4eec\u6765\u770b\u770b\u80fd\u5426\u6784\u5efa\u8fd9\u6837\u4e00\u79cd\u6a21\u578b\uff1a\u5305\u542b\u6781\u5c11\u7684\u4f4f\u623f\u7279\u5f81\uff0c\u4f46\u6548\u679c\u4e0e\u4f7f\u7528\u6570\u636e\u96c6\u4e2d\u6240\u6709\u7279\u5f81\u7684\u6a21\u578b\u4e00\u6837\u51fa\u8272\u3002"
      ]
    },
    {
      "cell_type": "markdown",
      "metadata": {
        "id": "F5ZjVwK_qOyR",
        "colab_type": "text"
      },
      "source": [
        " ## \u8bbe\u7f6e\n",
        "\n",
        "\u548c\u4e4b\u524d\u4e00\u6837\uff0c\u6211\u4eec\u5148\u52a0\u8f7d\u5e76\u51c6\u5907\u52a0\u5229\u798f\u5c3c\u4e9a\u5dde\u4f4f\u623f\u6570\u636e\u3002"
      ]
    },
    {
      "metadata": {
        "id": "SrOYRILAH3pJ",
        "colab_type": "code",
        "colab": {
          "autoexec": {
            "startup": false,
            "wait_interval": 0
          }
        }
      },
      "source": [
        "from __future__ import print_function\n",
        "\n",
        "import math\n",
        "\n",
        "from IPython import display\n",
        "from matplotlib import cm\n",
        "from matplotlib import gridspec\n",
        "from matplotlib import pyplot as plt\n",
        "import numpy as np\n",
        "import pandas as pd\n",
        "from sklearn import metrics\n",
        "import tensorflow as tf\n",
        "from tensorflow.python.data import Dataset\n",
        "\n",
        "tf.logging.set_verbosity(tf.logging.ERROR)\n",
        "pd.options.display.max_rows = 10\n",
        "pd.options.display.float_format = '{:.1f}'.format\n",
        "\n",
        "california_housing_dataframe = pd.read_csv(\"https://download.mlcc.google.cn/mledu-datasets/california_housing_train.csv\", sep=\",\")\n",
        "\n",
        "california_housing_dataframe = california_housing_dataframe.reindex(\n",
        "    np.random.permutation(california_housing_dataframe.index))"
      ],
      "cell_type": "code",
      "execution_count": 0,
      "outputs": []
    },
    {
      "metadata": {
        "id": "dGnXo7flH3pM",
        "colab_type": "code",
        "colab": {
          "autoexec": {
            "startup": false,
            "wait_interval": 0
          }
        }
      },
      "source": [
        "def preprocess_features(california_housing_dataframe):\n",
        "  \"\"\"Prepares input features from California housing data set.\n",
        "\n",
        "  Args:\n",
        "    california_housing_dataframe: A Pandas DataFrame expected to contain data\n",
        "      from the California housing data set.\n",
        "  Returns:\n",
        "    A DataFrame that contains the features to be used for the model, including\n",
        "    synthetic features.\n",
        "  \"\"\"\n",
        "  selected_features = california_housing_dataframe[\n",
        "    [\"latitude\",\n",
        "     \"longitude\",\n",
        "     \"housing_median_age\",\n",
        "     \"total_rooms\",\n",
        "     \"total_bedrooms\",\n",
        "     \"population\",\n",
        "     \"households\",\n",
        "     \"median_income\"]]\n",
        "  processed_features = selected_features.copy()\n",
        "  # Create a synthetic feature.\n",
        "  processed_features[\"rooms_per_person\"] = (\n",
        "    california_housing_dataframe[\"total_rooms\"] /\n",
        "    california_housing_dataframe[\"population\"])\n",
        "  return processed_features\n",
        "\n",
        "def preprocess_targets(california_housing_dataframe):\n",
        "  \"\"\"Prepares target features (i.e., labels) from California housing data set.\n",
        "\n",
        "  Args:\n",
        "    california_housing_dataframe: A Pandas DataFrame expected to contain data\n",
        "      from the California housing data set.\n",
        "  Returns:\n",
        "    A DataFrame that contains the target feature.\n",
        "  \"\"\"\n",
        "  output_targets = pd.DataFrame()\n",
        "  # Scale the target to be in units of thousands of dollars.\n",
        "  output_targets[\"median_house_value\"] = (\n",
        "    california_housing_dataframe[\"median_house_value\"] / 1000.0)\n",
        "  return output_targets"
      ],
      "cell_type": "code",
      "execution_count": 0,
      "outputs": []
    },
    {
      "metadata": {
        "id": "jLXC8y4AqsIy",
        "colab_type": "code",
        "colab": {
          "autoexec": {
            "startup": false,
            "wait_interval": 0
          }
        }
      },
      "source": [
        "# Choose the first 12000 (out of 17000) examples for training.\n",
        "training_examples = preprocess_features(california_housing_dataframe.head(12000))\n",
        "training_targets = preprocess_targets(california_housing_dataframe.head(12000))\n",
        "\n",
        "# Choose the last 5000 (out of 17000) examples for validation.\n",
        "validation_examples = preprocess_features(california_housing_dataframe.tail(5000))\n",
        "validation_targets = preprocess_targets(california_housing_dataframe.tail(5000))\n",
        "\n",
        "# Double-check that we've done the right thing.\n",
        "print(\"Training examples summary:\")\n",
        "display.display(training_examples.describe())\n",
        "print(\"Validation examples summary:\")\n",
        "display.display(validation_examples.describe())\n",
        "\n",
        "print(\"Training targets summary:\")\n",
        "display.display(training_targets.describe())\n",
        "print(\"Validation targets summary:\")\n",
        "display.display(validation_targets.describe())"
      ],
      "cell_type": "code",
      "execution_count": 0,
      "outputs": []
    },
    {
      "cell_type": "markdown",
      "metadata": {
        "id": "hLvmkugKLany",
        "colab_type": "text"
      },
      "source": [
        " ## \u4efb\u52a1 1\uff1a\u6784\u5efa\u826f\u597d\u7684\u7279\u5f81\u96c6\n",
        "\n",
        "**\u5982\u679c\u53ea\u4f7f\u7528 2 \u4e2a\u6216 3 \u4e2a\u7279\u5f81\uff0c\u60a8\u53ef\u4ee5\u83b7\u5f97\u7684\u6700\u4f73\u6548\u679c\u662f\u4ec0\u4e48\uff1f**\n",
        "\n",
        "**\u76f8\u5173\u77e9\u9635**\u5c55\u73b0\u4e86\u4e24\u4e24\u6bd4\u8f83\u7684\u76f8\u5173\u6027\uff0c\u65e2\u5305\u62ec\u6bcf\u4e2a\u7279\u5f81\u4e0e\u76ee\u6807\u7279\u5f81\u4e4b\u95f4\u7684\u6bd4\u8f83\uff0c\u4e5f\u5305\u62ec\u6bcf\u4e2a\u7279\u5f81\u4e0e\u5176\u4ed6\u7279\u5f81\u4e4b\u95f4\u7684\u6bd4\u8f83\u3002\n",
        "\n",
        "\u5728\u8fd9\u91cc\uff0c\u76f8\u5173\u6027\u88ab\u5b9a\u4e49\u4e3a[\u76ae\u5c14\u900a\u76f8\u5173\u7cfb\u6570](https://en.wikipedia.org/wiki/Pearson_product-moment_correlation_coefficient)\u3002\u60a8\u4e0d\u5fc5\u7406\u89e3\u5177\u4f53\u6570\u5b66\u539f\u7406\u4e5f\u53ef\u5b8c\u6210\u672c\u7ec3\u4e60\u3002\n",
        "\n",
        "\u76f8\u5173\u6027\u503c\u5177\u6709\u4ee5\u4e0b\u542b\u4e49\uff1a\n",
        "\n",
        "  * `-1.0`\uff1a\u5b8c\u5168\u8d1f\u76f8\u5173\n",
        "  * `0.0`\uff1a\u4e0d\u76f8\u5173\n",
        "  * `1.0`\uff1a\u5b8c\u5168\u6b63\u76f8\u5173"
      ]
    },
    {
      "metadata": {
        "id": "UzoZUSdLIolF",
        "colab_type": "code",
        "colab": {
          "autoexec": {
            "startup": false,
            "wait_interval": 0
          },
          "test": {
            "output": "ignore",
            "timeout": 600
          }
        },
        "cellView": "both"
      },
      "source": [
        "correlation_dataframe = training_examples.copy()\n",
        "correlation_dataframe[\"target\"] = training_targets[\"median_house_value\"]\n",
        "\n",
        "correlation_dataframe.corr()"
      ],
      "cell_type": "code",
      "execution_count": 0,
      "outputs": []
    },
    {
      "cell_type": "markdown",
      "metadata": {
        "id": "RQpktkNpia2P",
        "colab_type": "text"
      },
      "source": [
        " \u7406\u60f3\u60c5\u51b5\u4e0b\uff0c\u6211\u4eec\u5e0c\u671b\u5177\u6709\u4e0e\u76ee\u6807\u5bc6\u5207\u76f8\u5173\u7684\u7279\u5f81\u3002\n",
        "\n",
        "\u6b64\u5916\uff0c\u6211\u4eec\u8fd8\u5e0c\u671b\u6709\u4e00\u4e9b\u76f8\u4e92\u4e4b\u95f4\u7684\u76f8\u5173\u6027\u4e0d\u592a\u5bc6\u5207\u7684\u7279\u5f81\uff0c\u4ee5\u4fbf\u5b83\u4eec\u6dfb\u52a0\u72ec\u7acb\u4fe1\u606f\u3002\n",
        "\n",
        "\u5229\u7528\u8fd9\u4e9b\u4fe1\u606f\u6765\u5c1d\u8bd5\u79fb\u9664\u7279\u5f81\u3002\u60a8\u4e5f\u53ef\u4ee5\u5c1d\u8bd5\u6784\u5efa\u5176\u4ed6\u5408\u6210\u7279\u5f81\uff0c\u4f8b\u5982\u4e24\u4e2a\u539f\u59cb\u7279\u5f81\u7684\u6bd4\u4f8b\u3002\n",
        "\n",
        "\u4e3a\u65b9\u4fbf\u8d77\u89c1\uff0c\u6211\u4eec\u5df2\u7ecf\u6dfb\u52a0\u4e86\u524d\u4e00\u4e2a\u7ec3\u4e60\u7684\u8bad\u7ec3\u4ee3\u7801\u3002"
      ]
    },
    {
      "metadata": {
        "id": "bjR5jWpFr2xs",
        "colab_type": "code",
        "colab": {
          "autoexec": {
            "startup": false,
            "wait_interval": 0
          }
        }
      },
      "source": [
        "def construct_feature_columns(input_features):\n",
        "  \"\"\"Construct the TensorFlow Feature Columns.\n",
        "\n",
        "  Args:\n",
        "    input_features: The names of the numerical input features to use.\n",
        "  Returns:\n",
        "    A set of feature columns\n",
        "  \"\"\" \n",
        "  return set([tf.feature_column.numeric_column(my_feature)\n",
        "              for my_feature in input_features])"
      ],
      "cell_type": "code",
      "execution_count": 0,
      "outputs": []
    },
    {
      "metadata": {
        "id": "jsvKHzRciH9T",
        "colab_type": "code",
        "colab": {
          "autoexec": {
            "startup": false,
            "wait_interval": 0
          }
        }
      },
      "source": [
        "def my_input_fn(features, targets, batch_size=1, shuffle=True, num_epochs=None):\n",
        "    \"\"\"Trains a linear regression model.\n",
        "  \n",
        "    Args:\n",
        "      features: pandas DataFrame of features\n",
        "      targets: pandas DataFrame of targets\n",
        "      batch_size: Size of batches to be passed to the model\n",
        "      shuffle: True or False. Whether to shuffle the data.\n",
        "      num_epochs: Number of epochs for which data should be repeated. None = repeat indefinitely\n",
        "    Returns:\n",
        "      Tuple of (features, labels) for next data batch\n",
        "    \"\"\"\n",
        "    \n",
        "    # Convert pandas data into a dict of np arrays.\n",
        "    features = {key:np.array(value) for key,value in dict(features).items()}                                           \n",
        "    \n",
        "    # Construct a dataset, and configure batching/repeating.\n",
        "    ds = Dataset.from_tensor_slices((features,targets)) # warning: 2GB limit\n",
        "    ds = ds.batch(batch_size).repeat(num_epochs)\n",
        "\n",
        "    # Shuffle the data, if specified.\n",
        "    if shuffle:\n",
        "      ds = ds.shuffle(10000)\n",
        "    \n",
        "    # Return the next batch of data.\n",
        "    features, labels = ds.make_one_shot_iterator().get_next()\n",
        "    return features, labels"
      ],
      "cell_type": "code",
      "execution_count": 0,
      "outputs": []
    },
    {
      "metadata": {
        "id": "g3kjQV9WH3pb",
        "colab_type": "code",
        "colab": {
          "autoexec": {
            "startup": false,
            "wait_interval": 0
          }
        }
      },
      "source": [
        "def train_model(\n",
        "    learning_rate,\n",
        "    steps,\n",
        "    batch_size,\n",
        "    training_examples,\n",
        "    training_targets,\n",
        "    validation_examples,\n",
        "    validation_targets):\n",
        "  \"\"\"Trains a linear regression model.\n",
        "  \n",
        "  In addition to training, this function also prints training progress information,\n",
        "  as well as a plot of the training and validation loss over time.\n",
        "  \n",
        "  Args:\n",
        "    learning_rate: A `float`, the learning rate.\n",
        "    steps: A non-zero `int`, the total number of training steps. A training step\n",
        "      consists of a forward and backward pass using a single batch.\n",
        "    batch_size: A non-zero `int`, the batch size.\n",
        "    training_examples: A `DataFrame` containing one or more columns from\n",
        "      `california_housing_dataframe` to use as input features for training.\n",
        "    training_targets: A `DataFrame` containing exactly one column from\n",
        "      `california_housing_dataframe` to use as target for training.\n",
        "    validation_examples: A `DataFrame` containing one or more columns from\n",
        "      `california_housing_dataframe` to use as input features for validation.\n",
        "    validation_targets: A `DataFrame` containing exactly one column from\n",
        "      `california_housing_dataframe` to use as target for validation.\n",
        "      \n",
        "  Returns:\n",
        "    A `LinearRegressor` object trained on the training data.\n",
        "  \"\"\"\n",
        "\n",
        "  periods = 10\n",
        "  steps_per_period = steps / periods\n",
        "\n",
        "  # Create a linear regressor object.\n",
        "  my_optimizer = tf.train.GradientDescentOptimizer(learning_rate=learning_rate)\n",
        "  my_optimizer = tf.contrib.estimator.clip_gradients_by_norm(my_optimizer, 5.0)\n",
        "  linear_regressor = tf.estimator.LinearRegressor(\n",
        "      feature_columns=construct_feature_columns(training_examples),\n",
        "      optimizer=my_optimizer\n",
        "  )\n",
        "    \n",
        "  # Create input functions.\n",
        "  training_input_fn = lambda: my_input_fn(training_examples, \n",
        "                                          training_targets[\"median_house_value\"], \n",
        "                                          batch_size=batch_size)\n",
        "  predict_training_input_fn = lambda: my_input_fn(training_examples, \n",
        "                                                  training_targets[\"median_house_value\"], \n",
        "                                                  num_epochs=1, \n",
        "                                                  shuffle=False)\n",
        "  predict_validation_input_fn = lambda: my_input_fn(validation_examples, \n",
        "                                                    validation_targets[\"median_house_value\"], \n",
        "                                                    num_epochs=1, \n",
        "                                                    shuffle=False)\n",
        "\n",
        "  # Train the model, but do so inside a loop so that we can periodically assess\n",
        "  # loss metrics.\n",
        "  print(\"Training model...\")\n",
        "  print(\"RMSE (on training data):\")\n",
        "  training_rmse = []\n",
        "  validation_rmse = []\n",
        "  for period in range (0, periods):\n",
        "    # Train the model, starting from the prior state.\n",
        "    linear_regressor.train(\n",
        "        input_fn=training_input_fn,\n",
        "        steps=steps_per_period,\n",
        "    )\n",
        "    # Take a break and compute predictions.\n",
        "    training_predictions = linear_regressor.predict(input_fn=predict_training_input_fn)\n",
        "    training_predictions = np.array([item['predictions'][0] for item in training_predictions])\n",
        "    \n",
        "    validation_predictions = linear_regressor.predict(input_fn=predict_validation_input_fn)\n",
        "    validation_predictions = np.array([item['predictions'][0] for item in validation_predictions])\n",
        "    \n",
        "    # Compute training and validation loss.\n",
        "    training_root_mean_squared_error = math.sqrt(\n",
        "        metrics.mean_squared_error(training_predictions, training_targets))\n",
        "    validation_root_mean_squared_error = math.sqrt(\n",
        "        metrics.mean_squared_error(validation_predictions, validation_targets))\n",
        "    # Occasionally print the current loss.\n",
        "    print(\"  period %02d : %0.2f\" % (period, training_root_mean_squared_error))\n",
        "    # Add the loss metrics from this period to our list.\n",
        "    training_rmse.append(training_root_mean_squared_error)\n",
        "    validation_rmse.append(validation_root_mean_squared_error)\n",
        "  print(\"Model training finished.\")\n",
        "\n",
        "  \n",
        "  # Output a graph of loss metrics over periods.\n",
        "  plt.ylabel(\"RMSE\")\n",
        "  plt.xlabel(\"Periods\")\n",
        "  plt.title(\"Root Mean Squared Error vs. Periods\")\n",
        "  plt.tight_layout()\n",
        "  plt.plot(training_rmse, label=\"training\")\n",
        "  plt.plot(validation_rmse, label=\"validation\")\n",
        "  plt.legend()\n",
        "\n",
        "  return linear_regressor"
      ],
      "cell_type": "code",
      "execution_count": 0,
      "outputs": []
    },
    {
      "cell_type": "markdown",
      "metadata": {
        "id": "varLu7RNH3pf",
        "colab_type": "text"
      },
      "source": [
        " \u82b1 5 \u5206\u949f\u65f6\u95f4\u6765\u641c\u7d22\u4e00\u7ec4\u6548\u679c\u826f\u597d\u7684\u7279\u5f81\u548c\u8bad\u7ec3\u53c2\u6570\u3002\u7136\u540e\u67e5\u770b\u89e3\u51b3\u65b9\u6848\uff0c\u770b\u770b\u6211\u4eec\u9009\u62e9\u4e86\u54ea\u4e9b\u53c2\u6570\u3002\u8bf7\u8c28\u8bb0\uff0c\u4e0d\u540c\u7684\u7279\u5f81\u53ef\u80fd\u9700\u8981\u4e0d\u540c\u7684\u5b66\u4e60\u53c2\u6570\u3002"
      ]
    },
    {
      "metadata": {
        "id": "DSgUxRIlH3pg",
        "colab_type": "code",
        "colab": {
          "autoexec": {
            "startup": false,
            "wait_interval": 0
          }
        }
      },
      "source": [
        "#\n",
        "# Your code here: add your features of choice as a list of quoted strings.\n",
        "#\n",
        "minimal_features = [\n",
        "]\n",
        "\n",
        "assert minimal_features, \"You must select at least one feature!\"\n",
        "\n",
        "minimal_training_examples = training_examples[minimal_features]\n",
        "minimal_validation_examples = validation_examples[minimal_features]\n",
        "\n",
        "#\n",
        "# Don't forget to adjust these parameters.\n",
        "#\n",
        "train_model(\n",
        "    learning_rate=0.001,\n",
        "    steps=500,\n",
        "    batch_size=5,\n",
        "    training_examples=minimal_training_examples,\n",
        "    training_targets=training_targets,\n",
        "    validation_examples=minimal_validation_examples,\n",
        "    validation_targets=validation_targets)"
      ],
      "cell_type": "code",
      "execution_count": 0,
      "outputs": []
    },
    {
      "cell_type": "markdown",
      "metadata": {
        "id": "IGINhMIJ5Wyt",
        "colab_type": "text"
      },
      "source": [
        " ### \u89e3\u51b3\u65b9\u6848\n",
        "\n",
        "\u70b9\u51fb\u4e0b\u65b9\u5373\u53ef\u67e5\u770b\u89e3\u51b3\u65b9\u6848\u3002"
      ]
    },
    {
      "metadata": {
        "id": "BAGoXFPZ5ZE3",
        "colab_type": "code",
        "colab": {
          "autoexec": {
            "startup": false,
            "wait_interval": 0
          }
        }
      },
      "source": [
        "minimal_features = [\n",
        "  \"median_income\",\n",
        "  \"latitude\",\n",
        "]\n",
        "\n",
        "minimal_training_examples = training_examples[minimal_features]\n",
        "minimal_validation_examples = validation_examples[minimal_features]\n",
        "\n",
        "_ = train_model(\n",
        "    learning_rate=0.01,\n",
        "    steps=500,\n",
        "    batch_size=5,\n",
        "    training_examples=minimal_training_examples,\n",
        "    training_targets=training_targets,\n",
        "    validation_examples=minimal_validation_examples,\n",
        "    validation_targets=validation_targets)"
      ],
      "cell_type": "code",
      "execution_count": 0,
      "outputs": []
    },
    {
      "cell_type": "markdown",
      "metadata": {
        "id": "RidI9YhKOiY2",
        "colab_type": "text"
      },
      "source": [
        " ## \u4efb\u52a1 2\uff1a\u66f4\u597d\u5730\u5229\u7528\u7eac\u5ea6\n",
        "\n",
        "\u7ed8\u5236 `latitude` \u4e0e `median_house_value` \u7684\u56fe\u5f62\u540e\uff0c\u8868\u660e\u4e24\u8005\u786e\u5b9e\u4e0d\u5b58\u5728\u7ebf\u6027\u5173\u7cfb\u3002\n",
        "\n",
        "\u4e0d\u8fc7\uff0c\u6709\u51e0\u4e2a\u5cf0\u503c\u4e0e\u6d1b\u6749\u77f6\u548c\u65e7\u91d1\u5c71\u5927\u81f4\u76f8\u5bf9\u5e94\u3002"
      ]
    },
    {
      "metadata": {
        "id": "hfGUKj2IR_F1",
        "colab_type": "code",
        "colab": {
          "autoexec": {
            "startup": false,
            "wait_interval": 0
          },
          "test": {
            "output": "ignore",
            "timeout": 600
          }
        },
        "cellView": "both"
      },
      "source": [
        "plt.scatter(training_examples[\"latitude\"], training_targets[\"median_house_value\"])"
      ],
      "cell_type": "code",
      "execution_count": 0,
      "outputs": []
    },
    {
      "cell_type": "markdown",
      "metadata": {
        "id": "6N0p91k2iFCP",
        "colab_type": "text"
      },
      "source": [
        " **\u5c1d\u8bd5\u521b\u5efa\u4e00\u4e9b\u80fd\u591f\u66f4\u597d\u5730\u5229\u7528\u7eac\u5ea6\u7684\u5408\u6210\u7279\u5f81\u3002**\n",
        "\n",
        "\u4f8b\u5982\uff0c\u60a8\u53ef\u4ee5\u521b\u5efa\u67d0\u4e2a\u7279\u5f81\uff0c\u5c06 `latitude` \u6620\u5c04\u5230\u503c `|latitude - 38|`\uff0c\u5e76\u5c06\u8be5\u7279\u5f81\u547d\u540d\u4e3a `distance_from_san_francisco`\u3002\n",
        "\n",
        "\u6216\u8005\uff0c\u60a8\u53ef\u4ee5\u5c06\u8be5\u7a7a\u95f4\u5206\u6210 10 \u4e2a\u4e0d\u540c\u7684\u5206\u6876\uff08\u4f8b\u5982 `latitude_32_to_33`\u3001`latitude_33_to_34` \u7b49\uff09\uff1a\u5982\u679c `latitude` \u4f4d\u4e8e\u76f8\u5e94\u5206\u6876\u8303\u56f4\u5185\uff0c\u5219\u663e\u793a\u503c `1.0`\uff1b\u5982\u679c\u4e0d\u5728\u8303\u56f4\u5185\uff0c\u5219\u663e\u793a\u503c `0.0`\u3002\n",
        "\n",
        "\u4f7f\u7528\u76f8\u5173\u77e9\u9635\u6765\u6307\u5bfc\u60a8\u6784\u5efa\u5408\u6210\u7279\u5f81\uff1b\u5982\u679c\u60a8\u53d1\u73b0\u6548\u679c\u8fd8\u4e0d\u9519\u7684\u5408\u6210\u7279\u5f81\uff0c\u53ef\u4ee5\u5c06\u5176\u6dfb\u52a0\u5230\u60a8\u7684\u6a21\u578b\u4e2d\u3002\n",
        "\n",
        "\u60a8\u53ef\u4ee5\u83b7\u5f97\u7684\u6700\u4f73\u9a8c\u8bc1\u6548\u679c\u662f\u4ec0\u4e48\uff1f"
      ]
    },
    {
      "metadata": {
        "id": "wduJ2B28yMFl",
        "colab_type": "code",
        "colab": {
          "autoexec": {
            "startup": false,
            "wait_interval": 0
          }
        },
        "cellView": "form"
      },
      "source": [
        "#\n",
        "# YOUR CODE HERE: Train on a new data set that includes synthetic features based on latitude.\n",
        "#"
      ],
      "cell_type": "code",
      "execution_count": 0,
      "outputs": []
    },
    {
      "cell_type": "markdown",
      "metadata": {
        "id": "pZa8miwu6_tQ",
        "colab_type": "text"
      },
      "source": [
        " ### \u89e3\u51b3\u65b9\u6848\n",
        "\n",
        "\u70b9\u51fb\u4e0b\u65b9\u5373\u53ef\u67e5\u770b\u89e3\u51b3\u65b9\u6848\u3002"
      ]
    },
    {
      "cell_type": "markdown",
      "metadata": {
        "id": "PzABdyjq7IZU",
        "colab_type": "text"
      },
      "source": [
        " \u9664\u4e86 `latitude` \u4e4b\u5916\uff0c\u6211\u4eec\u8fd8\u4f1a\u4fdd\u7559 `median_income`\uff0c\u4ee5\u4fbf\u4e0e\u4e4b\u524d\u7684\u7ed3\u679c\u8fdb\u884c\u6bd4\u8f83\u3002\n",
        "\n",
        "\u6211\u4eec\u51b3\u5b9a\u5bf9\u7eac\u5ea6\u8fdb\u884c\u5206\u6876\u3002\u5728 Pandas \u4e2d\u4f7f\u7528 `Series.apply` \u6267\u884c\u6b64\u64cd\u4f5c\u76f8\u5f53\u7b80\u5355\u3002"
      ]
    },
    {
      "metadata": {
        "id": "xdVF8siZ7Lup",
        "colab_type": "code",
        "colab": {
          "autoexec": {
            "startup": false,
            "wait_interval": 0
          }
        }
      },
      "source": [
        "LATITUDE_RANGES = zip(range(32, 44), range(33, 45))\n",
        "\n",
        "def select_and_transform_features(source_df):\n",
        "  selected_examples = pd.DataFrame()\n",
        "  selected_examples[\"median_income\"] = source_df[\"median_income\"]\n",
        "  for r in LATITUDE_RANGES:\n",
        "    selected_examples[\"latitude_%d_to_%d\" % r] = source_df[\"latitude\"].apply(\n",
        "      lambda l: 1.0 if l >= r[0] and l < r[1] else 0.0)\n",
        "  return selected_examples\n",
        "\n",
        "selected_training_examples = select_and_transform_features(training_examples)\n",
        "selected_validation_examples = select_and_transform_features(validation_examples)"
      ],
      "cell_type": "code",
      "execution_count": 0,
      "outputs": []
    },
    {
      "metadata": {
        "id": "U4iAdY6t7Pkh",
        "colab_type": "code",
        "colab": {
          "autoexec": {
            "startup": false,
            "wait_interval": 0
          }
        }
      },
      "source": [
        "_ = train_model(\n",
        "    learning_rate=0.01,\n",
        "    steps=500,\n",
        "    batch_size=5,\n",
        "    training_examples=selected_training_examples,\n",
        "    training_targets=training_targets,\n",
        "    validation_examples=selected_validation_examples,\n",
        "    validation_targets=validation_targets)"
      ],
      "cell_type": "code",
      "execution_count": 0,
      "outputs": []
    }
  ]
}
