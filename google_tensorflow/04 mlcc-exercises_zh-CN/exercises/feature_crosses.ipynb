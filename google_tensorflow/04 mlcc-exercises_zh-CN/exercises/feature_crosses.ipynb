{
  "nbformat": 4,
  "nbformat_minor": 0,
  "metadata": {
    "colab": {
      "name": "feature_crosses.ipynb",
      "version": "0.3.2",
      "views": {},
      "default_view": {},
      "provenance": [],
      "collapsed_sections": [
        "ZTDHHM61NPTw",
        "0i7vGo9PTaZl",
        "copyright-notice"
      ]
    }
  },
  "cells": [
    {
      "cell_type": "markdown",
      "source": [
        "#### Copyright 2017 Google LLC."
      ],
      "metadata": {
        "id": "copyright-notice",
        "colab_type": "text"
      }
    },
    {
      "cell_type": "code",
      "source": [
        "# Licensed under the Apache License, Version 2.0 (the \"License\");\n",
        "# you may not use this file except in compliance with the License.\n",
        "# You may obtain a copy of the License at\n",
        "#\n",
        "# https://www.apache.org/licenses/LICENSE-2.0\n",
        "#\n",
        "# Unless required by applicable law or agreed to in writing, software\n",
        "# distributed under the License is distributed on an \"AS IS\" BASIS,\n",
        "# WITHOUT WARRANTIES OR CONDITIONS OF ANY KIND, either express or implied.\n",
        "# See the License for the specific language governing permissions and\n",
        "# limitations under the License."
      ],
      "metadata": {
        "cellView": "both",
        "colab": {
          "autoexec": {
            "wait_interval": 0,
            "startup": false
          }
        },
        "id": "copyright-notice2",
        "colab_type": "code"
      },
      "execution_count": 0,
      "outputs": []
    },
    {
      "metadata": {
        "id": "g4T-_IsVbweU",
        "colab_type": "text"
      },
      "cell_type": "markdown",
      "source": [
        " # \u7279\u5f81\u7ec4\u5408"
      ]
    },
    {
      "metadata": {
        "id": "F7dke6skIK-k",
        "colab_type": "text"
      },
      "cell_type": "markdown",
      "source": [
        " **\u5b66\u4e60\u76ee\u6807\uff1a**\n",
        "  * \u901a\u8fc7\u6dfb\u52a0\u5176\u4ed6\u5408\u6210\u7279\u5f81\u6765\u6539\u8fdb\u7ebf\u6027\u56de\u5f52\u6a21\u578b\uff08\u8fd9\u662f\u524d\u4e00\u4e2a\u7ec3\u4e60\u7684\u5ef6\u7eed\uff09\n",
        "  * \u4f7f\u7528\u8f93\u5165\u51fd\u6570\u5c06 Pandas `DataFrame` \u5bf9\u8c61\u8f6c\u6362\u4e3a `Tensors`\uff0c\u5e76\u5728 `fit()` \u548c `predict()` \u4e2d\u8c03\u7528\u8f93\u5165\u51fd\u6570\n",
        "  * \u4f7f\u7528 FTRL \u4f18\u5316\u7b97\u6cd5\u8fdb\u884c\u6a21\u578b\u8bad\u7ec3\n",
        "  * \u901a\u8fc7\u72ec\u70ed\u7f16\u7801\u3001\u5206\u7bb1\u548c\u7279\u5f81\u7ec4\u5408\u521b\u5efa\u65b0\u7684\u5408\u6210\u7279\u5f81"
      ]
    },
    {
      "metadata": {
        "id": "NS_fcQRd8B97",
        "colab_type": "text"
      },
      "cell_type": "markdown",
      "source": [
        " ## \u8bbe\u7f6e"
      ]
    },
    {
      "metadata": {
        "id": "4IdzD8IdIK-l",
        "colab_type": "text"
      },
      "cell_type": "markdown",
      "source": [
        " \u9996\u5148\uff0c\u6211\u4eec\u6765\u5b9a\u4e49\u8f93\u5165\u5e76\u521b\u5efa\u6570\u636e\u52a0\u8f7d\u4ee3\u7801\uff0c\u6b63\u5982\u6211\u4eec\u5728\u4e4b\u524d\u7684\u7ec3\u4e60\u4e2d\u6240\u505a\u7684\u90a3\u6837\u3002"
      ]
    },
    {
      "metadata": {
        "id": "CsfdiLiDIK-n",
        "colab_type": "code",
        "colab": {
          "autoexec": {
            "startup": false,
            "wait_interval": 0
          }
        }
      },
      "source": [
        "from __future__ import print_function\n",
        "\n",
        "import math\n",
        "\n",
        "from IPython import display\n",
        "from matplotlib import cm\n",
        "from matplotlib import gridspec\n",
        "from matplotlib import pyplot as plt\n",
        "import numpy as np\n",
        "import pandas as pd\n",
        "from sklearn import metrics\n",
        "import tensorflow as tf\n",
        "from tensorflow.python.data import Dataset\n",
        "\n",
        "tf.logging.set_verbosity(tf.logging.ERROR)\n",
        "pd.options.display.max_rows = 10\n",
        "pd.options.display.float_format = '{:.1f}'.format\n",
        "\n",
        "california_housing_dataframe = pd.read_csv(\"https://download.mlcc.google.cn/mledu-datasets/california_housing_train.csv\", sep=\",\")\n",
        "\n",
        "california_housing_dataframe = california_housing_dataframe.reindex(\n",
        "    np.random.permutation(california_housing_dataframe.index))"
      ],
      "cell_type": "code",
      "execution_count": 0,
      "outputs": []
    },
    {
      "metadata": {
        "id": "10rhoflKIK-s",
        "colab_type": "code",
        "colab": {
          "autoexec": {
            "startup": false,
            "wait_interval": 0
          }
        }
      },
      "source": [
        "def preprocess_features(california_housing_dataframe):\n",
        "  \"\"\"Prepares input features from California housing data set.\n",
        "\n",
        "  Args:\n",
        "    california_housing_dataframe: A Pandas DataFrame expected to contain data\n",
        "      from the California housing data set.\n",
        "  Returns:\n",
        "    A DataFrame that contains the features to be used for the model, including\n",
        "    synthetic features.\n",
        "  \"\"\"\n",
        "  selected_features = california_housing_dataframe[\n",
        "    [\"latitude\",\n",
        "     \"longitude\",\n",
        "     \"housing_median_age\",\n",
        "     \"total_rooms\",\n",
        "     \"total_bedrooms\",\n",
        "     \"population\",\n",
        "     \"households\",\n",
        "     \"median_income\"]]\n",
        "  processed_features = selected_features.copy()\n",
        "  # Create a synthetic feature.\n",
        "  processed_features[\"rooms_per_person\"] = (\n",
        "    california_housing_dataframe[\"total_rooms\"] /\n",
        "    california_housing_dataframe[\"population\"])\n",
        "  return processed_features\n",
        "\n",
        "def preprocess_targets(california_housing_dataframe):\n",
        "  \"\"\"Prepares target features (i.e., labels) from California housing data set.\n",
        "\n",
        "  Args:\n",
        "    california_housing_dataframe: A Pandas DataFrame expected to contain data\n",
        "      from the California housing data set.\n",
        "  Returns:\n",
        "    A DataFrame that contains the target feature.\n",
        "  \"\"\"\n",
        "  output_targets = pd.DataFrame()\n",
        "  # Scale the target to be in units of thousands of dollars.\n",
        "  output_targets[\"median_house_value\"] = (\n",
        "    california_housing_dataframe[\"median_house_value\"] / 1000.0)\n",
        "  return output_targets"
      ],
      "cell_type": "code",
      "execution_count": 0,
      "outputs": []
    },
    {
      "metadata": {
        "id": "ufplEkjN8KUp",
        "colab_type": "code",
        "colab": {
          "autoexec": {
            "startup": false,
            "wait_interval": 0
          }
        }
      },
      "source": [
        "# Choose the first 12000 (out of 17000) examples for training.\n",
        "training_examples = preprocess_features(california_housing_dataframe.head(12000))\n",
        "training_targets = preprocess_targets(california_housing_dataframe.head(12000))\n",
        "\n",
        "# Choose the last 5000 (out of 17000) examples for validation.\n",
        "validation_examples = preprocess_features(california_housing_dataframe.tail(5000))\n",
        "validation_targets = preprocess_targets(california_housing_dataframe.tail(5000))\n",
        "\n",
        "# Double-check that we've done the right thing.\n",
        "print(\"Training examples summary:\")\n",
        "display.display(training_examples.describe())\n",
        "print(\"Validation examples summary:\")\n",
        "display.display(validation_examples.describe())\n",
        "\n",
        "print(\"Training targets summary:\")\n",
        "display.display(training_targets.describe())\n",
        "print(\"Validation targets summary:\")\n",
        "display.display(validation_targets.describe())"
      ],
      "cell_type": "code",
      "execution_count": 0,
      "outputs": []
    },
    {
      "metadata": {
        "id": "oJlrB4rJ_2Ma",
        "colab_type": "code",
        "colab": {
          "autoexec": {
            "startup": false,
            "wait_interval": 0
          }
        }
      },
      "source": [
        "def construct_feature_columns(input_features):\n",
        "  \"\"\"Construct the TensorFlow Feature Columns.\n",
        "\n",
        "  Args:\n",
        "    input_features: The names of the numerical input features to use.\n",
        "  Returns:\n",
        "    A set of feature columns\n",
        "  \"\"\"\n",
        "  return set([tf.feature_column.numeric_column(my_feature)\n",
        "              for my_feature in input_features])"
      ],
      "cell_type": "code",
      "execution_count": 0,
      "outputs": []
    },
    {
      "metadata": {
        "id": "NBxoAfp2AcB6",
        "colab_type": "code",
        "colab": {
          "autoexec": {
            "startup": false,
            "wait_interval": 0
          }
        }
      },
      "source": [
        "def my_input_fn(features, targets, batch_size=1, shuffle=True, num_epochs=None):\n",
        "    \"\"\"Trains a linear regression model.\n",
        "  \n",
        "    Args:\n",
        "      features: pandas DataFrame of features\n",
        "      targets: pandas DataFrame of targets\n",
        "      batch_size: Size of batches to be passed to the model\n",
        "      shuffle: True or False. Whether to shuffle the data.\n",
        "      num_epochs: Number of epochs for which data should be repeated. None = repeat indefinitely\n",
        "    Returns:\n",
        "      Tuple of (features, labels) for next data batch\n",
        "    \"\"\"\n",
        "    \n",
        "    # Convert pandas data into a dict of np arrays.\n",
        "    features = {key:np.array(value) for key,value in dict(features).items()}                                           \n",
        " \n",
        "    # Construct a dataset, and configure batching/repeating.\n",
        "    ds = Dataset.from_tensor_slices((features,targets)) # warning: 2GB limit\n",
        "    ds = ds.batch(batch_size).repeat(num_epochs)\n",
        "    \n",
        "    # Shuffle the data, if specified.\n",
        "    if shuffle:\n",
        "      ds = ds.shuffle(10000)\n",
        "    \n",
        "    # Return the next batch of data.\n",
        "    features, labels = ds.make_one_shot_iterator().get_next()\n",
        "    return features, labels"
      ],
      "cell_type": "code",
      "execution_count": 0,
      "outputs": []
    },
    {
      "metadata": {
        "id": "hweDyy31LBsV",
        "colab_type": "text"
      },
      "cell_type": "markdown",
      "source": [
        " ## FTRL \u4f18\u5316\u7b97\u6cd5\n",
        "\n",
        "\u9ad8\u7ef4\u5ea6\u7ebf\u6027\u6a21\u578b\u53ef\u53d7\u76ca\u4e8e\u4f7f\u7528\u4e00\u79cd\u57fa\u4e8e\u68af\u5ea6\u7684\u4f18\u5316\u65b9\u6cd5\uff0c\u53eb\u505a FTRL\u3002\u8be5\u7b97\u6cd5\u7684\u4f18\u52bf\u662f\u9488\u5bf9\u4e0d\u540c\u7cfb\u6570\u4ee5\u4e0d\u540c\u65b9\u5f0f\u8c03\u6574\u5b66\u4e60\u901f\u7387\uff0c\u5982\u679c\u67d0\u4e9b\u7279\u5f81\u5f88\u5c11\u91c7\u7528\u975e\u96f6\u503c\uff0c\u8be5\u7b97\u6cd5\u53ef\u80fd\u6bd4\u8f83\u5b9e\u7528\uff08\u4e5f\u975e\u5e38\u9002\u5408\u652f\u6301 L1 \u6b63\u5219\u5316\uff09\u3002\u6211\u4eec\u53ef\u4ee5\u4f7f\u7528 [FtrlOptimizer](https://www.tensorflow.org/api_docs/python/tf/train/FtrlOptimizer) \u6765\u5e94\u7528 FTRL\u3002"
      ]
    },
    {
      "metadata": {
        "id": "S0SBf1X1IK_O",
        "colab_type": "code",
        "colab": {
          "autoexec": {
            "startup": false,
            "wait_interval": 0
          }
        }
      },
      "source": [
        "def train_model(\n",
        "    learning_rate,\n",
        "    steps,\n",
        "    batch_size,\n",
        "    feature_columns,\n",
        "    training_examples,\n",
        "    training_targets,\n",
        "    validation_examples,\n",
        "    validation_targets):\n",
        "  \"\"\"Trains a linear regression model.\n",
        "  \n",
        "  In addition to training, this function also prints training progress information,\n",
        "  as well as a plot of the training and validation loss over time.\n",
        "  \n",
        "  Args:\n",
        "    learning_rate: A `float`, the learning rate.\n",
        "    steps: A non-zero `int`, the total number of training steps. A training step\n",
        "      consists of a forward and backward pass using a single batch.\n",
        "    feature_columns: A `set` specifying the input feature columns to use.\n",
        "    training_examples: A `DataFrame` containing one or more columns from\n",
        "      `california_housing_dataframe` to use as input features for training.\n",
        "    training_targets: A `DataFrame` containing exactly one column from\n",
        "      `california_housing_dataframe` to use as target for training.\n",
        "    validation_examples: A `DataFrame` containing one or more columns from\n",
        "      `california_housing_dataframe` to use as input features for validation.\n",
        "    validation_targets: A `DataFrame` containing exactly one column from\n",
        "      `california_housing_dataframe` to use as target for validation.\n",
        "      \n",
        "  Returns:\n",
        "    A `LinearRegressor` object trained on the training data.\n",
        "  \"\"\"\n",
        "\n",
        "  periods = 10\n",
        "  steps_per_period = steps / periods\n",
        "\n",
        "  # Create a linear regressor object.\n",
        "  my_optimizer = tf.train.FtrlOptimizer(learning_rate=learning_rate)\n",
        "  my_optimizer = tf.contrib.estimator.clip_gradients_by_norm(my_optimizer, 5.0)\n",
        "  linear_regressor = tf.estimator.LinearRegressor(\n",
        "      feature_columns=feature_columns,\n",
        "      optimizer=my_optimizer\n",
        "  )\n",
        "  \n",
        "  training_input_fn = lambda: my_input_fn(training_examples, \n",
        "                                          training_targets[\"median_house_value\"], \n",
        "                                          batch_size=batch_size)\n",
        "  predict_training_input_fn = lambda: my_input_fn(training_examples, \n",
        "                                                  training_targets[\"median_house_value\"], \n",
        "                                                  num_epochs=1, \n",
        "                                                  shuffle=False)\n",
        "  predict_validation_input_fn = lambda: my_input_fn(validation_examples, \n",
        "                                                    validation_targets[\"median_house_value\"], \n",
        "                                                    num_epochs=1, \n",
        "                                                    shuffle=False)\n",
        "\n",
        "  # Train the model, but do so inside a loop so that we can periodically assess\n",
        "  # loss metrics.\n",
        "  print(\"Training model...\")\n",
        "  print(\"RMSE (on training data):\")\n",
        "  training_rmse = []\n",
        "  validation_rmse = []\n",
        "  for period in range (0, periods):\n",
        "    # Train the model, starting from the prior state.\n",
        "    linear_regressor.train(\n",
        "        input_fn=training_input_fn,\n",
        "        steps=steps_per_period\n",
        "    )\n",
        "    # Take a break and compute predictions.\n",
        "    training_predictions = linear_regressor.predict(input_fn=predict_training_input_fn)\n",
        "    training_predictions = np.array([item['predictions'][0] for item in training_predictions])\n",
        "    validation_predictions = linear_regressor.predict(input_fn=predict_validation_input_fn)\n",
        "    validation_predictions = np.array([item['predictions'][0] for item in validation_predictions])\n",
        "    \n",
        "    # Compute training and validation loss.\n",
        "    training_root_mean_squared_error = math.sqrt(\n",
        "        metrics.mean_squared_error(training_predictions, training_targets))\n",
        "    validation_root_mean_squared_error = math.sqrt(\n",
        "        metrics.mean_squared_error(validation_predictions, validation_targets))\n",
        "    # Occasionally print the current loss.\n",
        "    print(\"  period %02d : %0.2f\" % (period, training_root_mean_squared_error))\n",
        "    # Add the loss metrics from this period to our list.\n",
        "    training_rmse.append(training_root_mean_squared_error)\n",
        "    validation_rmse.append(validation_root_mean_squared_error)\n",
        "  print(\"Model training finished.\")\n",
        "\n",
        "  \n",
        "  # Output a graph of loss metrics over periods.\n",
        "  plt.ylabel(\"RMSE\")\n",
        "  plt.xlabel(\"Periods\")\n",
        "  plt.title(\"Root Mean Squared Error vs. Periods\")\n",
        "  plt.tight_layout()\n",
        "  plt.plot(training_rmse, label=\"training\")\n",
        "  plt.plot(validation_rmse, label=\"validation\")\n",
        "  plt.legend()\n",
        "\n",
        "  return linear_regressor"
      ],
      "cell_type": "code",
      "execution_count": 0,
      "outputs": []
    },
    {
      "metadata": {
        "id": "1Cdr02tLIK_Q",
        "colab_type": "code",
        "colab": {
          "autoexec": {
            "startup": false,
            "wait_interval": 0
          }
        }
      },
      "source": [
        "_ = train_model(\n",
        "    learning_rate=1.0,\n",
        "    steps=500,\n",
        "    batch_size=100,\n",
        "    feature_columns=construct_feature_columns(training_examples),\n",
        "    training_examples=training_examples,\n",
        "    training_targets=training_targets,\n",
        "    validation_examples=validation_examples,\n",
        "    validation_targets=validation_targets)"
      ],
      "cell_type": "code",
      "execution_count": 0,
      "outputs": []
    },
    {
      "metadata": {
        "id": "i4lGvqajDWlw",
        "colab_type": "text"
      },
      "cell_type": "markdown",
      "source": [
        " ## \u79bb\u6563\u7279\u5f81\u7684\u72ec\u70ed\u7f16\u7801\n",
        "\n",
        "\u901a\u5e38\uff0c\u5728\u8bad\u7ec3\u903b\u8f91\u56de\u5f52\u6a21\u578b\u4e4b\u524d\uff0c\u79bb\u6563\uff08\u5373\u5b57\u7b26\u4e32\u3001\u679a\u4e3e\u3001\u6574\u6570\uff09\u7279\u5f81\u4f1a\u8f6c\u6362\u4e3a\u4e8c\u5143\u7279\u5f81\u7cfb\u5217\u3002\n",
        "\n",
        "\u4f8b\u5982\uff0c\u5047\u8bbe\u6211\u4eec\u521b\u5efa\u4e86\u4e00\u4e2a\u5408\u6210\u7279\u5f81\uff0c\u53ef\u4ee5\u91c7\u7528 `0`\u3001`1` \u6216 `2` \u4e2d\u7684\u4efb\u4f55\u503c\uff0c\u5e76\u4e14\u6211\u4eec\u8fd8\u5177\u6709\u4ee5\u4e0b\u51e0\u4e2a\u8bad\u7ec3\u70b9\uff1a\n",
        "\n",
        "| # | feature_value |\n",
        "|---|---------------|\n",
        "| 0 |             2 |\n",
        "| 1 |             0 |\n",
        "| 2 |             1 |\n",
        "\n",
        "\u5bf9\u4e8e\u6bcf\u4e2a\u53ef\u80fd\u7684\u5206\u7c7b\u503c\uff0c\u6211\u4eec\u90fd\u4f1a\u521b\u5efa\u4e00\u4e2a\u65b0\u7684**\u4e8c\u5143****\u5b9e\u503c**\u7279\u5f81\uff0c\u8be5\u7279\u5f81\u53ea\u80fd\u91c7\u7528\u4e24\u4e2a\u53ef\u80fd\u503c\u4e2d\u7684\u4e00\u4e2a\uff1a\u5982\u679c\u793a\u4f8b\u4e2d\u5305\u542b\u8be5\u503c\uff0c\u5219\u503c\u4e3a 1.0\uff1b\u5982\u679c\u4e0d\u5305\u542b\uff0c\u5219\u503c\u4e3a 0.0\u3002\u5728\u4e0a\u8ff0\u793a\u4f8b\u4e2d\uff0c\u5206\u7c7b\u7279\u5f81\u4f1a\u88ab\u8f6c\u6362\u6210\u4e09\u4e2a\u7279\u5f81\uff0c\u73b0\u5728\u8bad\u7ec3\u70b9\u5982\u4e0b\u6240\u793a\uff1a\n",
        "\n",
        "| # | feature_value_0 | feature_value_1 | feature_value_2 |\n",
        "|---|-----------------|-----------------|-----------------|\n",
        "| 0 |             0.0 |             0.0 |             1.0 |\n",
        "| 1 |             1.0 |             0.0 |             0.0 |\n",
        "| 2 |             0.0 |             1.0 |             0.0 |"
      ]
    },
    {
      "metadata": {
        "id": "KnssXowblKm7",
        "colab_type": "text"
      },
      "cell_type": "markdown",
      "source": [
        " ## \u5206\u6876\uff08\u5206\u7bb1\uff09\u7279\u5f81\n",
        "\n",
        "\u5206\u6876\u4e5f\u79f0\u4e3a\u5206\u7bb1\u3002\n",
        "\n",
        "\u4f8b\u5982\uff0c\u6211\u4eec\u53ef\u4ee5\u5c06 `population` \u5206\u4e3a\u4ee5\u4e0b 3 \u4e2a\u5206\u6876\uff1a\n",
        "- `bucket_0` (`< 5000`)\uff1a\u5bf9\u5e94\u4e8e\u4eba\u53e3\u5206\u5e03\u8f83\u5c11\u7684\u8857\u533a\n",
        "- `bucket_1` (`5000 - 25000`)\uff1a\u5bf9\u5e94\u4e8e\u4eba\u53e3\u5206\u5e03\u9002\u4e2d\u7684\u8857\u533a\n",
        "- `bucket_2` (`> 25000`)\uff1a\u5bf9\u5e94\u4e8e\u4eba\u53e3\u5206\u5e03\u8f83\u591a\u7684\u8857\u533a\n",
        "\n",
        "\u6839\u636e\u524d\u9762\u7684\u5206\u6876\u5b9a\u4e49\uff0c\u4ee5\u4e0b `population` \u77e2\u91cf\uff1a\n",
        "\n",
        "    [[10001], [42004], [2500], [18000]]\n",
        "\n",
        "\u5c06\u53d8\u6210\u4ee5\u4e0b\u7ecf\u8fc7\u5206\u6876\u7684\u7279\u5f81\u77e2\u91cf\uff1a\n",
        "\n",
        "    [[1], [2], [0], [1]]\n",
        "\n",
        "\u8fd9\u4e9b\u7279\u5f81\u503c\u73b0\u5728\u662f\u5206\u6876\u7d22\u5f15\u3002\u8bf7\u6ce8\u610f\uff0c\u8fd9\u4e9b\u7d22\u5f15\u88ab\u89c6\u4e3a\u79bb\u6563\u7279\u5f81\u3002\u901a\u5e38\u60c5\u51b5\u4e0b\uff0c\u8fd9\u4e9b\u7279\u5f81\u5c06\u88ab\u8fdb\u4e00\u6b65\u8f6c\u6362\u4e3a\u4e0a\u8ff0\u72ec\u70ed\u8868\u793a\u6cd5\uff0c\u4f46\u8fd9\u662f\u4ee5\u900f\u660e\u65b9\u5f0f\u5b9e\u73b0\u7684\u3002\n",
        "\n",
        "\u8981\u4e3a\u5206\u6876\u7279\u5f81\u5b9a\u4e49\u7279\u5f81\u5217\uff0c\u6211\u4eec\u53ef\u4ee5\u4f7f\u7528 [`bucketized_column`](https://www.tensorflow.org/api_docs/python/tf/feature_column/bucketized_column)\uff08\u800c\u4e0d\u662f\u4f7f\u7528 `numeric_column`\uff09\uff0c\u8be5\u5217\u5c06\u6570\u5b57\u5217\u4f5c\u4e3a\u8f93\u5165\uff0c\u5e76\u4f7f\u7528 `boundardies` \u53c2\u6570\u4e2d\u6307\u5b9a\u7684\u5206\u6876\u8fb9\u754c\u5c06\u5176\u8f6c\u6362\u4e3a\u5206\u6876\u7279\u5f81\u3002\u4ee5\u4e0b\u4ee3\u7801\u4e3a `households` \u548c `longitude` \u5b9a\u4e49\u4e86\u5206\u6876\u7279\u5f81\u5217\uff1b`get_quantile_based_boundaries` \u51fd\u6570\u4f1a\u6839\u636e\u5206\u4f4d\u6570\u8ba1\u7b97\u8fb9\u754c\uff0c\u4ee5\u4fbf\u6bcf\u4e2a\u5206\u6876\u5305\u542b\u76f8\u540c\u6570\u91cf\u7684\u5143\u7d20\u3002"
      ]
    },
    {
      "metadata": {
        "id": "cc9qZrtRy-ED",
        "colab_type": "code",
        "colab": {
          "autoexec": {
            "startup": false,
            "wait_interval": 0
          }
        }
      },
      "source": [
        "def get_quantile_based_boundaries(feature_values, num_buckets):\n",
        "  boundaries = np.arange(1.0, num_buckets) / num_buckets\n",
        "  quantiles = feature_values.quantile(boundaries)\n",
        "  return [quantiles[q] for q in quantiles.keys()]\n",
        "\n",
        "# Divide households into 7 buckets.\n",
        "households = tf.feature_column.numeric_column(\"households\")\n",
        "bucketized_households = tf.feature_column.bucketized_column(\n",
        "  households, boundaries=get_quantile_based_boundaries(\n",
        "    california_housing_dataframe[\"households\"], 7))\n",
        "\n",
        "# Divide longitude into 10 buckets.\n",
        "longitude = tf.feature_column.numeric_column(\"longitude\")\n",
        "bucketized_longitude = tf.feature_column.bucketized_column(\n",
        "  longitude, boundaries=get_quantile_based_boundaries(\n",
        "    california_housing_dataframe[\"longitude\"], 10))"
      ],
      "cell_type": "code",
      "execution_count": 0,
      "outputs": []
    },
    {
      "metadata": {
        "id": "U-pQDAa0MeN3",
        "colab_type": "text"
      },
      "cell_type": "markdown",
      "source": [
        " ## \u4efb\u52a1 1\uff1a\u4f7f\u7528\u5206\u6876\u7279\u5f81\u5217\u8bad\u7ec3\u6a21\u578b\n",
        "**\u5c06\u6211\u4eec\u793a\u4f8b\u4e2d\u7684\u6240\u6709\u5b9e\u503c\u7279\u5f81\u8fdb\u884c\u5206\u6876\uff0c\u8bad\u7ec3\u6a21\u578b\uff0c\u7136\u540e\u67e5\u770b\u7ed3\u679c\u662f\u5426\u6709\u6240\u6539\u5584\u3002**\n",
        "\n",
        "\u5728\u524d\u9762\u7684\u4ee3\u7801\u5757\u4e2d\uff0c\u4e24\u4e2a\u5b9e\u503c\u5217\uff08\u5373 `households` \u548c `longitude`\uff09\u5df2\u88ab\u8f6c\u6362\u4e3a\u5206\u6876\u7279\u5f81\u5217\u3002\u60a8\u7684\u4efb\u52a1\u662f\u5bf9\u5176\u4f59\u7684\u5217\u8fdb\u884c\u5206\u6876\uff0c\u7136\u540e\u8fd0\u884c\u4ee3\u7801\u6765\u8bad\u7ec3\u6a21\u578b\u3002\u60a8\u53ef\u4ee5\u91c7\u7528\u5404\u79cd\u542f\u53d1\u6cd5\u6765\u786e\u5b9a\u5206\u6876\u7684\u8303\u56f4\u3002\u672c\u7ec3\u4e60\u4f7f\u7528\u4e86\u5206\u4f4d\u6570\u6280\u5de7\uff0c\u901a\u8fc7\u8fd9\u79cd\u65b9\u5f0f\u9009\u62e9\u5206\u6876\u8fb9\u754c\u540e\uff0c\u6bcf\u4e2a\u5206\u6876\u5c06\u5305\u542b\u76f8\u540c\u6570\u91cf\u7684\u6837\u672c\u3002"
      ]
    },
    {
      "metadata": {
        "id": "YFXV9lyMLedy",
        "colab_type": "code",
        "colab": {
          "autoexec": {
            "startup": false,
            "wait_interval": 0
          }
        }
      },
      "source": [
        "def construct_feature_columns():\n",
        "  \"\"\"Construct the TensorFlow Feature Columns.\n",
        "\n",
        "  Returns:\n",
        "    A set of feature columns\n",
        "  \"\"\" \n",
        "  households = tf.feature_column.numeric_column(\"households\")\n",
        "  longitude = tf.feature_column.numeric_column(\"longitude\")\n",
        "  latitude = tf.feature_column.numeric_column(\"latitude\")\n",
        "  housing_median_age = tf.feature_column.numeric_column(\"housing_median_age\")\n",
        "  median_income = tf.feature_column.numeric_column(\"median_income\")\n",
        "  rooms_per_person = tf.feature_column.numeric_column(\"rooms_per_person\")\n",
        "  \n",
        "  # Divide households into 7 buckets.\n",
        "  bucketized_households = tf.feature_column.bucketized_column(\n",
        "    households, boundaries=get_quantile_based_boundaries(\n",
        "      training_examples[\"households\"], 7))\n",
        "\n",
        "  # Divide longitude into 10 buckets.\n",
        "  bucketized_longitude = tf.feature_column.bucketized_column(\n",
        "    longitude, boundaries=get_quantile_based_boundaries(\n",
        "      training_examples[\"longitude\"], 10))\n",
        "\n",
        "  #\n",
        "  # YOUR CODE HERE: bucketize the following columns, following the example above:\n",
        "  #\n",
        "  bucketized_latitude = \n",
        "  bucketized_housing_median_age = \n",
        "  bucketized_median_income =\n",
        "  bucketized_rooms_per_person =\n",
        "  \n",
        "  feature_columns = set([\n",
        "    bucketized_longitude,\n",
        "    bucketized_latitude,\n",
        "    bucketized_housing_median_age,\n",
        "    bucketized_households,\n",
        "    bucketized_median_income,\n",
        "    bucketized_rooms_per_person])\n",
        "  \n",
        "  return feature_columns\n"
      ],
      "cell_type": "code",
      "execution_count": 0,
      "outputs": []
    },
    {
      "metadata": {
        "id": "0FfUytOTNJhL",
        "colab_type": "code",
        "colab": {
          "autoexec": {
            "startup": false,
            "wait_interval": 0
          }
        }
      },
      "source": [
        "_ = train_model(\n",
        "    learning_rate=1.0,\n",
        "    steps=500,\n",
        "    batch_size=100,\n",
        "    feature_columns=construct_feature_columns(),\n",
        "    training_examples=training_examples,\n",
        "    training_targets=training_targets,\n",
        "    validation_examples=validation_examples,\n",
        "    validation_targets=validation_targets)"
      ],
      "cell_type": "code",
      "execution_count": 0,
      "outputs": []
    },
    {
      "metadata": {
        "id": "ZTDHHM61NPTw",
        "colab_type": "text"
      },
      "cell_type": "markdown",
      "source": [
        " ### \u89e3\u51b3\u65b9\u6848\n",
        "\n",
        "\u70b9\u51fb\u4e0b\u65b9\u5373\u53ef\u67e5\u770b\u89e3\u51b3\u65b9\u6848\u3002"
      ]
    },
    {
      "metadata": {
        "id": "JQHnUhL_NRwA",
        "colab_type": "text"
      },
      "cell_type": "markdown",
      "source": [
        " \u60a8\u53ef\u80fd\u60f3\u77e5\u9053\u5982\u4f55\u786e\u5b9a\u8981\u4f7f\u7528\u591a\u5c11\u4e2a\u5206\u6876\u3002\u8fd9\u5f53\u7136\u8981\u53d6\u51b3\u4e8e\u6570\u636e\u3002\u5728\u8fd9\u91cc\uff0c\u6211\u4eec\u53ea\u662f\u9009\u62e9\u4e86\u4efb\u610f\u503c\uff0c\u4ee5\u83b7\u5f97\u4e00\u4e2a\u4e0d\u592a\u5927\u7684\u6a21\u578b\u3002"
      ]
    },
    {
      "metadata": {
        "id": "Ro5civQ3Ngh_",
        "colab_type": "code",
        "colab": {
          "autoexec": {
            "startup": false,
            "wait_interval": 0
          }
        }
      },
      "source": [
        "def construct_feature_columns():\n",
        "  \"\"\"Construct the TensorFlow Feature Columns.\n",
        "\n",
        "  Returns:\n",
        "    A set of feature columns\n",
        "  \"\"\" \n",
        "  households = tf.feature_column.numeric_column(\"households\")\n",
        "  longitude = tf.feature_column.numeric_column(\"longitude\")\n",
        "  latitude = tf.feature_column.numeric_column(\"latitude\")\n",
        "  housing_median_age = tf.feature_column.numeric_column(\"housing_median_age\")\n",
        "  median_income = tf.feature_column.numeric_column(\"median_income\")\n",
        "  rooms_per_person = tf.feature_column.numeric_column(\"rooms_per_person\")\n",
        "  \n",
        "  # Divide households into 7 buckets.\n",
        "  bucketized_households = tf.feature_column.bucketized_column(\n",
        "    households, boundaries=get_quantile_based_boundaries(\n",
        "      training_examples[\"households\"], 7))\n",
        "\n",
        "  # Divide longitude into 10 buckets.\n",
        "  bucketized_longitude = tf.feature_column.bucketized_column(\n",
        "    longitude, boundaries=get_quantile_based_boundaries(\n",
        "      training_examples[\"longitude\"], 10))\n",
        "  \n",
        "  # Divide latitude into 10 buckets.\n",
        "  bucketized_latitude = tf.feature_column.bucketized_column(\n",
        "    latitude, boundaries=get_quantile_based_boundaries(\n",
        "      training_examples[\"latitude\"], 10))\n",
        "\n",
        "  # Divide housing_median_age into 7 buckets.\n",
        "  bucketized_housing_median_age = tf.feature_column.bucketized_column(\n",
        "    housing_median_age, boundaries=get_quantile_based_boundaries(\n",
        "      training_examples[\"housing_median_age\"], 7))\n",
        "  \n",
        "  # Divide median_income into 7 buckets.\n",
        "  bucketized_median_income = tf.feature_column.bucketized_column(\n",
        "    median_income, boundaries=get_quantile_based_boundaries(\n",
        "      training_examples[\"median_income\"], 7))\n",
        "  \n",
        "  # Divide rooms_per_person into 7 buckets.\n",
        "  bucketized_rooms_per_person = tf.feature_column.bucketized_column(\n",
        "    rooms_per_person, boundaries=get_quantile_based_boundaries(\n",
        "      training_examples[\"rooms_per_person\"], 7))\n",
        "  \n",
        "  feature_columns = set([\n",
        "    bucketized_longitude,\n",
        "    bucketized_latitude,\n",
        "    bucketized_housing_median_age,\n",
        "    bucketized_households,\n",
        "    bucketized_median_income,\n",
        "    bucketized_rooms_per_person])\n",
        "  \n",
        "  return feature_columns"
      ],
      "cell_type": "code",
      "execution_count": 0,
      "outputs": []
    },
    {
      "metadata": {
        "id": "RNgfYk6OO8Sy",
        "colab_type": "code",
        "colab": {
          "autoexec": {
            "startup": false,
            "wait_interval": 0
          }
        }
      },
      "source": [
        "_ = train_model(\n",
        "    learning_rate=1.0,\n",
        "    steps=500,\n",
        "    batch_size=100,\n",
        "    feature_columns=construct_feature_columns(),\n",
        "    training_examples=training_examples,\n",
        "    training_targets=training_targets,\n",
        "    validation_examples=validation_examples,\n",
        "    validation_targets=validation_targets)"
      ],
      "cell_type": "code",
      "execution_count": 0,
      "outputs": []
    },
    {
      "metadata": {
        "id": "AFJ1qoZPlQcs",
        "colab_type": "text"
      },
      "cell_type": "markdown",
      "source": [
        " ## \u7279\u5f81\u7ec4\u5408\n",
        "\n",
        "\u7ec4\u5408\u4e24\u4e2a\uff08\u6216\u66f4\u591a\u4e2a\uff09\u7279\u5f81\u662f\u4f7f\u7528\u7ebf\u6027\u6a21\u578b\u6765\u5b66\u4e60\u975e\u7ebf\u6027\u5173\u7cfb\u7684\u4e00\u79cd\u806a\u660e\u505a\u6cd5\u3002\u5728\u6211\u4eec\u7684\u95ee\u9898\u4e2d\uff0c\u5982\u679c\u6211\u4eec\u53ea\u4f7f\u7528 `latitude` \u7279\u5f81\u8fdb\u884c\u5b66\u4e60\uff0c\u90a3\u4e48\u8be5\u6a21\u578b\u53ef\u80fd\u4f1a\u53d1\u73b0\u7279\u5b9a\u7eac\u5ea6\uff08\u6216\u7279\u5b9a\u7eac\u5ea6\u8303\u56f4\u5185\uff0c\u56e0\u4e3a\u6211\u4eec\u5df2\u7ecf\u5c06\u5176\u5206\u6876\uff09\u7684\u57ce\u5e02\u8857\u533a\u66f4\u53ef\u80fd\u6bd4\u5176\u4ed6\u8857\u533a\u4f4f\u623f\u6210\u672c\u9ad8\u6602\u3002`longitude` \u7279\u5f81\u7684\u60c5\u51b5\u4e0e\u6b64\u7c7b\u4f3c\u3002\u4f46\u662f\uff0c\u5982\u679c\u6211\u4eec\u5c06 `longitude` \u4e0e `latitude` \u7ec4\u5408\uff0c\u4ea7\u751f\u7684\u7ec4\u5408\u7279\u5f81\u5219\u4ee3\u8868\u4e00\u4e2a\u660e\u786e\u7684\u57ce\u5e02\u8857\u533a\u3002\u5982\u679c\u6a21\u578b\u53d1\u73b0\u67d0\u4e9b\u57ce\u5e02\u8857\u533a\uff08\u4f4d\u4e8e\u7279\u5b9a\u7eac\u5ea6\u548c\u7ecf\u5ea6\u8303\u56f4\u5185\uff09\u66f4\u53ef\u80fd\u6bd4\u5176\u4ed6\u8857\u533a\u4f4f\u623f\u6210\u672c\u9ad8\u6602\uff0c\u90a3\u4e48\u8fd9\u5c06\u662f\u6bd4\u5355\u72ec\u8003\u8651\u4e24\u4e2a\u7279\u5f81\u66f4\u5f3a\u70c8\u7684\u4fe1\u53f7\u3002\n",
        "\n",
        "\u76ee\u524d\uff0c\u7279\u5f81\u5217 API \u4ec5\u652f\u6301\u7ec4\u5408\u79bb\u6563\u7279\u5f81\u3002\u8981\u7ec4\u5408\u4e24\u4e2a\u8fde\u7eed\u7684\u503c\uff08\u6bd4\u5982 `latitude` \u6216 `longitude`\uff09\uff0c\u6211\u4eec\u53ef\u4ee5\u5bf9\u5176\u8fdb\u884c\u5206\u6876\u3002\n",
        "\n",
        "\u5982\u679c\u6211\u4eec\u7ec4\u5408 `latitude` \u548c `longitude` \u7279\u5f81\uff08\u4f8b\u5982\uff0c\u5047\u8bbe `longitude` \u88ab\u5206\u5230 `2` \u4e2a\u5206\u6876\u4e2d\uff0c\u800c `latitude` \u6709 `3` \u4e2a\u5206\u6876\uff09\uff0c\u6211\u4eec\u5b9e\u9645\u4e0a\u4f1a\u5f97\u5230 6 \u4e2a\u7ec4\u5408\u7684\u4e8c\u5143\u7279\u5f81\u3002\u5f53\u6211\u4eec\u8bad\u7ec3\u6a21\u578b\u65f6\uff0c\u6bcf\u4e2a\u7279\u5f81\u90fd\u4f1a\u5206\u522b\u83b7\u5f97\u81ea\u5df1\u7684\u6743\u91cd\u3002"
      ]
    },
    {
      "metadata": {
        "id": "-Rk0c1oTYaVH",
        "colab_type": "text"
      },
      "cell_type": "markdown",
      "source": [
        " ## \u4efb\u52a1 2\uff1a\u4f7f\u7528\u7279\u5f81\u7ec4\u5408\u8bad\u7ec3\u6a21\u578b\n",
        "\n",
        "**\u5728\u6a21\u578b\u4e2d\u6dfb\u52a0 `longitude` \u4e0e `latitude` \u7684\u7279\u5f81\u7ec4\u5408\uff0c\u8bad\u7ec3\u6a21\u578b\uff0c\u7136\u540e\u786e\u5b9a\u7ed3\u679c\u662f\u5426\u6709\u6240\u6539\u5584\u3002**\n",
        "\n",
        "\u8bf7\u53c2\u9605\u6709\u5173 [`crossed_column()`](https://www.tensorflow.org/api_docs/python/tf/feature_column/crossed_column) \u7684 TensorFlow API \u6587\u6863\uff0c\u4e86\u89e3\u5982\u4f55\u4e3a\u60a8\u7684\u7ec4\u5408\u6784\u5efa\u7279\u5f81\u5217\u3002`hash_bucket_size` \u53ef\u4ee5\u8bbe\u4e3a `1000`\u3002"
      ]
    },
    {
      "metadata": {
        "id": "-eYiVEGeYhUi",
        "colab_type": "code",
        "colab": {
          "autoexec": {
            "startup": false,
            "wait_interval": 0
          }
        },
        "cellView": "both"
      },
      "source": [
        "def construct_feature_columns():\n",
        "  \"\"\"Construct the TensorFlow Feature Columns.\n",
        "\n",
        "  Returns:\n",
        "    A set of feature columns\n",
        "  \"\"\" \n",
        "  households = tf.feature_column.numeric_column(\"households\")\n",
        "  longitude = tf.feature_column.numeric_column(\"longitude\")\n",
        "  latitude = tf.feature_column.numeric_column(\"latitude\")\n",
        "  housing_median_age = tf.feature_column.numeric_column(\"housing_median_age\")\n",
        "  median_income = tf.feature_column.numeric_column(\"median_income\")\n",
        "  rooms_per_person = tf.feature_column.numeric_column(\"rooms_per_person\")\n",
        "  \n",
        "  # Divide households into 7 buckets.\n",
        "  bucketized_households = tf.feature_column.bucketized_column(\n",
        "    households, boundaries=get_quantile_based_boundaries(\n",
        "      training_examples[\"households\"], 7))\n",
        "\n",
        "  # Divide longitude into 10 buckets.\n",
        "  bucketized_longitude = tf.feature_column.bucketized_column(\n",
        "    longitude, boundaries=get_quantile_based_boundaries(\n",
        "      training_examples[\"longitude\"], 10))\n",
        "  \n",
        "  # Divide latitude into 10 buckets.\n",
        "  bucketized_latitude = tf.feature_column.bucketized_column(\n",
        "    latitude, boundaries=get_quantile_based_boundaries(\n",
        "      training_examples[\"latitude\"], 10))\n",
        "\n",
        "  # Divide housing_median_age into 7 buckets.\n",
        "  bucketized_housing_median_age = tf.feature_column.bucketized_column(\n",
        "    housing_median_age, boundaries=get_quantile_based_boundaries(\n",
        "      training_examples[\"housing_median_age\"], 7))\n",
        "  \n",
        "  # Divide median_income into 7 buckets.\n",
        "  bucketized_median_income = tf.feature_column.bucketized_column(\n",
        "    median_income, boundaries=get_quantile_based_boundaries(\n",
        "      training_examples[\"median_income\"], 7))\n",
        "  \n",
        "  # Divide rooms_per_person into 7 buckets.\n",
        "  bucketized_rooms_per_person = tf.feature_column.bucketized_column(\n",
        "    rooms_per_person, boundaries=get_quantile_based_boundaries(\n",
        "      training_examples[\"rooms_per_person\"], 7))\n",
        "  \n",
        "  # YOUR CODE HERE: Make a feature column for the long_x_lat feature cross\n",
        "  long_x_lat = \n",
        "  \n",
        "  feature_columns = set([\n",
        "    bucketized_longitude,\n",
        "    bucketized_latitude,\n",
        "    bucketized_housing_median_age,\n",
        "    bucketized_households,\n",
        "    bucketized_median_income,\n",
        "    bucketized_rooms_per_person,\n",
        "    long_x_lat])\n",
        "  \n",
        "  return feature_columns"
      ],
      "cell_type": "code",
      "execution_count": 0,
      "outputs": []
    },
    {
      "metadata": {
        "id": "xZuZMp3EShkM",
        "colab_type": "code",
        "colab": {
          "autoexec": {
            "startup": false,
            "wait_interval": 0
          }
        }
      },
      "source": [
        "_ = train_model(\n",
        "    learning_rate=1.0,\n",
        "    steps=500,\n",
        "    batch_size=100,\n",
        "    feature_columns=construct_feature_columns(),\n",
        "    training_examples=training_examples,\n",
        "    training_targets=training_targets,\n",
        "    validation_examples=validation_examples,\n",
        "    validation_targets=validation_targets)"
      ],
      "cell_type": "code",
      "execution_count": 0,
      "outputs": []
    },
    {
      "metadata": {
        "id": "0i7vGo9PTaZl",
        "colab_type": "text"
      },
      "cell_type": "markdown",
      "source": [
        " ### \u89e3\u51b3\u65b9\u6848\n",
        "\n",
        "\u70b9\u51fb\u4e0b\u65b9\u5373\u53ef\u67e5\u770b\u89e3\u51b3\u65b9\u6848\u3002"
      ]
    },
    {
      "metadata": {
        "id": "3tAWu8qSTe2v",
        "colab_type": "code",
        "colab": {
          "autoexec": {
            "startup": false,
            "wait_interval": 0
          }
        }
      },
      "source": [
        "def construct_feature_columns():\n",
        "  \"\"\"Construct the TensorFlow Feature Columns.\n",
        "\n",
        "  Returns:\n",
        "    A set of feature columns\n",
        "  \"\"\" \n",
        "  households = tf.feature_column.numeric_column(\"households\")\n",
        "  longitude = tf.feature_column.numeric_column(\"longitude\")\n",
        "  latitude = tf.feature_column.numeric_column(\"latitude\")\n",
        "  housing_median_age = tf.feature_column.numeric_column(\"housing_median_age\")\n",
        "  median_income = tf.feature_column.numeric_column(\"median_income\")\n",
        "  rooms_per_person = tf.feature_column.numeric_column(\"rooms_per_person\")\n",
        "  \n",
        "  # Divide households into 7 buckets.\n",
        "  bucketized_households = tf.feature_column.bucketized_column(\n",
        "    households, boundaries=get_quantile_based_boundaries(\n",
        "      training_examples[\"households\"], 7))\n",
        "\n",
        "  # Divide longitude into 10 buckets.\n",
        "  bucketized_longitude = tf.feature_column.bucketized_column(\n",
        "    longitude, boundaries=get_quantile_based_boundaries(\n",
        "      training_examples[\"longitude\"], 10))\n",
        "  \n",
        "  # Divide latitude into 10 buckets.\n",
        "  bucketized_latitude = tf.feature_column.bucketized_column(\n",
        "    latitude, boundaries=get_quantile_based_boundaries(\n",
        "      training_examples[\"latitude\"], 10))\n",
        "\n",
        "  # Divide housing_median_age into 7 buckets.\n",
        "  bucketized_housing_median_age = tf.feature_column.bucketized_column(\n",
        "    housing_median_age, boundaries=get_quantile_based_boundaries(\n",
        "      training_examples[\"housing_median_age\"], 7))\n",
        "  \n",
        "  # Divide median_income into 7 buckets.\n",
        "  bucketized_median_income = tf.feature_column.bucketized_column(\n",
        "    median_income, boundaries=get_quantile_based_boundaries(\n",
        "      training_examples[\"median_income\"], 7))\n",
        "  \n",
        "  # Divide rooms_per_person into 7 buckets.\n",
        "  bucketized_rooms_per_person = tf.feature_column.bucketized_column(\n",
        "    rooms_per_person, boundaries=get_quantile_based_boundaries(\n",
        "      training_examples[\"rooms_per_person\"], 7))\n",
        "  \n",
        "  # YOUR CODE HERE: Make a feature column for the long_x_lat feature cross\n",
        "  long_x_lat = tf.feature_column.crossed_column(\n",
        "  set([bucketized_longitude, bucketized_latitude]), hash_bucket_size=1000) \n",
        "  \n",
        "  feature_columns = set([\n",
        "    bucketized_longitude,\n",
        "    bucketized_latitude,\n",
        "    bucketized_housing_median_age,\n",
        "    bucketized_households,\n",
        "    bucketized_median_income,\n",
        "    bucketized_rooms_per_person,\n",
        "    long_x_lat])\n",
        "  \n",
        "  return feature_columns"
      ],
      "cell_type": "code",
      "execution_count": 0,
      "outputs": []
    },
    {
      "metadata": {
        "id": "-_vvNYIyTtPC",
        "colab_type": "code",
        "colab": {
          "autoexec": {
            "startup": false,
            "wait_interval": 0
          }
        }
      },
      "source": [
        "_ = train_model(\n",
        "    learning_rate=1.0,\n",
        "    steps=500,\n",
        "    batch_size=100,\n",
        "    feature_columns=construct_feature_columns(),\n",
        "    training_examples=training_examples,\n",
        "    training_targets=training_targets,\n",
        "    validation_examples=validation_examples,\n",
        "    validation_targets=validation_targets)"
      ],
      "cell_type": "code",
      "execution_count": 0,
      "outputs": []
    },
    {
      "metadata": {
        "id": "ymlHJ-vrhLZw",
        "colab_type": "text"
      },
      "cell_type": "markdown",
      "source": [
        " ## \u53ef\u9009\u6311\u6218\uff1a\u5c1d\u8bd5\u66f4\u591a\u5408\u6210\u7279\u5f81\n",
        "\n",
        "\u5230\u76ee\u524d\u4e3a\u6b62\uff0c\u6211\u4eec\u5df2\u7ecf\u5c1d\u8bd5\u4e86\u7b80\u5355\u7684\u5206\u6876\u5217\u548c\u7279\u5f81\u7ec4\u5408\uff0c\u4f46\u8fd8\u6709\u66f4\u591a\u7ec4\u5408\u6709\u53ef\u80fd\u4f1a\u6539\u8fdb\u7ed3\u679c\u3002\u4f8b\u5982\uff0c\u60a8\u53ef\u4ee5\u7ec4\u5408\u591a\u4e2a\u5217\u3002\u5982\u679c\u6539\u53d8\u5206\u6876\u7684\u6570\u91cf\uff0c\u4f1a\u51fa\u73b0\u4ec0\u4e48\u60c5\u51b5\uff1f\u60a8\u8fd8\u80fd\u60f3\u5230\u54ea\u4e9b\u5176\u4ed6\u7684\u5408\u6210\u7279\u5f81\uff1f\u5b83\u4eec\u80fd\u5426\u6539\u8fdb\u6a21\u578b\u6548\u679c\uff1f"
      ]
    }
  ]
}
