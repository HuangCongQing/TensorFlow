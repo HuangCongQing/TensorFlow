{
  "nbformat": 4,
  "nbformat_minor": 0,
  "metadata": {
    "colab": {
      "name": "logistic_regression.ipynb",
      "version": "0.3.2",
      "views": {},
      "default_view": {},
      "provenance": [],
      "collapsed_sections": [
        "dPpJUV862FYI",
        "i2e3TlyL57Qs",
        "wCugvl0JdWYL",
        "copyright-notice"
      ]
    }
  },
  "cells": [
    {
      "source": [
        "#### Copyright 2017 Google LLC."
      ],
      "cell_type": "markdown",
      "metadata": {
        "id": "copyright-notice",
        "colab_type": "text"
      }
    },
    {
      "source": [
        "# Licensed under the Apache License, Version 2.0 (the \"License\");\n",
        "# you may not use this file except in compliance with the License.\n",
        "# You may obtain a copy of the License at\n",
        "#\n",
        "# https://www.apache.org/licenses/LICENSE-2.0\n",
        "#\n",
        "# Unless required by applicable law or agreed to in writing, software\n",
        "# distributed under the License is distributed on an \"AS IS\" BASIS,\n",
        "# WITHOUT WARRANTIES OR CONDITIONS OF ANY KIND, either express or implied.\n",
        "# See the License for the specific language governing permissions and\n",
        "# limitations under the License."
      ],
      "execution_count": 0,
      "outputs": [],
      "cell_type": "code",
      "metadata": {
        "colab": {
          "autoexec": {
            "wait_interval": 0,
            "startup": false
          }
        },
        "id": "copyright-notice2",
        "colab_type": "code",
        "cellView": "both"
      }
    },
    {
      "metadata": {
        "id": "g4T-_IsVbweU",
        "colab_type": "text"
      },
      "cell_type": "markdown",
      "source": [
        " # \u903b\u8f91\u56de\u5f52"
      ]
    },
    {
      "metadata": {
        "id": "LEAHZv4rIYHX",
        "colab_type": "text"
      },
      "cell_type": "markdown",
      "source": [
        " **\u5b66\u4e60\u76ee\u6807\uff1a**\n",
        "  * \u5c06\uff08\u5728\u4e4b\u524d\u7684\u7ec3\u4e60\u4e2d\u6784\u5efa\u7684\uff09\u623f\u5c4b\u4ef7\u503c\u4e2d\u4f4d\u6570\u9884\u6d4b\u6a21\u578b\u91cd\u65b0\u6784\u5efa\u4e3a\u4e8c\u5143\u5206\u7c7b\u6a21\u578b\n",
        "  * \u6bd4\u8f83\u903b\u8f91\u56de\u5f52\u4e0e\u7ebf\u6027\u56de\u5f52\u89e3\u51b3\u4e8c\u5143\u5206\u7c7b\u95ee\u9898\u7684\u6709\u6548\u6027"
      ]
    },
    {
      "metadata": {
        "id": "CnkCZqdIIYHY",
        "colab_type": "text"
      },
      "cell_type": "markdown",
      "source": [
        " \u4e0e\u5728\u4e4b\u524d\u7684\u7ec3\u4e60\u4e2d\u4e00\u6837\uff0c\u6211\u4eec\u5c06\u4f7f\u7528\u52a0\u5229\u798f\u5c3c\u4e9a\u5dde\u4f4f\u623f\u6570\u636e\u96c6\uff0c\u4f46\u8fd9\u6b21\u6211\u4eec\u4f1a\u9884\u6d4b\u67d0\u4e2a\u57ce\u5e02\u8857\u533a\u7684\u4f4f\u623f\u6210\u672c\u662f\u5426\u9ad8\u6602\uff0c\u4ece\u800c\u5c06\u5176\u8f6c\u6362\u6210\u4e00\u4e2a\u4e8c\u5143\u5206\u7c7b\u95ee\u9898\u3002\u6b64\u5916\uff0c\u6211\u4eec\u8fd8\u4f1a\u6682\u65f6\u6062\u590d\u4f7f\u7528\u9ed8\u8ba4\u7279\u5f81\u3002"
      ]
    },
    {
      "metadata": {
        "id": "9pltCyy2K3dd",
        "colab_type": "text"
      },
      "cell_type": "markdown",
      "source": [
        " ## \u5c06\u95ee\u9898\u6784\u5efa\u4e3a\u4e8c\u5143\u5206\u7c7b\u95ee\u9898\n",
        "\n",
        "\u6570\u636e\u96c6\u7684\u76ee\u6807\u662f `median_house_value`\uff0c\u5b83\u662f\u4e00\u4e2a\u6570\u503c\uff08\u8fde\u7eed\u503c\uff09\u7279\u5f81\u3002\u6211\u4eec\u53ef\u4ee5\u901a\u8fc7\u5411\u6b64\u8fde\u7eed\u503c\u4f7f\u7528\u9608\u503c\u6765\u521b\u5efa\u4e00\u4e2a\u5e03\u5c14\u503c\u6807\u7b7e\u3002\n",
        "\n",
        "\u6211\u4eec\u5e0c\u671b\u901a\u8fc7\u67d0\u4e2a\u57ce\u5e02\u8857\u533a\u7684\u7279\u5f81\u9884\u6d4b\u8be5\u8857\u533a\u7684\u4f4f\u623f\u6210\u672c\u662f\u5426\u9ad8\u6602\u3002\u4e3a\u4e86\u7ed9\u8bad\u7ec3\u6570\u636e\u548c\u8bc4\u4f30\u6570\u636e\u51c6\u5907\u76ee\u6807\uff0c\u6211\u4eec\u9488\u5bf9\u623f\u5c4b\u4ef7\u503c\u4e2d\u4f4d\u6570\u5b9a\u4e49\u4e86\u5206\u7c7b\u9608\u503c - \u7b2c 75 \u767e\u5206\u4f4d\u6570\uff08\u7ea6\u4e3a 265000\uff09\u3002\u6240\u6709\u9ad8\u4e8e\u6b64\u9608\u503c\u7684\u623f\u5c4b\u4ef7\u503c\u6807\u8bb0\u4e3a `1`\uff0c\u5176\u4ed6\u503c\u6807\u8bb0\u4e3a `0`\u3002"
      ]
    },
    {
      "metadata": {
        "id": "67IJwZX1Vvjt",
        "colab_type": "text"
      },
      "cell_type": "markdown",
      "source": [
        " ## \u8bbe\u7f6e\n",
        "\n",
        "\u8fd0\u884c\u4ee5\u4e0b\u5355\u5143\u683c\uff0c\u4ee5\u52a0\u8f7d\u6570\u636e\u5e76\u51c6\u5907\u8f93\u5165\u7279\u5f81\u548c\u76ee\u6807\u3002"
      ]
    },
    {
      "metadata": {
        "id": "fOlbcJ4EIYHd",
        "colab_type": "code",
        "colab": {
          "autoexec": {
            "startup": false,
            "wait_interval": 0
          }
        }
      },
      "source": [
        "from __future__ import print_function\n",
        "\n",
        "import math\n",
        "\n",
        "from IPython import display\n",
        "from matplotlib import cm\n",
        "from matplotlib import gridspec\n",
        "from matplotlib import pyplot as plt\n",
        "import numpy as np\n",
        "import pandas as pd\n",
        "from sklearn import metrics\n",
        "import tensorflow as tf\n",
        "from tensorflow.python.data import Dataset\n",
        "\n",
        "tf.logging.set_verbosity(tf.logging.ERROR)\n",
        "pd.options.display.max_rows = 10\n",
        "pd.options.display.float_format = '{:.1f}'.format\n",
        "\n",
        "california_housing_dataframe = pd.read_csv(\"https://download.mlcc.google.cn/mledu-datasets/california_housing_train.csv\", sep=\",\")\n",
        "\n",
        "california_housing_dataframe = california_housing_dataframe.reindex(\n",
        "    np.random.permutation(california_housing_dataframe.index))"
      ],
      "cell_type": "code",
      "execution_count": 0,
      "outputs": []
    },
    {
      "metadata": {
        "id": "lTB73MNeIYHf",
        "colab_type": "text"
      },
      "cell_type": "markdown",
      "source": [
        " \u6ce8\u610f\u4ee5\u4e0b\u4ee3\u7801\u4e0e\u4e4b\u524d\u7ec3\u4e60\u4e2d\u7684\u4ee3\u7801\u4e4b\u95f4\u7a0d\u6709\u4e0d\u540c\u3002\u6211\u4eec\u5e76\u6ca1\u6709\u5c06 `median_house_value` \u7528\u4f5c\u76ee\u6807\uff0c\u800c\u662f\u521b\u5efa\u4e86\u4e00\u4e2a\u65b0\u7684\u4e8c\u5143\u76ee\u6807 `median_house_value_is_high`\u3002"
      ]
    },
    {
      "metadata": {
        "id": "kPSqspaqIYHg",
        "colab_type": "code",
        "colab": {
          "autoexec": {
            "startup": false,
            "wait_interval": 0
          }
        }
      },
      "source": [
        "def preprocess_features(california_housing_dataframe):\n",
        "  \"\"\"Prepares input features from California housing data set.\n",
        "\n",
        "  Args:\n",
        "    california_housing_dataframe: A Pandas DataFrame expected to contain data\n",
        "      from the California housing data set.\n",
        "  Returns:\n",
        "    A DataFrame that contains the features to be used for the model, including\n",
        "    synthetic features.\n",
        "  \"\"\"\n",
        "  selected_features = california_housing_dataframe[\n",
        "    [\"latitude\",\n",
        "     \"longitude\",\n",
        "     \"housing_median_age\",\n",
        "     \"total_rooms\",\n",
        "     \"total_bedrooms\",\n",
        "     \"population\",\n",
        "     \"households\",\n",
        "     \"median_income\"]]\n",
        "  processed_features = selected_features.copy()\n",
        "  # Create a synthetic feature.\n",
        "  processed_features[\"rooms_per_person\"] = (\n",
        "    california_housing_dataframe[\"total_rooms\"] /\n",
        "    california_housing_dataframe[\"population\"])\n",
        "  return processed_features\n",
        "\n",
        "def preprocess_targets(california_housing_dataframe):\n",
        "  \"\"\"Prepares target features (i.e., labels) from California housing data set.\n",
        "\n",
        "  Args:\n",
        "    california_housing_dataframe: A Pandas DataFrame expected to contain data\n",
        "      from the California housing data set.\n",
        "  Returns:\n",
        "    A DataFrame that contains the target feature.\n",
        "  \"\"\"\n",
        "  output_targets = pd.DataFrame()\n",
        "  # Create a boolean categorical feature representing whether the\n",
        "  # median_house_value is above a set threshold.\n",
        "  output_targets[\"median_house_value_is_high\"] = (\n",
        "    california_housing_dataframe[\"median_house_value\"] > 265000).astype(float)\n",
        "  return output_targets"
      ],
      "cell_type": "code",
      "execution_count": 0,
      "outputs": []
    },
    {
      "metadata": {
        "id": "FwOYWmXqWA6D",
        "colab_type": "code",
        "colab": {
          "autoexec": {
            "startup": false,
            "wait_interval": 0
          }
        }
      },
      "source": [
        "# Choose the first 12000 (out of 17000) examples for training.\n",
        "training_examples = preprocess_features(california_housing_dataframe.head(12000))\n",
        "training_targets = preprocess_targets(california_housing_dataframe.head(12000))\n",
        "\n",
        "# Choose the last 5000 (out of 17000) examples for validation.\n",
        "validation_examples = preprocess_features(california_housing_dataframe.tail(5000))\n",
        "validation_targets = preprocess_targets(california_housing_dataframe.tail(5000))\n",
        "\n",
        "# Double-check that we've done the right thing.\n",
        "print(\"Training examples summary:\")\n",
        "display.display(training_examples.describe())\n",
        "print(\"Validation examples summary:\")\n",
        "display.display(validation_examples.describe())\n",
        "\n",
        "print(\"Training targets summary:\")\n",
        "display.display(training_targets.describe())\n",
        "print(\"Validation targets summary:\")\n",
        "display.display(validation_targets.describe())"
      ],
      "cell_type": "code",
      "execution_count": 0,
      "outputs": []
    },
    {
      "metadata": {
        "id": "uon1LB3A31VN",
        "colab_type": "text"
      },
      "cell_type": "markdown",
      "source": [
        " ## \u7ebf\u6027\u56de\u5f52\u4f1a\u6709\u600e\u6837\u7684\u8868\u73b0\uff1f\n",
        "\u4e3a\u4e86\u89e3\u903b\u8f91\u56de\u5f52\u4e3a\u4ec0\u4e48\u6709\u6548\uff0c\u6211\u4eec\u9996\u5148\u8bad\u7ec3\u4e00\u4e2a\u4f7f\u7528\u7ebf\u6027\u56de\u5f52\u7684\u7b80\u5355\u6a21\u578b\u3002\u8be5\u6a21\u578b\u5c06\u4f7f\u7528 `{0, 1}` \u4e2d\u7684\u503c\u4e3a\u6807\u7b7e\uff0c\u5e76\u5c1d\u8bd5\u9884\u6d4b\u4e00\u4e2a\u5c3d\u53ef\u80fd\u63a5\u8fd1 `0` \u6216 `1` \u7684\u8fde\u7eed\u503c\u3002\u6b64\u5916\uff0c\u6211\u4eec\u5e0c\u671b\u5c06\u8f93\u51fa\u89e3\u8bfb\u4e3a\u6982\u7387\uff0c\u6240\u4ee5\u6700\u597d\u6a21\u578b\u7684\u8f93\u51fa\u503c\u53ef\u4ee5\u4f4d\u4e8e `(0, 1)` \u8303\u56f4\u5185\u3002\u7136\u540e\u6211\u4eec\u4f1a\u5e94\u7528\u9608\u503c `0.5`\uff0c\u4ee5\u786e\u5b9a\u6807\u7b7e\u3002\n",
        "\n",
        "\u8fd0\u884c\u4ee5\u4e0b\u5355\u5143\u683c\uff0c\u4ee5\u4f7f\u7528 [LinearRegressor](https://www.tensorflow.org/api_docs/python/tf/estimator/LinearRegressor) \u8bad\u7ec3\u7ebf\u6027\u56de\u5f52\u6a21\u578b\u3002"
      ]
    },
    {
      "metadata": {
        "id": "smmUYRDtWOV_",
        "colab_type": "code",
        "colab": {
          "autoexec": {
            "startup": false,
            "wait_interval": 0
          }
        }
      },
      "source": [
        "def construct_feature_columns(input_features):\n",
        "  \"\"\"Construct the TensorFlow Feature Columns.\n",
        "\n",
        "  Args:\n",
        "    input_features: The names of the numerical input features to use.\n",
        "  Returns:\n",
        "    A set of feature columns\n",
        "  \"\"\"\n",
        "  return set([tf.feature_column.numeric_column(my_feature)\n",
        "              for my_feature in input_features])"
      ],
      "cell_type": "code",
      "execution_count": 0,
      "outputs": []
    },
    {
      "metadata": {
        "id": "B5OwSrr1yIKD",
        "colab_type": "code",
        "colab": {
          "autoexec": {
            "startup": false,
            "wait_interval": 0
          }
        }
      },
      "source": [
        "def my_input_fn(features, targets, batch_size=1, shuffle=True, num_epochs=None):\n",
        "    \"\"\"Trains a linear regression model.\n",
        "  \n",
        "    Args:\n",
        "      features: pandas DataFrame of features\n",
        "      targets: pandas DataFrame of targets\n",
        "      batch_size: Size of batches to be passed to the model\n",
        "      shuffle: True or False. Whether to shuffle the data.\n",
        "      num_epochs: Number of epochs for which data should be repeated. None = repeat indefinitely\n",
        "    Returns:\n",
        "      Tuple of (features, labels) for next data batch\n",
        "    \"\"\"\n",
        "    \n",
        "    # Convert pandas data into a dict of np arrays.\n",
        "    features = {key:np.array(value) for key,value in dict(features).items()}                                            \n",
        " \n",
        "    # Construct a dataset, and configure batching/repeating.\n",
        "    ds = Dataset.from_tensor_slices((features,targets)) # warning: 2GB limit\n",
        "    ds = ds.batch(batch_size).repeat(num_epochs)\n",
        "    \n",
        "    # Shuffle the data, if specified.\n",
        "    if shuffle:\n",
        "      ds = ds.shuffle(10000)\n",
        "    \n",
        "    # Return the next batch of data.\n",
        "    features, labels = ds.make_one_shot_iterator().get_next()\n",
        "    return features, labels"
      ],
      "cell_type": "code",
      "execution_count": 0,
      "outputs": []
    },
    {
      "metadata": {
        "id": "SE2-hq8PIYHz",
        "colab_type": "code",
        "colab": {
          "autoexec": {
            "startup": false,
            "wait_interval": 0
          }
        }
      },
      "source": [
        "def train_linear_regressor_model(\n",
        "    learning_rate,\n",
        "    steps,\n",
        "    batch_size,\n",
        "    training_examples,\n",
        "    training_targets,\n",
        "    validation_examples,\n",
        "    validation_targets):\n",
        "  \"\"\"Trains a linear regression model.\n",
        "  \n",
        "  In addition to training, this function also prints training progress information,\n",
        "  as well as a plot of the training and validation loss over time.\n",
        "  \n",
        "  Args:\n",
        "    learning_rate: A `float`, the learning rate.\n",
        "    steps: A non-zero `int`, the total number of training steps. A training step\n",
        "      consists of a forward and backward pass using a single batch.\n",
        "    batch_size: A non-zero `int`, the batch size.\n",
        "    training_examples: A `DataFrame` containing one or more columns from\n",
        "      `california_housing_dataframe` to use as input features for training.\n",
        "    training_targets: A `DataFrame` containing exactly one column from\n",
        "      `california_housing_dataframe` to use as target for training.\n",
        "    validation_examples: A `DataFrame` containing one or more columns from\n",
        "      `california_housing_dataframe` to use as input features for validation.\n",
        "    validation_targets: A `DataFrame` containing exactly one column from\n",
        "      `california_housing_dataframe` to use as target for validation.\n",
        "      \n",
        "  Returns:\n",
        "    A `LinearRegressor` object trained on the training data.\n",
        "  \"\"\"\n",
        "\n",
        "  periods = 10\n",
        "  steps_per_period = steps / periods\n",
        "\n",
        "  # Create a linear regressor object.\n",
        "  my_optimizer = tf.train.GradientDescentOptimizer(learning_rate=learning_rate)\n",
        "  my_optimizer = tf.contrib.estimator.clip_gradients_by_norm(my_optimizer, 5.0)\n",
        "  linear_regressor = tf.estimator.LinearRegressor(\n",
        "      feature_columns=construct_feature_columns(training_examples),\n",
        "      optimizer=my_optimizer\n",
        "  )\n",
        "    \n",
        "  # Create input functions.  \n",
        "  training_input_fn = lambda: my_input_fn(training_examples, \n",
        "                                          training_targets[\"median_house_value_is_high\"], \n",
        "                                          batch_size=batch_size)\n",
        "  predict_training_input_fn = lambda: my_input_fn(training_examples, \n",
        "                                                  training_targets[\"median_house_value_is_high\"], \n",
        "                                                  num_epochs=1, \n",
        "                                                  shuffle=False)\n",
        "  predict_validation_input_fn = lambda: my_input_fn(validation_examples, \n",
        "                                                    validation_targets[\"median_house_value_is_high\"], \n",
        "                                                    num_epochs=1, \n",
        "                                                    shuffle=False)\n",
        "\n",
        "  # Train the model, but do so inside a loop so that we can periodically assess\n",
        "  # loss metrics.\n",
        "  print(\"Training model...\")\n",
        "  print(\"RMSE (on training data):\")\n",
        "  training_rmse = []\n",
        "  validation_rmse = []\n",
        "  for period in range (0, periods):\n",
        "    # Train the model, starting from the prior state.\n",
        "    linear_regressor.train(\n",
        "        input_fn=training_input_fn,\n",
        "        steps=steps_per_period\n",
        "    )\n",
        "    \n",
        "    # Take a break and compute predictions.\n",
        "    training_predictions = linear_regressor.predict(input_fn=predict_training_input_fn)\n",
        "    training_predictions = np.array([item['predictions'][0] for item in training_predictions])\n",
        "    \n",
        "    validation_predictions = linear_regressor.predict(input_fn=predict_validation_input_fn)\n",
        "    validation_predictions = np.array([item['predictions'][0] for item in validation_predictions])\n",
        "    \n",
        "    # Compute training and validation loss.\n",
        "    training_root_mean_squared_error = math.sqrt(\n",
        "        metrics.mean_squared_error(training_predictions, training_targets))\n",
        "    validation_root_mean_squared_error = math.sqrt(\n",
        "        metrics.mean_squared_error(validation_predictions, validation_targets))\n",
        "    # Occasionally print the current loss.\n",
        "    print(\"  period %02d : %0.2f\" % (period, training_root_mean_squared_error))\n",
        "    # Add the loss metrics from this period to our list.\n",
        "    training_rmse.append(training_root_mean_squared_error)\n",
        "    validation_rmse.append(validation_root_mean_squared_error)\n",
        "  print(\"Model training finished.\")\n",
        "  \n",
        "  # Output a graph of loss metrics over periods.\n",
        "  plt.ylabel(\"RMSE\")\n",
        "  plt.xlabel(\"Periods\")\n",
        "  plt.title(\"Root Mean Squared Error vs. Periods\")\n",
        "  plt.tight_layout()\n",
        "  plt.plot(training_rmse, label=\"training\")\n",
        "  plt.plot(validation_rmse, label=\"validation\")\n",
        "  plt.legend()\n",
        "\n",
        "  return linear_regressor"
      ],
      "cell_type": "code",
      "execution_count": 0,
      "outputs": []
    },
    {
      "metadata": {
        "id": "TDBD8xeeIYH2",
        "colab_type": "code",
        "colab": {
          "autoexec": {
            "startup": false,
            "wait_interval": 0
          }
        }
      },
      "source": [
        "linear_regressor = train_linear_regressor_model(\n",
        "    learning_rate=0.000001,\n",
        "    steps=200,\n",
        "    batch_size=20,\n",
        "    training_examples=training_examples,\n",
        "    training_targets=training_targets,\n",
        "    validation_examples=validation_examples,\n",
        "    validation_targets=validation_targets)"
      ],
      "cell_type": "code",
      "execution_count": 0,
      "outputs": []
    },
    {
      "metadata": {
        "id": "JjBZ_q7aD9gh",
        "colab_type": "text"
      },
      "cell_type": "markdown",
      "source": [
        " ## \u4efb\u52a1 1\uff1a\u6211\u4eec\u53ef\u4ee5\u8ba1\u7b97\u8fd9\u4e9b\u9884\u6d4b\u7684\u5bf9\u6570\u635f\u5931\u51fd\u6570\u5417\uff1f\n",
        "\n",
        "**\u68c0\u67e5\u9884\u6d4b\uff0c\u5e76\u786e\u5b9a\u662f\u5426\u53ef\u4ee5\u4f7f\u7528\u5b83\u4eec\u6765\u8ba1\u7b97\u5bf9\u6570\u635f\u5931\u51fd\u6570\u3002**\n",
        "\n",
        "`LinearRegressor` \u4f7f\u7528\u7684\u662f L2 \u635f\u5931\uff0c\u5728\u5c06\u8f93\u51fa\u89e3\u8bfb\u4e3a\u6982\u7387\u65f6\uff0c\u5b83\u5e76\u4e0d\u80fd\u6709\u6548\u5730\u60e9\u7f5a\u8bef\u5206\u7c7b\u3002\u4f8b\u5982\uff0c\u5bf9\u4e8e\u6982\u7387\u5206\u522b\u4e3a 0.9 \u548c 0.9999 \u7684\u8d1f\u5206\u7c7b\u6837\u672c\u662f\u5426\u88ab\u5206\u7c7b\u4e3a\u6b63\u5206\u7c7b\uff0c\u4e8c\u8005\u4e4b\u95f4\u7684\u5dee\u5f02\u5e94\u8be5\u5f88\u5927\uff0c\u4f46 L2 \u635f\u5931\u5e76\u4e0d\u4f1a\u660e\u663e\u533a\u5206\u8fd9\u4e9b\u60c5\u51b5\u3002\n",
        "\n",
        "\u76f8\u6bd4\u4e4b\u4e0b\uff0c`LogLoss`\uff08\u5bf9\u6570\u635f\u5931\u51fd\u6570\uff09\u5bf9\u8fd9\u4e9b\"\u7f6e\u4fe1\u9519\u8bef\"\u7684\u60e9\u7f5a\u529b\u5ea6\u66f4\u5927\u3002\u8bf7\u6ce8\u610f\uff0c`LogLoss` \u7684\u5b9a\u4e49\u5982\u4e0b\uff1a\n",
        "\n",
        "$$Log Loss = \\sum_{(x,y)\\in D} -y \\cdot log(y_{pred}) - (1 - y) \\cdot log(1 - y_{pred})$$\n",
        "\n",
        "\n",
        "\u4f46\u6211\u4eec\u9996\u5148\u9700\u8981\u83b7\u5f97\u9884\u6d4b\u503c\u3002\u6211\u4eec\u53ef\u4ee5\u4f7f\u7528 `LinearRegressor.predict` \u83b7\u5f97\u9884\u6d4b\u503c\u3002\n",
        "\n",
        "\u6211\u4eec\u53ef\u4ee5\u4f7f\u7528\u9884\u6d4b\u548c\u76f8\u5e94\u76ee\u6807\u8ba1\u7b97 `LogLoss` \u5417\uff1f"
      ]
    },
    {
      "metadata": {
        "id": "dPpJUV862FYI",
        "colab_type": "text"
      },
      "cell_type": "markdown",
      "source": [
        " ### \u89e3\u51b3\u65b9\u6848\n",
        "\n",
        "\u70b9\u51fb\u4e0b\u65b9\u5373\u53ef\u67e5\u770b\u89e3\u51b3\u65b9\u6848\u3002"
      ]
    },
    {
      "metadata": {
        "id": "kXFQ5uig2RoP",
        "colab_type": "code",
        "colab": {
          "autoexec": {
            "startup": false,
            "wait_interval": 0
          }
        }
      },
      "source": [
        "predict_validation_input_fn = lambda: my_input_fn(validation_examples, \n",
        "                                                  validation_targets[\"median_house_value_is_high\"], \n",
        "                                                  num_epochs=1, \n",
        "                                                  shuffle=False)\n",
        "\n",
        "validation_predictions = linear_regressor.predict(input_fn=predict_validation_input_fn)\n",
        "validation_predictions = np.array([item['predictions'][0] for item in validation_predictions])\n",
        "\n",
        "_ = plt.hist(validation_predictions)"
      ],
      "cell_type": "code",
      "execution_count": 0,
      "outputs": []
    },
    {
      "metadata": {
        "id": "rYpy336F9wBg",
        "colab_type": "text"
      },
      "cell_type": "markdown",
      "source": [
        " ## \u4efb\u52a1 2\uff1a\u8bad\u7ec3\u903b\u8f91\u56de\u5f52\u6a21\u578b\u5e76\u8ba1\u7b97\u9a8c\u8bc1\u96c6\u7684\u5bf9\u6570\u635f\u5931\u51fd\u6570\n",
        "\n",
        "\u8981\u4f7f\u7528\u903b\u8f91\u56de\u5f52\u975e\u5e38\u7b80\u5355\uff0c\u7528 [LinearClassifier](https://www.tensorflow.org/api_docs/python/tf/estimator/LinearClassifier) \u66ff\u4ee3 `LinearRegressor` \u5373\u53ef\u3002\u5b8c\u6210\u4ee5\u4e0b\u4ee3\u7801\u3002\n",
        "\n",
        "**\u6ce8\u610f**\uff1a\u5728 `LinearClassifier` \u6a21\u578b\u4e0a\u8fd0\u884c `train()` \u548c `predict()` \u65f6\uff0c\u60a8\u53ef\u4ee5\u901a\u8fc7\u8fd4\u56de\u7684\u5b57\u5178\uff08\u4f8b\u5982 `predictions[\"probabilities\"]`\uff09\u4e2d\u7684 `\"probabilities\"` \u952e\u83b7\u53d6\u5b9e\u503c\u9884\u6d4b\u6982\u7387\u3002Sklearn \u7684 [log_loss](http://scikit-learn.org/stable/modules/generated/sklearn.metrics.log_loss.html) \u51fd\u6570\u53ef\u57fa\u4e8e\u8fd9\u4e9b\u6982\u7387\u8ba1\u7b97\u5bf9\u6570\u635f\u5931\u51fd\u6570\uff0c\u975e\u5e38\u65b9\u4fbf\u3002\n"
      ]
    },
    {
      "metadata": {
        "id": "JElcb--E9wBm",
        "colab_type": "code",
        "colab": {
          "autoexec": {
            "startup": false,
            "wait_interval": 0
          }
        }
      },
      "source": [
        "def train_linear_classifier_model(\n",
        "    learning_rate,\n",
        "    steps,\n",
        "    batch_size,\n",
        "    training_examples,\n",
        "    training_targets,\n",
        "    validation_examples,\n",
        "    validation_targets):\n",
        "  \"\"\"Trains a linear classification model.\n",
        "  \n",
        "  In addition to training, this function also prints training progress information,\n",
        "  as well as a plot of the training and validation loss over time.\n",
        "  \n",
        "  Args:\n",
        "    learning_rate: A `float`, the learning rate.\n",
        "    steps: A non-zero `int`, the total number of training steps. A training step\n",
        "      consists of a forward and backward pass using a single batch.\n",
        "    batch_size: A non-zero `int`, the batch size.\n",
        "    training_examples: A `DataFrame` containing one or more columns from\n",
        "      `california_housing_dataframe` to use as input features for training.\n",
        "    training_targets: A `DataFrame` containing exactly one column from\n",
        "      `california_housing_dataframe` to use as target for training.\n",
        "    validation_examples: A `DataFrame` containing one or more columns from\n",
        "      `california_housing_dataframe` to use as input features for validation.\n",
        "    validation_targets: A `DataFrame` containing exactly one column from\n",
        "      `california_housing_dataframe` to use as target for validation.\n",
        "      \n",
        "  Returns:\n",
        "    A `LinearClassifier` object trained on the training data.\n",
        "  \"\"\"\n",
        "\n",
        "  periods = 10\n",
        "  steps_per_period = steps / periods\n",
        "  \n",
        "  # Create a linear classifier object.\n",
        "  my_optimizer = tf.train.GradientDescentOptimizer(learning_rate=learning_rate)\n",
        "  my_optimizer = tf.contrib.estimator.clip_gradients_by_norm(my_optimizer, 5.0)\n",
        "  linear_classifier = # YOUR CODE HERE: Construct the linear classifier.\n",
        "  \n",
        "  # Create input functions.\n",
        "  training_input_fn = lambda: my_input_fn(training_examples, \n",
        "                                          training_targets[\"median_house_value_is_high\"], \n",
        "                                          batch_size=batch_size)\n",
        "  predict_training_input_fn = lambda: my_input_fn(training_examples, \n",
        "                                                  training_targets[\"median_house_value_is_high\"], \n",
        "                                                  num_epochs=1, \n",
        "                                                  shuffle=False)\n",
        "  predict_validation_input_fn = lambda: my_input_fn(validation_examples, \n",
        "                                                    validation_targets[\"median_house_value_is_high\"], \n",
        "                                                    num_epochs=1, \n",
        "                                                    shuffle=False)\n",
        "  \n",
        "  # Train the model, but do so inside a loop so that we can periodically assess\n",
        "  # loss metrics.\n",
        "  print(\"Training model...\")\n",
        "  print(\"LogLoss (on training data):\")\n",
        "  training_log_losses = []\n",
        "  validation_log_losses = []\n",
        "  for period in range (0, periods):\n",
        "    # Train the model, starting from the prior state.\n",
        "    linear_classifier.train(\n",
        "        input_fn=training_input_fn,\n",
        "        steps=steps_per_period\n",
        "    )\n",
        "    # Take a break and compute predictions.    \n",
        "    training_probabilities = linear_classifier.predict(input_fn=predict_training_input_fn)\n",
        "    training_probabilities = np.array([item['probabilities'] for item in training_probabilities])\n",
        "    \n",
        "    validation_probabilities = linear_classifier.predict(input_fn=predict_validation_input_fn)\n",
        "    validation_probabilities = np.array([item['probabilities'] for item in validation_probabilities])\n",
        "    \n",
        "    training_log_loss = metrics.log_loss(training_targets, training_probabilities)\n",
        "    validation_log_loss = metrics.log_loss(validation_targets, validation_probabilities)\n",
        "    # Occasionally print the current loss.\n",
        "    print(\"  period %02d : %0.2f\" % (period, training_log_loss))\n",
        "    # Add the loss metrics from this period to our list.\n",
        "    training_log_losses.append(training_log_loss)\n",
        "    validation_log_losses.append(validation_log_loss)\n",
        "  print(\"Model training finished.\")\n",
        "  \n",
        "  # Output a graph of loss metrics over periods.\n",
        "  plt.ylabel(\"LogLoss\")\n",
        "  plt.xlabel(\"Periods\")\n",
        "  plt.title(\"LogLoss vs. Periods\")\n",
        "  plt.tight_layout()\n",
        "  plt.plot(training_log_losses, label=\"training\")\n",
        "  plt.plot(validation_log_losses, label=\"validation\")\n",
        "  plt.legend()\n",
        "\n",
        "  return linear_classifier"
      ],
      "cell_type": "code",
      "execution_count": 0,
      "outputs": []
    },
    {
      "metadata": {
        "id": "VM0wmnFUIYH9",
        "colab_type": "code",
        "colab": {
          "autoexec": {
            "startup": false,
            "wait_interval": 0
          }
        }
      },
      "source": [
        "linear_classifier = train_linear_classifier_model(\n",
        "    learning_rate=0.000005,\n",
        "    steps=500,\n",
        "    batch_size=20,\n",
        "    training_examples=training_examples,\n",
        "    training_targets=training_targets,\n",
        "    validation_examples=validation_examples,\n",
        "    validation_targets=validation_targets)"
      ],
      "cell_type": "code",
      "execution_count": 0,
      "outputs": []
    },
    {
      "metadata": {
        "id": "i2e3TlyL57Qs",
        "colab_type": "text"
      },
      "cell_type": "markdown",
      "source": [
        " ### \u89e3\u51b3\u65b9\u6848\n",
        "\n",
        "\u70b9\u51fb\u4e0b\u65b9\u5373\u53ef\u67e5\u770b\u89e3\u51b3\u65b9\u6848\u3002\n",
        "\n",
        ""
      ]
    },
    {
      "metadata": {
        "id": "5YxXd2hn6MuF",
        "colab_type": "code",
        "colab": {
          "autoexec": {
            "startup": false,
            "wait_interval": 0
          }
        }
      },
      "source": [
        "def train_linear_classifier_model(\n",
        "    learning_rate,\n",
        "    steps,\n",
        "    batch_size,\n",
        "    training_examples,\n",
        "    training_targets,\n",
        "    validation_examples,\n",
        "    validation_targets):\n",
        "  \"\"\"Trains a linear classification model.\n",
        "  \n",
        "  In addition to training, this function also prints training progress information,\n",
        "  as well as a plot of the training and validation loss over time.\n",
        "  \n",
        "  Args:\n",
        "    learning_rate: A `float`, the learning rate.\n",
        "    steps: A non-zero `int`, the total number of training steps. A training step\n",
        "      consists of a forward and backward pass using a single batch.\n",
        "    batch_size: A non-zero `int`, the batch size.\n",
        "    training_examples: A `DataFrame` containing one or more columns from\n",
        "      `california_housing_dataframe` to use as input features for training.\n",
        "    training_targets: A `DataFrame` containing exactly one column from\n",
        "      `california_housing_dataframe` to use as target for training.\n",
        "    validation_examples: A `DataFrame` containing one or more columns from\n",
        "      `california_housing_dataframe` to use as input features for validation.\n",
        "    validation_targets: A `DataFrame` containing exactly one column from\n",
        "      `california_housing_dataframe` to use as target for validation.\n",
        "      \n",
        "  Returns:\n",
        "    A `LinearClassifier` object trained on the training data.\n",
        "  \"\"\"\n",
        "\n",
        "  periods = 10\n",
        "  steps_per_period = steps / periods\n",
        "  \n",
        "  # Create a linear classifier object.\n",
        "  my_optimizer = tf.train.GradientDescentOptimizer(learning_rate=learning_rate)\n",
        "  my_optimizer = tf.contrib.estimator.clip_gradients_by_norm(my_optimizer, 5.0)  \n",
        "  linear_classifier = tf.estimator.LinearClassifier(\n",
        "      feature_columns=construct_feature_columns(training_examples),\n",
        "      optimizer=my_optimizer\n",
        "  )\n",
        "  \n",
        "  # Create input functions.\n",
        "  training_input_fn = lambda: my_input_fn(training_examples, \n",
        "                                          training_targets[\"median_house_value_is_high\"], \n",
        "                                          batch_size=batch_size)\n",
        "  predict_training_input_fn = lambda: my_input_fn(training_examples, \n",
        "                                                  training_targets[\"median_house_value_is_high\"], \n",
        "                                                  num_epochs=1, \n",
        "                                                  shuffle=False)\n",
        "  predict_validation_input_fn = lambda: my_input_fn(validation_examples, \n",
        "                                                    validation_targets[\"median_house_value_is_high\"], \n",
        "                                                    num_epochs=1, \n",
        "                                                    shuffle=False)\n",
        "  \n",
        "  # Train the model, but do so inside a loop so that we can periodically assess\n",
        "  # loss metrics.\n",
        "  print(\"Training model...\")\n",
        "  print(\"LogLoss (on training data):\")\n",
        "  training_log_losses = []\n",
        "  validation_log_losses = []\n",
        "  for period in range (0, periods):\n",
        "    # Train the model, starting from the prior state.\n",
        "    linear_classifier.train(\n",
        "        input_fn=training_input_fn,\n",
        "        steps=steps_per_period\n",
        "    )\n",
        "    # Take a break and compute predictions.    \n",
        "    training_probabilities = linear_classifier.predict(input_fn=predict_training_input_fn)\n",
        "    training_probabilities = np.array([item['probabilities'] for item in training_probabilities])\n",
        "    \n",
        "    validation_probabilities = linear_classifier.predict(input_fn=predict_validation_input_fn)\n",
        "    validation_probabilities = np.array([item['probabilities'] for item in validation_probabilities])\n",
        "    \n",
        "    training_log_loss = metrics.log_loss(training_targets, training_probabilities)\n",
        "    validation_log_loss = metrics.log_loss(validation_targets, validation_probabilities)\n",
        "    # Occasionally print the current loss.\n",
        "    print(\"  period %02d : %0.2f\" % (period, training_log_loss))\n",
        "    # Add the loss metrics from this period to our list.\n",
        "    training_log_losses.append(training_log_loss)\n",
        "    validation_log_losses.append(validation_log_loss)\n",
        "  print(\"Model training finished.\")\n",
        "  \n",
        "  # Output a graph of loss metrics over periods.\n",
        "  plt.ylabel(\"LogLoss\")\n",
        "  plt.xlabel(\"Periods\")\n",
        "  plt.title(\"LogLoss vs. Periods\")\n",
        "  plt.tight_layout()\n",
        "  plt.plot(training_log_losses, label=\"training\")\n",
        "  plt.plot(validation_log_losses, label=\"validation\")\n",
        "  plt.legend()\n",
        "\n",
        "  return linear_classifier"
      ],
      "cell_type": "code",
      "execution_count": 0,
      "outputs": []
    },
    {
      "metadata": {
        "id": "UPM_T1FXsTaL",
        "colab_type": "code",
        "colab": {
          "autoexec": {
            "startup": false,
            "wait_interval": 0
          }
        }
      },
      "source": [
        "linear_classifier = train_linear_classifier_model(\n",
        "    learning_rate=0.000005,\n",
        "    steps=500,\n",
        "    batch_size=20,\n",
        "    training_examples=training_examples,\n",
        "    training_targets=training_targets,\n",
        "    validation_examples=validation_examples,\n",
        "    validation_targets=validation_targets)"
      ],
      "cell_type": "code",
      "execution_count": 0,
      "outputs": []
    },
    {
      "metadata": {
        "id": "i-Xo83_aR6s_",
        "colab_type": "text"
      },
      "cell_type": "markdown",
      "source": [
        " ## \u4efb\u52a1 3\uff1a\u8ba1\u7b97\u51c6\u786e\u7387\u5e76\u4e3a\u9a8c\u8bc1\u96c6\u7ed8\u5236 ROC \u66f2\u7ebf\n",
        "\n",
        "\u5206\u7c7b\u65f6\u975e\u5e38\u6709\u7528\u7684\u4e00\u4e9b\u6307\u6807\u5305\u62ec\uff1a\u6a21\u578b[\u51c6\u786e\u7387](https://en.wikipedia.org/wiki/Accuracy_and_precision#In_binary_classification)\u3001[ROC \u66f2\u7ebf](https://en.wikipedia.org/wiki/Receiver_operating_characteristic)\u548c ROC \u66f2\u7ebf\u4e0b\u9762\u79ef (AUC)\u3002\u6211\u4eec\u4f1a\u68c0\u67e5\u8fd9\u4e9b\u6307\u6807\u3002\n",
        "\n",
        "`LinearClassifier.evaluate` \u53ef\u8ba1\u7b97\u51c6\u786e\u7387\u548c AUC \u7b49\u5b9e\u7528\u6307\u6807\u3002"
      ]
    },
    {
      "metadata": {
        "id": "DKSQ87VVIYIA",
        "colab_type": "code",
        "colab": {
          "autoexec": {
            "startup": false,
            "wait_interval": 0
          }
        }
      },
      "source": [
        "evaluation_metrics = linear_classifier.evaluate(input_fn=predict_validation_input_fn)\n",
        "\n",
        "print(\"AUC on the validation set: %0.2f\" % evaluation_metrics['auc'])\n",
        "print(\"Accuracy on the validation set: %0.2f\" % evaluation_metrics['accuracy'])"
      ],
      "cell_type": "code",
      "execution_count": 0,
      "outputs": []
    },
    {
      "metadata": {
        "id": "47xGS2uNIYIE",
        "colab_type": "text"
      },
      "cell_type": "markdown",
      "source": [
        " \u60a8\u53ef\u4ee5\u4f7f\u7528\u7c7b\u522b\u6982\u7387\uff08\u4f8b\u5982\u7531 `LinearClassifier.predict` \n",
        "\u548c Sklearn \u7684 [roc_curve](http://scikit-learn.org/stable/modules/model_evaluation.html#roc-metrics) \u8ba1\u7b97\u7684\u6982\u7387\uff09\u6765\u83b7\u5f97\u7ed8\u5236 ROC \u66f2\u7ebf\u6240\u9700\u7684\u771f\u6b63\u4f8b\u7387\u548c\u5047\u6b63\u4f8b\u7387\u3002"
      ]
    },
    {
      "metadata": {
        "id": "xaU7ttj8IYIF",
        "colab_type": "code",
        "colab": {
          "autoexec": {
            "startup": false,
            "wait_interval": 0
          }
        }
      },
      "source": [
        "validation_probabilities = linear_classifier.predict(input_fn=predict_validation_input_fn)\n",
        "# Get just the probabilities for the positive class.\n",
        "validation_probabilities = np.array([item['probabilities'][1] for item in validation_probabilities])\n",
        "\n",
        "false_positive_rate, true_positive_rate, thresholds = metrics.roc_curve(\n",
        "    validation_targets, validation_probabilities)\n",
        "plt.plot(false_positive_rate, true_positive_rate, label=\"our model\")\n",
        "plt.plot([0, 1], [0, 1], label=\"random classifier\")\n",
        "_ = plt.legend(loc=2)"
      ],
      "cell_type": "code",
      "execution_count": 0,
      "outputs": []
    },
    {
      "metadata": {
        "id": "PIdhwfgzIYII",
        "colab_type": "text"
      },
      "cell_type": "markdown",
      "source": [
        " **\u770b\u770b\u60a8\u662f\u5426\u53ef\u4ee5\u8c03\u6574\u4efb\u52a1 2 \u4e2d\u8bad\u7ec3\u7684\u6a21\u578b\u7684\u5b66\u4e60\u8bbe\u7f6e\uff0c\u4ee5\u6539\u5584 AUC\u3002**\n",
        "\n",
        "\u901a\u5e38\u60c5\u51b5\u4e0b\uff0c\u67d0\u4e9b\u6307\u6807\u5728\u63d0\u5347\u7684\u540c\u65f6\u4f1a\u635f\u5bb3\u5176\u4ed6\u6307\u6807\uff0c\u56e0\u6b64\u60a8\u9700\u8981\u627e\u5230\u53ef\u4ee5\u5b9e\u73b0\u7406\u60f3\u6298\u4e2d\u60c5\u51b5\u7684\u8bbe\u7f6e\u3002\n",
        "\n",
        "**\u9a8c\u8bc1\u6240\u6709\u6307\u6807\u662f\u5426\u540c\u65f6\u6709\u6240\u63d0\u5347\u3002**"
      ]
    },
    {
      "metadata": {
        "id": "XKIqjsqcCaxO",
        "colab_type": "code",
        "colab": {
          "autoexec": {
            "startup": false,
            "wait_interval": 0
          }
        }
      },
      "source": [
        "# TUNE THE SETTINGS BELOW TO IMPROVE AUC\n",
        "linear_classifier = train_linear_classifier_model(\n",
        "    learning_rate=0.000005,\n",
        "    steps=500,\n",
        "    batch_size=20,\n",
        "    training_examples=training_examples,\n",
        "    training_targets=training_targets,\n",
        "    validation_examples=validation_examples,\n",
        "    validation_targets=validation_targets)\n",
        "\n",
        "evaluation_metrics = linear_classifier.evaluate(input_fn=predict_validation_input_fn)\n",
        "\n",
        "print(\"AUC on the validation set: %0.2f\" % evaluation_metrics['auc'])\n",
        "print(\"Accuracy on the validation set: %0.2f\" % evaluation_metrics['accuracy'])"
      ],
      "cell_type": "code",
      "execution_count": 0,
      "outputs": []
    },
    {
      "metadata": {
        "id": "wCugvl0JdWYL",
        "colab_type": "text"
      },
      "cell_type": "markdown",
      "source": [
        " ### \u89e3\u51b3\u65b9\u6848\n",
        "\n",
        "\u70b9\u51fb\u4e0b\u65b9\u5373\u53ef\u67e5\u770b\u53ef\u80fd\u7684\u89e3\u51b3\u65b9\u6848\u3002"
      ]
    },
    {
      "metadata": {
        "id": "VHosS1g2aetf",
        "colab_type": "text"
      },
      "cell_type": "markdown",
      "source": [
        " \u4e00\u4e2a\u53ef\u80fd\u6709\u7528\u7684\u89e3\u51b3\u65b9\u6848\u662f\uff0c\u53ea\u8981\u4e0d\u8fc7\u62df\u5408\uff0c\u5c31\u8bad\u7ec3\u66f4\u957f\u65f6\u95f4\u3002\n",
        "\n",
        "\u8981\u505a\u5230\u8fd9\u4e00\u70b9\uff0c\u6211\u4eec\u53ef\u4ee5\u589e\u52a0\u6b65\u6570\u548c/\u6216\u6279\u91cf\u5927\u5c0f\u3002\n",
        "\n",
        "\u6240\u6709\u6307\u6807\u540c\u65f6\u63d0\u5347\uff0c\u8fd9\u6837\uff0c\u6211\u4eec\u7684\u635f\u5931\u6307\u6807\u5c31\u53ef\u4ee5\u5f88\u597d\u5730\u4ee3\u7406 AUC \u548c\u51c6\u786e\u7387\u4e86\u3002\n",
        "\n",
        "\u6ce8\u610f\u5b83\u662f\u5982\u4f55\u8fdb\u884c\u5f88\u591a\u5f88\u591a\u6b21\u8fed\u4ee3\uff0c\u53ea\u662f\u4e3a\u4e86\u518d\u5c3d\u91cf\u589e\u52a0\u4e00\u70b9 AUC\u3002\u8fd9\u79cd\u60c5\u51b5\u5f88\u5e38\u89c1\uff0c\u4f46\u901a\u5e38\u60c5\u51b5\u4e0b\uff0c\u5373\u4f7f\u53ea\u6709\u4e00\u70b9\u5c0f\u5c0f\u7684\u6536\u83b7\uff0c\u6295\u5165\u7684\u6210\u672c\u4e5f\u662f\u503c\u5f97\u7684\u3002"
      ]
    },
    {
      "metadata": {
        "id": "dWgTEYMddaA-",
        "colab_type": "code",
        "colab": {
          "autoexec": {
            "startup": false,
            "wait_interval": 0
          }
        }
      },
      "source": [
        "linear_classifier = train_linear_classifier_model(\n",
        "    learning_rate=0.000003,\n",
        "    steps=20000,\n",
        "    batch_size=500,\n",
        "    training_examples=training_examples,\n",
        "    training_targets=training_targets,\n",
        "    validation_examples=validation_examples,\n",
        "    validation_targets=validation_targets)\n",
        "\n",
        "evaluation_metrics = linear_classifier.evaluate(input_fn=predict_validation_input_fn)\n",
        "\n",
        "print(\"AUC on the validation set: %0.2f\" % evaluation_metrics['auc'])\n",
        "print(\"Accuracy on the validation set: %0.2f\" % evaluation_metrics['accuracy'])"
      ],
      "cell_type": "code",
      "execution_count": 0,
      "outputs": []
    }
  ]
}
