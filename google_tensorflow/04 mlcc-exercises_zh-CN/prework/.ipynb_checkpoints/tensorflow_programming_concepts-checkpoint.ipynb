{
 "cells": [
  {
   "cell_type": "markdown",
   "metadata": {
    "colab_type": "text",
    "id": "copyright-notice"
   },
   "source": [
    "#### Copyright 2017 Google LLC."
   ]
  },
  {
   "cell_type": "code",
   "execution_count": 1,
   "metadata": {
    "cellView": "both",
    "colab": {
     "autoexec": {
      "startup": false,
      "wait_interval": 0
     }
    },
    "colab_type": "code",
    "id": "copyright-notice2"
   },
   "outputs": [],
   "source": [
    "# Licensed under the Apache License, Version 2.0 (the \"License\");\n",
    "# you may not use this file except in compliance with the License.\n",
    "# You may obtain a copy of the License at\n",
    "#\n",
    "# https://www.apache.org/licenses/LICENSE-2.0\n",
    "#\n",
    "# Unless required by applicable law or agreed to in writing, software\n",
    "# distributed under the License is distributed on an \"AS IS\" BASIS,\n",
    "# WITHOUT WARRANTIES OR CONDITIONS OF ANY KIND, either express or implied.\n",
    "# See the License for the specific language governing permissions and\n",
    "# limitations under the License."
   ]
  },
  {
   "cell_type": "markdown",
   "metadata": {
    "colab_type": "text",
    "id": "rFpcvnCJ4Xkf"
   },
   "source": [
    " # TensorFlow 编程概念"
   ]
  },
  {
   "cell_type": "markdown",
   "metadata": {
    "colab_type": "text",
    "id": "9IkBOsrNzahz"
   },
   "source": [
    " **学习目标：**\n",
    "  * 学习 TensorFlow 编程模型的基础知识，重点了解以下概念：\n",
    "    * 张量\n",
    "    * 指令\n",
    "    * 图\n",
    "    * 会话\n",
    "  * 构建一个简单的 TensorFlow 程序，使用该程序绘制一个默认图并创建一个运行该图的会话"
   ]
  },
  {
   "cell_type": "markdown",
   "metadata": {
    "colab_type": "text",
    "id": "YMG9mHPdzahz"
   },
   "source": [
    " **注意：**请仔细阅读本教程。TensorFlow 编程模型很可能与您遇到的其他模型不同，因此可能不如您期望的那样直观。"
   ]
  },
  {
   "cell_type": "markdown",
   "metadata": {
    "colab_type": "text",
    "id": "NzKsjX-ufyVY"
   },
   "source": [
    " ## 概念概览\n",
    "\n",
    "TensorFlow 的名称源自**张量**，张量是任意维度的数组。借助 TensorFlow，您可以操控具有大量维度的张量。即便如此，在大多数情况下，您会使用以下一个或多个低维张量：\n",
    "\n",
    "  * **标量**是零维数组（零阶张量）。例如，`\\'Howdy\\'` 或 `5`\n",
    "  * **矢量**是一维数组（一阶张量）。例如，`[2, 3, 5, 7, 11]` 或 `[5]`\n",
    "  * **矩阵**是二维数组（二阶张量）。例如，`[[3.1, 8.2, 5.9][4.3, -2.7, 6.5]]`\n",
    "\n",
    "TensorFlow **指令**会创建、销毁和操控张量。典型 TensorFlow 程序中的大多数代码行都是指令。\n",
    "\n",
    "TensorFlow **图**（也称为**计算图**或**数据流图**）是一种图数据结构。很多 TensorFlow 程序由单个图构成，但是 TensorFlow 程序可以选择创建多个图。图的节点是指令；图的边是张量。张量流经图，在每个节点由一个指令操控。一个指令的输出张量通常会变成后续指令的输入张量。TensorFlow 会实现**延迟执行模型**，意味着系统仅会根据相关节点的需求在需要时计算节点。\n",
    "\n",
    "张量可以作为**常量**或**变量**存储在图中。您可能已经猜到，常量存储的是值不会发生更改的张量，而变量存储的是值会发生更改的张量。不过，您可能没有猜到的是，常量和变量都只是图中的一种指令。常量是始终会返回同一张量值的指令。变量是会返回分配给它的任何张量的指令。\n",
    "\n",
    "要定义常量，请使用 `tf.constant` 指令，并传入它的值。例如：\n",
    "\n",
    "```\n",
    "  x = tf.constant([5.2])\n",
    "```\n",
    "\n",
    "同样，您可以创建如下变量：\n",
    "\n",
    "```\n",
    "  y = tf.Variable([5])\n",
    "```\n",
    "\n",
    "或者，您也可以先创建变量，然后再如下所示地分配一个值（注意：您始终需要指定一个默认值）：\n",
    "\n",
    "```\n",
    "  y = tf.Variable([0])\n",
    "  y = y.assign([5])\n",
    "```\n",
    "\n",
    "定义一些常量或变量后，您可以将它们与其他指令（如 `tf.add`）结合使用。在评估 `tf.add` 指令时，它会调用您的 `tf.constant` 或 `tf.Variable` 指令，以获取它们的值，然后返回一个包含这些值之和的新张量。\n",
    "\n",
    "图必须在 TensorFlow **会话**中运行，会话存储了它所运行的图的状态：\n",
    "\n",
    "```\n",
    "将 tf.Session() 作为会话：\n",
    "  initialization = tf.global_variables_initializer()\n",
    "  print(y.eval())\n",
    "```\n",
    "\n",
    "在使用 `tf.Variable` 时，您必须在会话开始时调用 `tf.global_variables_initializer`，以明确初始化这些变量，如上所示。\n",
    "\n",
    "**注意：**会话可以将图分发到多个机器上执行（假设程序在某个分布式计算框架上运行）。有关详情，请参阅[分布式 TensorFlow](https://www.tensorflow.org/deploy/distributed)。\n",
    "\n",
    "### 总结\n",
    "\n",
    "TensorFlow 编程本质上是一个两步流程：\n",
    "\n",
    "1. 将常量、变量和指令整合到一个图中。\n",
    "2. 在一个会话中评估这些常量、变量和指令。\n"
   ]
  },
  {
   "cell_type": "markdown",
   "metadata": {
    "colab_type": "text",
    "id": "VL0yWNNdgBpG"
   },
   "source": [
    " ## 创建一个简单的 TensorFlow 程序\n",
    "\n",
    "我们来看看如何编写一个将两个常量相加的简单 TensorFlow 程序。"
   ]
  },
  {
   "cell_type": "markdown",
   "metadata": {
    "colab_type": "text",
    "id": "mN4R0gmMzah3"
   },
   "source": [
    " ### 添加 import 语句\n",
    "\n",
    "与几乎所有 Python 程序一样，您首先要添加一些 `import` 语句。\n",
    "当然，运行 TensorFlow 程序所需的 `import` 语句组合取决于您的程序将要访问的功能。至少，您必须在所有 TensorFlow 程序中添加 `import tensorflow` 语句："
   ]
  },
  {
   "cell_type": "code",
   "execution_count": 0,
   "metadata": {
    "colab": {
     "autoexec": {
      "startup": false,
      "wait_interval": 0
     }
    },
    "colab_type": "code",
    "id": "SDbi6heigEGA"
   },
   "outputs": [],
   "source": [
    "import tensorflow as tf"
   ]
  },
  {
   "cell_type": "markdown",
   "metadata": {
    "colab_type": "text",
    "id": "6RRT4YIA4fQd"
   },
   "source": [
    " **请勿忘记执行前面的代码块（`import` 语句）。**\n",
    "\n",
    "其他常见的 import 语句包括：\n",
    "\n",
    "```\n",
    "import matplotlib.pyplot as plt # 数据集可视化。\n",
    "import numpy as np              # 低级数字 Python 库。\n",
    "import pandas as pd             # 较高级别的数字 Python 库。\n",
    "```"
   ]
  },
  {
   "cell_type": "markdown",
   "metadata": {
    "colab_type": "text",
    "id": "1aNpvufRgbTD"
   },
   "source": [
    " TensorFlow 提供了一个**默认图**。不过，我们建议您明确创建自己的 `Graph`，以便跟踪状态（例如，您可能希望在每个单元格中使用一个不同的 `Graph`）。"
   ]
  },
  {
   "cell_type": "code",
   "execution_count": 0,
   "metadata": {
    "colab": {
     "autoexec": {
      "startup": false,
      "wait_interval": 0
     }
    },
    "colab_type": "code",
    "id": "Md8ze8e9geMi"
   },
   "outputs": [],
   "source": [
    "from __future__ import print_function\n",
    "\n",
    "import tensorflow as tf\n",
    "\n",
    "# Create a graph.\n",
    "g = tf.Graph()\n",
    "\n",
    "# Establish the graph as the \"default\" graph.\n",
    "with g.as_default():\n",
    "  # Assemble a graph consisting of the following three operations:\n",
    "  #   * Two tf.constant operations to create the operands.\n",
    "  #   * One tf.add operation to add the two operands.\n",
    "  x = tf.constant(8, name=\"x_const\")\n",
    "  y = tf.constant(5, name=\"y_const\")\n",
    "  sum = tf.add(x, y, name=\"x_y_sum\")\n",
    "\n",
    "\n",
    "  # Now create a session.\n",
    "  # The session will run the default graph.\n",
    "  with tf.Session() as sess:\n",
    "    print(sum.eval())"
   ]
  },
  {
   "cell_type": "markdown",
   "metadata": {
    "colab_type": "text",
    "id": "7mSz5GVqggZy"
   },
   "source": [
    " ## 练习：引入第三个运算数\n",
    "\n",
    "修改上面的代码列表，以将三个整数（而不是两个）相加：\n",
    "\n",
    "  1. 定义第三个标量整数常量 `z`，并为其分配一个值 `4`。\n",
    "  2. 将 `sum` 与 `z` 相加，以得出一个新的和。\n",
    "  \n",
    "  **提示：**请参阅有关 [tf.add()](https://www.tensorflow.org/api_docs/python/tf/add) 的 API 文档，了解有关其函数签名的更多详细信息。\n",
    "  \n",
    "  3. 重新运行修改后的代码块。该程序是否生成了正确的总和？"
   ]
  },
  {
   "cell_type": "markdown",
   "metadata": {
    "colab_type": "text",
    "id": "Zep4W80H9awM"
   },
   "source": [
    " ### 解决方案\n",
    "\n",
    "点击下方，查看解决方案。"
   ]
  },
  {
   "cell_type": "code",
   "execution_count": 0,
   "metadata": {
    "colab": {
     "autoexec": {
      "startup": false,
      "wait_interval": 0
     }
    },
    "colab_type": "code",
    "id": "4OTZPqhS9kzu"
   },
   "outputs": [],
   "source": [
    "# Create a graph.\n",
    "g = tf.Graph()\n",
    "\n",
    "# Establish our graph as the \"default\" graph.\n",
    "with g.as_default():\n",
    "  # Assemble a graph consisting of three operations. \n",
    "  # (Creating a tensor is an operation.)\n",
    "  x = tf.constant(8, name=\"x_const\")\n",
    "  y = tf.constant(5, name=\"y_const\")\n",
    "  sum = tf.add(x, y, name=\"x_y_sum\")\n",
    "  \n",
    "  # Task 1: Define a third scalar integer constant z.\n",
    "  z = tf.constant(4, name=\"z_const\")\n",
    "  # Task 2: Add z to `sum` to yield a new sum.\n",
    "  new_sum = tf.add(sum, z, name=\"x_y_z_sum\")\n",
    "\n",
    "  # Now create a session.\n",
    "  # The session will run the default graph.\n",
    "  with tf.Session() as sess:\n",
    "    # Task 3: Ensure the program yields the correct grand total.\n",
    "    print(new_sum.eval())"
   ]
  },
  {
   "cell_type": "markdown",
   "metadata": {
    "colab_type": "text",
    "id": "BrlnLTesgywL"
   },
   "source": [
    " ## 更多信息\n",
    "\n",
    "要进一步探索基本 TensorFlow 图，请使用以下教程进行实验：\n",
    "\n",
    "  * [Mandelbrot 集](https://www.tensorflow.org/tutorials/non-ml/mandelbrot)"
   ]
  }
 ],
 "metadata": {
  "colab": {
   "collapsed_sections": [
    "Zep4W80H9awM",
    "copyright-notice"
   ],
   "default_view": {},
   "name": "tensorflow_programming_concepts.ipynb",
   "version": "0.3.2",
   "views": {}
  },
  "kernelspec": {
   "display_name": "Python 3",
   "language": "python",
   "name": "python3"
  },
  "language_info": {
   "codemirror_mode": {
    "name": "ipython",
    "version": 3
   },
   "file_extension": ".py",
   "mimetype": "text/x-python",
   "name": "python",
   "nbconvert_exporter": "python",
   "pygments_lexer": "ipython3",
   "version": "3.5.4"
  }
 },
 "nbformat": 4,
 "nbformat_minor": 1
}
